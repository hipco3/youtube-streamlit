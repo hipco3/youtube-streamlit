{
 "cells": [
  {
   "cell_type": "code",
   "execution_count": 1,
   "id": "ebfa86f6",
   "metadata": {},
   "outputs": [
    {
     "data": {
      "text/plain": [
       "{'A': '今西', 'B': '公平', 'C': '男性', 'D': '東京', 'E': '海外旅行'}"
      ]
     },
     "execution_count": 1,
     "metadata": {},
     "output_type": "execute_result"
    }
   ],
   "source": [
    "dictionary={\n",
    "    'A':'今西',\n",
    "    'B':'公平',\n",
    "    'C':'男性',\n",
    "    'D':'東京',\n",
    "    'E':'海外旅行'\n",
    "}\n",
    "dictionary"
   ]
  },
  {
   "cell_type": "code",
   "execution_count": 2,
   "id": "92b6628e",
   "metadata": {},
   "outputs": [
    {
     "data": {
      "text/plain": [
       "dict_keys(['A', 'B', 'C', 'D', 'E'])"
      ]
     },
     "execution_count": 2,
     "metadata": {},
     "output_type": "execute_result"
    }
   ],
   "source": [
    "dictionary.keys()#21keyのみ表示"
   ]
  },
  {
   "cell_type": "code",
   "execution_count": 3,
   "id": "86890284",
   "metadata": {},
   "outputs": [
    {
     "data": {
      "text/plain": [
       "dict_values(['今西', '公平', '男性', '東京', '海外旅行'])"
      ]
     },
     "execution_count": 3,
     "metadata": {},
     "output_type": "execute_result"
    }
   ],
   "source": [
    "dictionary.values()#値のみ"
   ]
  },
  {
   "cell_type": "code",
   "execution_count": 4,
   "id": "da6146cb",
   "metadata": {},
   "outputs": [
    {
     "data": {
      "text/plain": [
       "True"
      ]
     },
     "execution_count": 4,
     "metadata": {},
     "output_type": "execute_result"
    }
   ],
   "source": [
    "'男性' in dictionary.values()#21情報の取得。ある値があるかどうか"
   ]
  },
  {
   "cell_type": "code",
   "execution_count": 5,
   "id": "9783a336",
   "metadata": {},
   "outputs": [
    {
     "name": "stdout",
     "output_type": "stream",
     "text": [
      "キーはAで、値は今西です\n",
      "キーはBで、値は公平です\n",
      "キーはCで、値は男性です\n",
      "キーはDで、値は東京です\n",
      "キーはEで、値は海外旅行です\n"
     ]
    }
   ],
   "source": [
    "for key, value in dictionary.items():\n",
    "    print(f'キーは{key}で、値は{value}です')"
   ]
  },
  {
   "cell_type": "code",
   "execution_count": 6,
   "id": "482a2ca5",
   "metadata": {},
   "outputs": [
    {
     "data": {
      "text/plain": [
       "{'A': '今西', 'B': '公平', 'C': '男性', 'D': '東京', 'E': '海外旅行'}"
      ]
     },
     "execution_count": 6,
     "metadata": {},
     "output_type": "execute_result"
    }
   ],
   "source": [
    "dictionary"
   ]
  },
  {
   "cell_type": "code",
   "execution_count": 9,
   "id": "26e177b4",
   "metadata": {},
   "outputs": [
    {
     "data": {
      "text/plain": [
       "'海外旅行'"
      ]
     },
     "execution_count": 9,
     "metadata": {},
     "output_type": "execute_result"
    }
   ],
   "source": [
    "dictionary['E']#22辞書内の要素検索\n"
   ]
  },
  {
   "cell_type": "code",
   "execution_count": 10,
   "id": "a0362828",
   "metadata": {},
   "outputs": [
    {
     "data": {
      "text/plain": [
       "'海外旅行'"
      ]
     },
     "execution_count": 10,
     "metadata": {},
     "output_type": "execute_result"
    }
   ],
   "source": [
    "dictionary.get('E')#22もう一つのやり方"
   ]
  },
  {
   "cell_type": "code",
   "execution_count": 11,
   "id": "464504bb",
   "metadata": {},
   "outputs": [
    {
     "name": "stdout",
     "output_type": "stream",
     "text": [
      "負の値です\n"
     ]
    }
   ],
   "source": [
    "num=-1#23 if文\n",
    "if num >0:\n",
    "    print('正の値です')\n",
    "elif num ==0:\n",
    "    print('値は０です')\n",
    "else:\n",
    "    print('負の値です')"
   ]
  },
  {
   "cell_type": "code",
   "execution_count": 13,
   "id": "a1fe6282",
   "metadata": {},
   "outputs": [
    {
     "name": "stdout",
     "output_type": "stream",
     "text": [
      "1桁の偶数です\n"
     ]
    }
   ],
   "source": [
    "a=4\n",
    "\n",
    "if 0<= a <10 and a%2==0:\n",
    "    print('1桁の偶数です')\n",
    "elif a<0 and a%2 ==1:\n",
    "    print('負の奇数')\n",
    "else:\n",
    "    print('整数です')"
   ]
  },
  {
   "cell_type": "code",
   "execution_count": 14,
   "id": "3a52e2c4",
   "metadata": {},
   "outputs": [],
   "source": [
    "names=['yoshiko','keiko','rika']#25リストの要素表示"
   ]
  },
  {
   "cell_type": "code",
   "execution_count": 15,
   "id": "7ecb73fa",
   "metadata": {},
   "outputs": [
    {
     "name": "stdout",
     "output_type": "stream",
     "text": [
      "yoshiko\n",
      "keiko\n",
      "rika\n"
     ]
    }
   ],
   "source": [
    "for name in names:\n",
    "    print(name)"
   ]
  },
  {
   "cell_type": "code",
   "execution_count": 16,
   "id": "8a64d0ea",
   "metadata": {},
   "outputs": [
    {
     "name": "stdout",
     "output_type": "stream",
     "text": [
      "0\n",
      "1\n",
      "2\n",
      "3\n",
      "4\n",
      "5\n",
      "6\n",
      "7\n",
      "8\n",
      "9\n"
     ]
    }
   ],
   "source": [
    "for i in range(10):#range関数\n",
    "    print(i)"
   ]
  },
  {
   "cell_type": "code",
   "execution_count": 17,
   "id": "f774c861",
   "metadata": {},
   "outputs": [
    {
     "name": "stdout",
     "output_type": "stream",
     "text": [
      "10\n",
      "11\n",
      "12\n",
      "13\n",
      "14\n",
      "15\n",
      "16\n",
      "17\n",
      "18\n",
      "19\n"
     ]
    }
   ],
   "source": [
    "for i in range(10,20):#10スタートで２０個\n",
    "    print(i)"
   ]
  },
  {
   "cell_type": "code",
   "execution_count": 18,
   "id": "2d2c1878",
   "metadata": {},
   "outputs": [
    {
     "name": "stdout",
     "output_type": "stream",
     "text": [
      "0\n",
      "1\n",
      "2\n",
      "3\n",
      "4\n",
      "5\n",
      "終了\n"
     ]
    }
   ],
   "source": [
    "for i in range(10):#27強制終了\n",
    "    if i == 6:\n",
    "        print('終了')\n",
    "        break\n",
    "    print(i)"
   ]
  },
  {
   "cell_type": "code",
   "execution_count": 19,
   "id": "2cadcd27",
   "metadata": {},
   "outputs": [
    {
     "name": "stdout",
     "output_type": "stream",
     "text": [
      "0\n",
      "1\n",
      "2\n",
      "4\n",
      "5\n",
      "6\n",
      "7\n",
      "8\n",
      "9\n"
     ]
    }
   ],
   "source": [
    "for i in range(10):#28ループの途中で特定の処理を実行\n",
    "    if i == 3:\n",
    "        continue　#3の分だけとばす\n",
    "    print(i)"
   ]
  },
  {
   "cell_type": "code",
   "execution_count": 20,
   "id": "188c5d99",
   "metadata": {},
   "outputs": [
    {
     "name": "stdout",
     "output_type": "stream",
     "text": [
      "加藤雄一\n",
      "かまど丹次郎\n",
      "宮本ねずこ\n"
     ]
    }
   ],
   "source": [
    "lasts=['加藤','かまど','宮本']#29複数のリスト同時処理\n",
    "firsts=['雄一','丹次郎','ねずこ']\n",
    "\n",
    "for last, first in zip(lasts,firsts):\n",
    "    print(last+first)"
   ]
  },
  {
   "cell_type": "code",
   "execution_count": 22,
   "id": "d3cbcd29",
   "metadata": {},
   "outputs": [
    {
     "name": "stdout",
     "output_type": "stream",
     "text": [
      "0番目の加藤さん\n",
      "1番目のかまどさん\n",
      "2番目の宮本さん\n"
     ]
    }
   ],
   "source": [
    "for i, last in enumerate(lasts):#30要素と同時にインデックス情報取得\n",
    "    print(f'{i}番目の{last}さん')"
   ]
  },
  {
   "cell_type": "code",
   "execution_count": 1,
   "id": "f6eb03bd",
   "metadata": {},
   "outputs": [
    {
     "data": {
      "text/plain": [
       "[]"
      ]
     },
     "execution_count": 1,
     "metadata": {},
     "output_type": "execute_result"
    }
   ],
   "source": [
    "nums=[]#31内包表記\n",
    "nums"
   ]
  },
  {
   "cell_type": "code",
   "execution_count": 2,
   "id": "296d952a",
   "metadata": {},
   "outputs": [],
   "source": [
    "for i in range(5):\n",
    "    nums.append(2*i)"
   ]
  },
  {
   "cell_type": "code",
   "execution_count": 3,
   "id": "620e8585",
   "metadata": {},
   "outputs": [
    {
     "data": {
      "text/plain": [
       "[0, 2, 4, 6, 8]"
      ]
     },
     "execution_count": 3,
     "metadata": {},
     "output_type": "execute_result"
    }
   ],
   "source": [
    "nums"
   ]
  },
  {
   "cell_type": "code",
   "execution_count": 4,
   "id": "7b058b74",
   "metadata": {},
   "outputs": [
    {
     "data": {
      "text/plain": [
       "[0, 2, 4, 6, 8]"
      ]
     },
     "execution_count": 4,
     "metadata": {},
     "output_type": "execute_result"
    }
   ],
   "source": [
    "numbers=[2*i for i in range(5)]#上と同じ結果。一行で書く方法を内包表記とよぶ\n",
    "numbers"
   ]
  },
  {
   "cell_type": "code",
   "execution_count": 8,
   "id": "a4dce56e",
   "metadata": {},
   "outputs": [
    {
     "name": "stdout",
     "output_type": "stream",
     "text": [
      "エラー\n"
     ]
    }
   ],
   "source": [
    "#32　エラーの表示\n",
    "num=0\n",
    "try:\n",
    "    print(f'計算結果:{10/num}')\n",
    "except:\n",
    "    print('エラー')"
   ]
  },
  {
   "cell_type": "code",
   "execution_count": 12,
   "id": "58deffa3",
   "metadata": {},
   "outputs": [
    {
     "name": "stdout",
     "output_type": "stream",
     "text": [
      "division by zero\n"
     ]
    }
   ],
   "source": [
    "#33 具体的なエラー内容\n",
    "num=0\n",
    "try:\n",
    "    print(f'計算結果:{10/num}')\n",
    "except ZeroDivisionError as e:#下のエラー参照\n",
    "    print(e)"
   ]
  },
  {
   "cell_type": "code",
   "execution_count": 11,
   "id": "91638c93",
   "metadata": {},
   "outputs": [
    {
     "ename": "ZeroDivisionError",
     "evalue": "division by zero",
     "output_type": "error",
     "traceback": [
      "\u001b[1;31m---------------------------------------------------------------------------\u001b[0m",
      "\u001b[1;31mZeroDivisionError\u001b[0m                         Traceback (most recent call last)",
      "\u001b[1;32m<ipython-input-11-4da167bd9cc0>\u001b[0m in \u001b[0;36m<module>\u001b[1;34m\u001b[0m\n\u001b[0;32m      1\u001b[0m \u001b[0mnum\u001b[0m\u001b[1;33m=\u001b[0m\u001b[1;36m0\u001b[0m\u001b[1;33m\u001b[0m\u001b[1;33m\u001b[0m\u001b[0m\n\u001b[0;32m      2\u001b[0m \u001b[1;33m\u001b[0m\u001b[0m\n\u001b[1;32m----> 3\u001b[1;33m \u001b[0mprint\u001b[0m\u001b[1;33m(\u001b[0m\u001b[1;34mf'計算結果:{10/num}'\u001b[0m\u001b[1;33m)\u001b[0m\u001b[1;33m\u001b[0m\u001b[1;33m\u001b[0m\u001b[0m\n\u001b[0m",
      "\u001b[1;31mZeroDivisionError\u001b[0m: division by zero"
     ]
    }
   ],
   "source": [
    "num=0\n",
    "\n",
    "print(f'計算結果:{10/num}')"
   ]
  },
  {
   "cell_type": "code",
   "execution_count": 13,
   "id": "b224dea5",
   "metadata": {},
   "outputs": [],
   "source": [
    "#34\n",
    "def divide(a,b):\n",
    "    try:\n",
    "        print(f'計算結果：{a/b}')\n",
    "    except ZeroDivisionError as e:#下のエラー参照\n",
    "        print(e)"
   ]
  },
  {
   "cell_type": "code",
   "execution_count": 15,
   "id": "0c61a2d1",
   "metadata": {},
   "outputs": [
    {
     "name": "stdout",
     "output_type": "stream",
     "text": [
      "division by zero\n"
     ]
    }
   ],
   "source": [
    "divide(10,0)"
   ]
  },
  {
   "cell_type": "code",
   "execution_count": 17,
   "id": "3ad1b22b",
   "metadata": {},
   "outputs": [
    {
     "ename": "TypeError",
     "evalue": "unsupported operand type(s) for /: 'int' and 'str'",
     "output_type": "error",
     "traceback": [
      "\u001b[1;31m---------------------------------------------------------------------------\u001b[0m",
      "\u001b[1;31mTypeError\u001b[0m                                 Traceback (most recent call last)",
      "\u001b[1;32m<ipython-input-17-e2d86b859532>\u001b[0m in \u001b[0;36m<module>\u001b[1;34m\u001b[0m\n\u001b[1;32m----> 1\u001b[1;33m \u001b[0mdivide\u001b[0m\u001b[1;33m(\u001b[0m\u001b[1;36m10\u001b[0m\u001b[1;33m,\u001b[0m\u001b[1;34m'zero'\u001b[0m\u001b[1;33m)\u001b[0m\u001b[1;33m\u001b[0m\u001b[1;33m\u001b[0m\u001b[0m\n\u001b[0m",
      "\u001b[1;32m<ipython-input-13-4d0b2a4a6014>\u001b[0m in \u001b[0;36mdivide\u001b[1;34m(a, b)\u001b[0m\n\u001b[0;32m      2\u001b[0m \u001b[1;32mdef\u001b[0m \u001b[0mdivide\u001b[0m\u001b[1;33m(\u001b[0m\u001b[0ma\u001b[0m\u001b[1;33m,\u001b[0m\u001b[0mb\u001b[0m\u001b[1;33m)\u001b[0m\u001b[1;33m:\u001b[0m\u001b[1;33m\u001b[0m\u001b[1;33m\u001b[0m\u001b[0m\n\u001b[0;32m      3\u001b[0m     \u001b[1;32mtry\u001b[0m\u001b[1;33m:\u001b[0m\u001b[1;33m\u001b[0m\u001b[1;33m\u001b[0m\u001b[0m\n\u001b[1;32m----> 4\u001b[1;33m         \u001b[0mprint\u001b[0m\u001b[1;33m(\u001b[0m\u001b[1;34mf'計算結果：{a/b}'\u001b[0m\u001b[1;33m)\u001b[0m\u001b[1;33m\u001b[0m\u001b[1;33m\u001b[0m\u001b[0m\n\u001b[0m\u001b[0;32m      5\u001b[0m     \u001b[1;32mexcept\u001b[0m \u001b[0mZeroDivisionError\u001b[0m \u001b[1;32mas\u001b[0m \u001b[0me\u001b[0m\u001b[1;33m:\u001b[0m\u001b[1;31m#下のエラー参照\u001b[0m\u001b[1;33m\u001b[0m\u001b[1;33m\u001b[0m\u001b[0m\n\u001b[0;32m      6\u001b[0m         \u001b[0mprint\u001b[0m\u001b[1;33m(\u001b[0m\u001b[0me\u001b[0m\u001b[1;33m)\u001b[0m\u001b[1;33m\u001b[0m\u001b[1;33m\u001b[0m\u001b[0m\n",
      "\u001b[1;31mTypeError\u001b[0m: unsupported operand type(s) for /: 'int' and 'str'"
     ]
    }
   ],
   "source": [
    "divide(10,'zero')"
   ]
  },
  {
   "cell_type": "code",
   "execution_count": 18,
   "id": "60ed5561",
   "metadata": {},
   "outputs": [],
   "source": [
    "#34\n",
    "def divide(a,b):\n",
    "    try:\n",
    "        print(f'計算結果：{a/b}')\n",
    "    except ZeroDivisionError as e:#下のエラー参照\n",
    "        print(e)\n",
    "    except TypeError as e:\n",
    "        print(e)"
   ]
  },
  {
   "cell_type": "code",
   "execution_count": 19,
   "id": "5320c8e6",
   "metadata": {},
   "outputs": [
    {
     "name": "stdout",
     "output_type": "stream",
     "text": [
      "unsupported operand type(s) for /: 'int' and 'str'\n"
     ]
    }
   ],
   "source": [
    "divide(10,'zero')"
   ]
  },
  {
   "cell_type": "code",
   "execution_count": 20,
   "id": "d3ae0c7e",
   "metadata": {},
   "outputs": [],
   "source": [
    "#35\n",
    "def divide(a,b):\n",
    "    try:\n",
    "        print(f'計算結果：{a/b}')\n",
    "    except ZeroDivisionError as e:#下のエラー参照\n",
    "        print(e)\n",
    "    except TypeError as e:\n",
    "        print(e)\n",
    "    else:\n",
    "        print('正常に終了しました')\n",
    "        "
   ]
  },
  {
   "cell_type": "code",
   "execution_count": 22,
   "id": "d7207ec9",
   "metadata": {},
   "outputs": [
    {
     "name": "stdout",
     "output_type": "stream",
     "text": [
      "計算結果：2.0\n",
      "正常に終了しました\n"
     ]
    }
   ],
   "source": [
    "divide(2,1)"
   ]
  },
  {
   "cell_type": "code",
   "execution_count": 23,
   "id": "97d26bdd",
   "metadata": {},
   "outputs": [],
   "source": [
    "def divide(a,b):\n",
    "    try:\n",
    "        print(f'計算結果：{a/b}')\n",
    "    except ZeroDivisionError as e:#下のエラー参照\n",
    "        print(e)\n",
    "    except TypeError as e:\n",
    "        print(e)\n",
    "    finally:\n",
    "        print('すべての処理終了しました')"
   ]
  },
  {
   "cell_type": "code",
   "execution_count": 24,
   "id": "e686ac25",
   "metadata": {},
   "outputs": [
    {
     "name": "stdout",
     "output_type": "stream",
     "text": [
      "計算結果：2.0\n",
      "すべての処理終了しました\n"
     ]
    }
   ],
   "source": [
    "divide(2,1)"
   ]
  },
  {
   "cell_type": "code",
   "execution_count": 28,
   "id": "8d8cd0c5",
   "metadata": {},
   "outputs": [
    {
     "name": "stdout",
     "output_type": "stream",
     "text": [
      "unsupported operand type(s) for /: 'str' and 'int'\n",
      "すべての処理終了しました\n"
     ]
    }
   ],
   "source": [
    "divide('a',0)"
   ]
  },
  {
   "cell_type": "code",
   "execution_count": 29,
   "id": "d4b55281",
   "metadata": {},
   "outputs": [],
   "source": [
    "#37\n",
    "def divide(a,b):\n",
    "    try:\n",
    "        print(f'計算結果：{a/b}')\n",
    "    except ZeroDivisionError as e:#下のエラー参照\n",
    "        pass\n",
    "    except TypeError as e:\n",
    "        pass\n",
    "    finally:\n",
    "        print('すべての処理終了しました')"
   ]
  },
  {
   "cell_type": "code",
   "execution_count": 30,
   "id": "b9318d9d",
   "metadata": {},
   "outputs": [
    {
     "name": "stdout",
     "output_type": "stream",
     "text": [
      "すべての処理終了しました\n"
     ]
    }
   ],
   "source": [
    "divide('a',0)"
   ]
  },
  {
   "cell_type": "code",
   "execution_count": 31,
   "id": "0f80f530",
   "metadata": {},
   "outputs": [],
   "source": [
    "#38class\n",
    "class Person:\n",
    "    nationality='Japan'\n",
    "    \n",
    "    def say_hello(self):\n",
    "        print(f'こんにちは私の国籍は{self.nationality}')\n",
    "        \n",
    "        \n"
   ]
  },
  {
   "cell_type": "code",
   "execution_count": 32,
   "id": "a86f78c8",
   "metadata": {},
   "outputs": [],
   "source": [
    "person=Person()"
   ]
  },
  {
   "cell_type": "code",
   "execution_count": 33,
   "id": "3cca53b3",
   "metadata": {},
   "outputs": [
    {
     "data": {
      "text/plain": [
       "'Japan'"
      ]
     },
     "execution_count": 33,
     "metadata": {},
     "output_type": "execute_result"
    }
   ],
   "source": [
    "person.nationality"
   ]
  },
  {
   "cell_type": "code",
   "execution_count": 34,
   "id": "31cf0776",
   "metadata": {},
   "outputs": [
    {
     "name": "stdout",
     "output_type": "stream",
     "text": [
      "こんにちは私の国籍はJapan\n"
     ]
    }
   ],
   "source": [
    "person.say_hello()"
   ]
  },
  {
   "cell_type": "code",
   "execution_count": 1,
   "id": "aca2f0a5",
   "metadata": {},
   "outputs": [],
   "source": [
    "#39\n",
    "class Person:\n",
    "    nationality='Japan'\n",
    "    \n",
    "    def __init__(self,name):\n",
    "        self.name=name\n",
    "    def say_hello(self):\n",
    "        print(f'こんにちは私の国籍は{self.nationality}')\n",
    "    def say_my_name(self):\n",
    "        print(f'私の名前は{self.name}です。')"
   ]
  },
  {
   "cell_type": "code",
   "execution_count": 2,
   "id": "1e76e926",
   "metadata": {},
   "outputs": [],
   "source": [
    "imanishi=Person('今西')"
   ]
  },
  {
   "cell_type": "code",
   "execution_count": 3,
   "id": "f0087cc6",
   "metadata": {},
   "outputs": [
    {
     "data": {
      "text/plain": [
       "'Japan'"
      ]
     },
     "execution_count": 3,
     "metadata": {},
     "output_type": "execute_result"
    }
   ],
   "source": [
    "imanishi.nationality"
   ]
  },
  {
   "cell_type": "code",
   "execution_count": 4,
   "id": "4a3ae275",
   "metadata": {},
   "outputs": [
    {
     "data": {
      "text/plain": [
       "'今西'"
      ]
     },
     "execution_count": 4,
     "metadata": {},
     "output_type": "execute_result"
    }
   ],
   "source": [
    "imanishi.name\n"
   ]
  },
  {
   "cell_type": "code",
   "execution_count": 6,
   "id": "b1449be1",
   "metadata": {},
   "outputs": [
    {
     "name": "stdout",
     "output_type": "stream",
     "text": [
      "私の名前は今西です。\n"
     ]
    }
   ],
   "source": [
    "imanishi.say_my_name()"
   ]
  },
  {
   "cell_type": "code",
   "execution_count": 7,
   "id": "ee7e077b",
   "metadata": {},
   "outputs": [],
   "source": [
    "#40 エラー\n",
    "class Kid(Person):\n",
    "    def say_hello(self, age):\n",
    "        print('私の名前は{self.name}。年は{}才です')"
   ]
  },
  {
   "cell_type": "code",
   "execution_count": 8,
   "id": "1ce6a1e5",
   "metadata": {},
   "outputs": [],
   "source": [
    "kid=Kid('けんすけ')"
   ]
  },
  {
   "cell_type": "code",
   "execution_count": 9,
   "id": "f41df264",
   "metadata": {},
   "outputs": [
    {
     "data": {
      "text/plain": [
       "'けんすけ'"
      ]
     },
     "execution_count": 9,
     "metadata": {},
     "output_type": "execute_result"
    }
   ],
   "source": [
    "kid.name"
   ]
  },
  {
   "cell_type": "code",
   "execution_count": 10,
   "id": "7958b178",
   "metadata": {},
   "outputs": [
    {
     "name": "stdout",
     "output_type": "stream",
     "text": [
      "私の名前は{self.name}。年は{}才です\n"
     ]
    }
   ],
   "source": [
    "kid.say_hello(12)"
   ]
  },
  {
   "cell_type": "code",
   "execution_count": null,
   "id": "042a97f5",
   "metadata": {},
   "outputs": [],
   "source": []
  }
 ],
 "metadata": {
  "kernelspec": {
   "display_name": "Python 3",
   "language": "python",
   "name": "python3"
  },
  "language_info": {
   "codemirror_mode": {
    "name": "ipython",
    "version": 3
   },
   "file_extension": ".py",
   "mimetype": "text/x-python",
   "name": "python",
   "nbconvert_exporter": "python",
   "pygments_lexer": "ipython3",
   "version": "3.8.8"
  }
 },
 "nbformat": 4,
 "nbformat_minor": 5
}
