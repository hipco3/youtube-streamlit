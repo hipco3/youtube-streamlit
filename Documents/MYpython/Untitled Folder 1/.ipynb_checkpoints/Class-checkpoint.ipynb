{
 "cells": [
  {
   "cell_type": "code",
   "execution_count": 22,
   "id": "38bb6074",
   "metadata": {},
   "outputs": [],
   "source": [
    "class Person:\n",
    "    def __init__(self, name, nationality, age):\n",
    "        self.name = name\n",
    "        self.nationality = nationality\n",
    "        self.age = age\n",
    "   #classはあるものの構成性質のかたまり"
   ]
  },
  {
   "cell_type": "code",
   "execution_count": 23,
   "id": "8cb91bbd",
   "metadata": {},
   "outputs": [],
   "source": [
    "#動作のことをインスタンス化（実体化）という #エラー\n",
    "imanishi = Person('今西', '日本', 25)"
   ]
  },
  {
   "cell_type": "code",
   "execution_count": 25,
   "id": "20fc487a",
   "metadata": {},
   "outputs": [
    {
     "data": {
      "text/plain": [
       "'今西'"
      ]
     },
     "execution_count": 25,
     "metadata": {},
     "output_type": "execute_result"
    }
   ],
   "source": [
    "imanishi.name"
   ]
  },
  {
   "cell_type": "code",
   "execution_count": 26,
   "id": "212fed52",
   "metadata": {},
   "outputs": [
    {
     "data": {
      "text/plain": [
       "'日本'"
      ]
     },
     "execution_count": 26,
     "metadata": {},
     "output_type": "execute_result"
    }
   ],
   "source": [
    "imanishi.nationality"
   ]
  },
  {
   "cell_type": "code",
   "execution_count": 27,
   "id": "c1f47af1",
   "metadata": {},
   "outputs": [],
   "source": [
    "mike=Person('マイク','アメリカ',28)"
   ]
  },
  {
   "cell_type": "code",
   "execution_count": 28,
   "id": "1d29692d",
   "metadata": {},
   "outputs": [
    {
     "data": {
      "text/plain": [
       "'マイク'"
      ]
     },
     "execution_count": 28,
     "metadata": {},
     "output_type": "execute_result"
    }
   ],
   "source": [
    "mike.name"
   ]
  },
  {
   "cell_type": "code",
   "execution_count": 45,
   "id": "8a0961c4",
   "metadata": {},
   "outputs": [],
   "source": [
    "class Person:\n",
    "    def __init__(self, name, nationality, age):\n",
    "        self.name = name\n",
    "        self.nationality = nationality\n",
    "        self.age = age\n",
    "    def __call__(self):\n",
    "        print('ここはcall関数です')\n",
    "    def say_hello(self, name):\n",
    "        print('こんにちは{}さん。私は今西です'.format(name))"
   ]
  },
  {
   "cell_type": "code",
   "execution_count": 46,
   "id": "d6a2c8ed",
   "metadata": {},
   "outputs": [],
   "source": [
    "imanishi = Person('今西', '日本', 25)"
   ]
  },
  {
   "cell_type": "code",
   "execution_count": 47,
   "id": "34775a44",
   "metadata": {},
   "outputs": [
    {
     "data": {
      "text/plain": [
       "'日本'"
      ]
     },
     "execution_count": 47,
     "metadata": {},
     "output_type": "execute_result"
    }
   ],
   "source": [
    "imanishi.nationality"
   ]
  },
  {
   "cell_type": "code",
   "execution_count": 48,
   "id": "c8ea2c2e",
   "metadata": {},
   "outputs": [
    {
     "name": "stdout",
     "output_type": "stream",
     "text": [
      "こんにちは佐藤さん。私は今西です\n"
     ]
    }
   ],
   "source": [
    "imanishi.say_hello('佐藤')"
   ]
  },
  {
   "cell_type": "code",
   "execution_count": 49,
   "id": "4db38260",
   "metadata": {},
   "outputs": [],
   "source": [
    "mike=Person('マイク','アメリカ',28)"
   ]
  },
  {
   "cell_type": "code",
   "execution_count": 50,
   "id": "561ab772",
   "metadata": {},
   "outputs": [
    {
     "name": "stdout",
     "output_type": "stream",
     "text": [
      "こんにちはjudyさん。私は今西です\n"
     ]
    }
   ],
   "source": [
    "mike.say_hello('judy')#今西を変えたいので下参照"
   ]
  },
  {
   "cell_type": "code",
   "execution_count": 56,
   "id": "21f9ad3b",
   "metadata": {},
   "outputs": [
    {
     "name": "stdout",
     "output_type": "stream",
     "text": [
      "ここはcall関数です\n"
     ]
    }
   ],
   "source": [
    "imanishi.__call__()#こちらは正しくない"
   ]
  },
  {
   "cell_type": "code",
   "execution_count": 57,
   "id": "d59cfdb1",
   "metadata": {},
   "outputs": [
    {
     "name": "stdout",
     "output_type": "stream",
     "text": [
      "ここはcall関数です\n"
     ]
    }
   ],
   "source": [
    "imanishi()"
   ]
  },
  {
   "cell_type": "code",
   "execution_count": 51,
   "id": "440342f6",
   "metadata": {},
   "outputs": [],
   "source": [
    "class Person:\n",
    "    def __init__(self, name, nationality, age):\n",
    "        self.name = name\n",
    "        self.nationality = nationality\n",
    "        self.age = age\n",
    "        \n",
    "    def say_hello(self, name):\n",
    "        print('こんにちは{}さん。私は{}です'.format(name, self.name)) #最初の{}に入るのはnameで２番目の{}はself.nameが入る"
   ]
  },
  {
   "cell_type": "code",
   "execution_count": 52,
   "id": "eaec1dd0",
   "metadata": {},
   "outputs": [],
   "source": [
    "mike=Person('マイク','アメリカ',28)"
   ]
  },
  {
   "cell_type": "code",
   "execution_count": 53,
   "id": "9a13eb4d",
   "metadata": {},
   "outputs": [
    {
     "name": "stdout",
     "output_type": "stream",
     "text": [
      "こんにちはjudyさん。私はマイクです\n"
     ]
    }
   ],
   "source": [
    "mike.say_hello('judy')"
   ]
  },
  {
   "cell_type": "code",
   "execution_count": 54,
   "id": "0a8f8e8e",
   "metadata": {},
   "outputs": [
    {
     "name": "stdout",
     "output_type": "stream",
     "text": [
      "こんにちはjudyさん。私は今西です\n"
     ]
    }
   ],
   "source": [
    "imanishi.say_hello('judy')"
   ]
  },
  {
   "cell_type": "code",
   "execution_count": null,
   "id": "85a1427d",
   "metadata": {},
   "outputs": [],
   "source": []
  },
  {
   "cell_type": "code",
   "execution_count": null,
   "id": "3cdf7c15",
   "metadata": {},
   "outputs": [],
   "source": []
  }
 ],
 "metadata": {
  "kernelspec": {
   "display_name": "Python 3",
   "language": "python",
   "name": "python3"
  },
  "language_info": {
   "codemirror_mode": {
    "name": "ipython",
    "version": 3
   },
   "file_extension": ".py",
   "mimetype": "text/x-python",
   "name": "python",
   "nbconvert_exporter": "python",
   "pygments_lexer": "ipython3",
   "version": "3.8.8"
  }
 },
 "nbformat": 4,
 "nbformat_minor": 5
}
