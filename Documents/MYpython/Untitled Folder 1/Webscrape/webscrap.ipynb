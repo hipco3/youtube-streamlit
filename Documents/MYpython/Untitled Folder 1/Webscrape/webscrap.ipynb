{
 "cells": [
  {
   "cell_type": "code",
   "execution_count": 1,
   "id": "b38ca8b6",
   "metadata": {},
   "outputs": [
    {
     "name": "stdout",
     "output_type": "stream",
     "text": [
      "Requirement already satisfied: requests in c:\\users\\polif\\anaconda3\\lib\\site-packages (2.25.1)\n",
      "Requirement already satisfied: chardet<5,>=3.0.2 in c:\\users\\polif\\anaconda3\\lib\\site-packages (from requests) (4.0.0)\n",
      "Requirement already satisfied: urllib3<1.27,>=1.21.1 in c:\\users\\polif\\anaconda3\\lib\\site-packages (from requests) (1.26.4)\n",
      "Requirement already satisfied: certifi>=2017.4.17 in c:\\users\\polif\\anaconda3\\lib\\site-packages (from requests) (2020.12.5)\n",
      "Requirement already satisfied: idna<3,>=2.5 in c:\\users\\polif\\anaconda3\\lib\\site-packages (from requests) (2.10)\n",
      "Requirement already satisfied: lxml in c:\\users\\polif\\anaconda3\\lib\\site-packages (4.6.3)\n",
      "Requirement already satisfied: BeautifulSoup4 in c:\\users\\polif\\anaconda3\\lib\\site-packages (4.9.3)\n",
      "Requirement already satisfied: soupsieve>1.2 in c:\\users\\polif\\anaconda3\\lib\\site-packages (from BeautifulSoup4) (2.2.1)\n"
     ]
    }
   ],
   "source": [
    "!pip install requests\n",
    "!pip install lxml\n",
    "!pip install BeautifulSoup4\n",
    "import requests\n",
    "from bs4 import BeautifulSoup\n",
    "from html.parser import HTMLParser"
   ]
  },
  {
   "cell_type": "code",
   "execution_count": null,
   "id": "d94a2275",
   "metadata": {},
   "outputs": [],
   "source": [
    "def (urladdress):\n",
    "\n",
    "    url=urladdress\n",
    "    res=requests.get(url)\n",
    "    soup = BeautifulSoup(res.text, \"html.parser\")\n",
    "    res.text\n",
    "    markup = res.text#OKエラーがでるので調整済み\n",
    "    soup = BeautifulSoup(markup, 'lxml')\n",
    "\n",
    "    partone = soup.find_all('div', attrs={'id':'content'})\n",
    "    partone=partone[0].text\n",
    "    print(partone)\n",
    "    with open('animals.txt', mode='w', encoding='utf-8') as fout:#textファイル書き込み\n",
    "        fout.write(partone)\n",
    "        fout.flush()"
   ]
  },
  {
   "cell_type": "code",
   "execution_count": null,
   "id": "8173de7b",
   "metadata": {},
   "outputs": [],
   "source": []
  }
 ],
 "metadata": {
  "kernelspec": {
   "display_name": "Python 3",
   "language": "python",
   "name": "python3"
  },
  "language_info": {
   "codemirror_mode": {
    "name": "ipython",
    "version": 3
   },
   "file_extension": ".py",
   "mimetype": "text/x-python",
   "name": "python",
   "nbconvert_exporter": "python",
   "pygments_lexer": "ipython3",
   "version": "3.8.8"
  }
 },
 "nbformat": 4,
 "nbformat_minor": 5
}
