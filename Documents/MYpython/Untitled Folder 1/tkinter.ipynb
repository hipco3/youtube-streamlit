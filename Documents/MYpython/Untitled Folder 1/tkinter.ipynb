{
 "cells": [
  {
   "cell_type": "code",
   "execution_count": 30,
   "id": "0014e086-acb4-42d6-9374-6f998b59a255",
   "metadata": {},
   "outputs": [],
   "source": [
    "import tkinter #途中\n",
    "root=tkinter.Tk()\n",
    "root.title('廣畠アプリ')\n",
    "root.geometry('400x300')\n",
    "\n",
    "root.mainloop()"
   ]
  },
  {
   "cell_type": "code",
   "execution_count": null,
   "id": "2c026a93-aa01-495c-90af-203936444dff",
   "metadata": {},
   "outputs": [],
   "source": [
    "class Application(tkinter.Frame):\n",
    "    def __init__(self, root=None):\n",
    "        super().__init__(root, width=380, height=280,\n",
    "                         borderwidth=1, relief='groove')\n",
    "        self.root = root\n",
    "        self.pack()\n",
    "        self.pack_propagate(0)\n",
    "        self.create_widgets()\n",
    "    def create_widgets(self):\n",
    "        # 閉じるボタン\n",
    "        quit_btn = tkinter.Button(self)\n",
    "        quit_btn['text'] = '閉じる'\n",
    "        quit_btn['command'] = self.root.destroy\n",
    "        quit_btn.pack(side='bottom')     \n",
    "\n",
    "    def create_widgets(self):\n",
    "        self.text_box=tkinter.Entry(self)\n",
    "        self.text_box['width']=10\n",
    "        self.text_box.pack()\n",
    "    # 実行ボタン\n",
    "        submit_btn = tkinter.Button(self)\n",
    "        submit_btn['text'] = '実行'\n",
    "        submit_btn['command'] = self.input_handler\n",
    "        submit_btn.pack()\n",
    "\n",
    "        # メッセージ出力\n",
    "        self.message = tkinter.Message(self)\n",
    "        self.message.pack()\n",
    "\n",
    "    def input_handler(self):\n",
    "        text = self.text_box.get()\n",
    "        self.message['text'] = text + '!!'\n",
    "\n",
    "\n",
    "root = tkinter.Tk()\n",
    "root.title('サプー アプリ')\n",
    "root.geometry('400x300')\n",
    "app = Application(root=root)\n",
    "app.mainloop()\n"
   ]
  },
  {
   "cell_type": "code",
   "execution_count": 14,
   "id": "d5c3b512-0fe5-4bec-8fc3-81b47c300b3e",
   "metadata": {},
   "outputs": [],
   "source": [
    "\n",
    "                "
   ]
  },
  {
   "cell_type": "code",
   "execution_count": null,
   "id": "0434fcb4-b6ca-4211-8117-60e5acd96ab6",
   "metadata": {},
   "outputs": [],
   "source": []
  }
 ],
 "metadata": {
  "kernelspec": {
   "display_name": "Python 3",
   "language": "python",
   "name": "python3"
  },
  "language_info": {
   "codemirror_mode": {
    "name": "ipython",
    "version": 3
   },
   "file_extension": ".py",
   "mimetype": "text/x-python",
   "name": "python",
   "nbconvert_exporter": "python",
   "pygments_lexer": "ipython3",
   "version": "3.8.8"
  }
 },
 "nbformat": 4,
 "nbformat_minor": 5
}
