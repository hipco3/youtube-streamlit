{
 "cells": [
  {
   "cell_type": "code",
   "execution_count": 12,
   "id": "c8ac83fe",
   "metadata": {},
   "outputs": [
    {
     "name": "stdout",
     "output_type": "stream",
     "text": [
      "Collecting tesseract-ocr\n",
      "  Using cached tesseract-ocr-0.0.1.tar.gz (33 kB)\n"
     ]
    },
    {
     "name": "stderr",
     "output_type": "stream",
     "text": [
      "ERROR: Could not find a version that satisfies the requirement libtesseract-dev\n",
      "ERROR: No matching distribution found for libtesseract-dev\n"
     ]
    }
   ],
   "source": [
    "!pip install tesseract-ocr libtesseract-dev tesseract-ocr-jpn"
   ]
  },
  {
   "cell_type": "code",
   "execution_count": null,
   "id": "a23baf20",
   "metadata": {},
   "outputs": [],
   "source": []
  },
  {
   "cell_type": "code",
   "execution_count": null,
   "id": "a299f7a5",
   "metadata": {},
   "outputs": [],
   "source": []
  }
 ],
 "metadata": {
  "kernelspec": {
   "display_name": "Python 3",
   "language": "python",
   "name": "python3"
  },
  "language_info": {
   "codemirror_mode": {
    "name": "ipython",
    "version": 3
   },
   "file_extension": ".py",
   "mimetype": "text/x-python",
   "name": "python",
   "nbconvert_exporter": "python",
   "pygments_lexer": "ipython3",
   "version": "3.8.8"
  }
 },
 "nbformat": 4,
 "nbformat_minor": 5
}
