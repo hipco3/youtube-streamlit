{
 "cells": [
  {
   "cell_type": "markdown",
   "id": "aea8df51",
   "metadata": {},
   "source": [
    "ショートカット　bでセル追加 dで削除　markdownに切り替えはm コードセルにする場合はy"
   ]
  },
  {
   "cell_type": "code",
   "execution_count": 2,
   "id": "cd113541",
   "metadata": {},
   "outputs": [
    {
     "name": "stdout",
     "output_type": "stream",
     "text": [
      "Package                            Version\n",
      "---------------------------------- -------------------\n",
      "alabaster                          0.7.12\n",
      "anaconda-client                    1.7.2\n",
      "anaconda-navigator                 2.0.3\n",
      "anaconda-project                   0.9.1\n",
      "anyio                              2.2.0\n",
      "appdirs                            1.4.4\n",
      "argh                               0.26.2\n",
      "argon2-cffi                        20.1.0\n",
      "asn1crypto                         1.4.0\n",
      "astroid                            2.5\n",
      "astropy                            4.2.1\n",
      "async-generator                    1.10\n",
      "atomicwrites                       1.4.0\n",
      "attrs                              20.3.0\n",
      "autopep8                           1.5.6\n",
      "Babel                              2.9.0\n",
      "backcall                           0.2.0\n",
      "backports.functools-lru-cache      1.6.4\n",
      "backports.shutil-get-terminal-size 1.0.0\n",
      "backports.tempfile                 1.0\n",
      "backports.weakref                  1.0.post1\n",
      "bcrypt                             3.2.0\n",
      "beautifulsoup4                     4.9.3\n",
      "bitarray                           1.9.2\n",
      "bkcharts                           0.2\n",
      "black                              19.10b0\n",
      "bleach                             3.3.0\n",
      "bokeh                              2.3.2\n",
      "boto                               2.49.0\n",
      "Bottleneck                         1.3.2\n",
      "brotlipy                           0.7.0\n",
      "certifi                            2020.12.5\n",
      "cffi                               1.14.5\n",
      "chardet                            4.0.0\n",
      "chromedriver-binary                95.0.4638.10.0\n",
      "click                              7.1.2\n",
      "cloudpickle                        1.6.0\n",
      "clyent                             1.2.2\n",
      "colorama                           0.4.4\n",
      "comtypes                           1.1.9\n",
      "conda                              4.10.1\n",
      "conda-build                        3.21.4\n",
      "conda-content-trust                0+unknown\n",
      "conda-package-handling             1.7.3\n",
      "conda-repo-cli                     1.0.4\n",
      "conda-token                        0.3.0\n",
      "conda-verify                       3.4.2\n",
      "configparser                       5.0.2\n",
      "contextlib2                        0.6.0.post1\n",
      "crayons                            0.4.0\n",
      "cryptography                       3.4.7\n",
      "cycler                             0.10.0\n",
      "Cython                             0.29.23\n",
      "cytoolz                            0.11.0\n",
      "dask                               2021.4.0\n",
      "decorator                          5.0.6\n",
      "defusedxml                         0.7.1\n",
      "diff-match-patch                   20200713\n",
      "distributed                        2021.4.0\n",
      "docutils                           0.17\n",
      "entrypoints                        0.3\n",
      "et-xmlfile                         1.0.1\n",
      "fastcache                          1.1.0\n",
      "filelock                           3.0.12\n",
      "flake8                             3.9.0\n",
      "Flask                              1.1.2\n",
      "fsspec                             0.9.0\n",
      "future                             0.18.2\n",
      "gevent                             21.1.2\n",
      "glob2                              0.7\n",
      "greenlet                           1.0.0\n",
      "h5py                               2.10.0\n",
      "HeapDict                           1.0.1\n",
      "html5lib                           1.1\n",
      "idna                               2.10\n",
      "imagecodecs                        2021.3.31\n",
      "imageio                            2.9.0\n",
      "imagesize                          1.2.0\n",
      "importlib-metadata                 3.10.0\n",
      "iniconfig                          1.1.1\n",
      "intervaltree                       3.1.0\n",
      "ipykernel                          5.3.4\n",
      "ipython                            7.22.0\n",
      "ipython-genutils                   0.2.0\n",
      "ipywidgets                         7.6.3\n",
      "isort                              5.8.0\n",
      "itsdangerous                       1.1.0\n",
      "jdcal                              1.4.1\n",
      "jedi                               0.17.2\n",
      "Jinja2                             2.11.3\n",
      "joblib                             1.0.1\n",
      "json5                              0.9.5\n",
      "jsonschema                         3.2.0\n",
      "jupyter                            1.0.0\n",
      "jupyter-client                     6.1.12\n",
      "jupyter-console                    6.4.0\n",
      "jupyter-core                       4.7.1\n",
      "jupyter-packaging                  0.7.12\n",
      "jupyter-server                     1.4.1\n",
      "jupyterlab                         3.0.14\n",
      "jupyterlab-pygments                0.1.2\n",
      "jupyterlab-server                  2.4.0\n",
      "jupyterlab-widgets                 1.0.0\n",
      "keyring                            22.3.0\n",
      "kiwisolver                         1.3.1\n",
      "lazy-object-proxy                  1.6.0\n",
      "libarchive-c                       2.9\n",
      "llvmlite                           0.36.0\n",
      "locket                             0.2.1\n",
      "lxml                               4.6.3\n",
      "MarkupSafe                         1.1.1\n",
      "matplotlib                         3.3.4\n",
      "mccabe                             0.6.1\n",
      "menuinst                           1.4.16\n",
      "mistune                            0.8.4\n",
      "mkl-fft                            1.3.0\n",
      "mkl-random                         1.2.1\n",
      "mkl-service                        2.3.0\n",
      "mock                               4.0.3\n",
      "more-itertools                     8.7.0\n",
      "MouseInfo                          0.1.3\n",
      "mpmath                             1.2.1\n",
      "msgpack                            1.0.2\n",
      "multipledispatch                   0.6.0\n",
      "mypy-extensions                    0.4.3\n",
      "navigator-updater                  0.2.1\n",
      "nbclassic                          0.2.6\n",
      "nbclient                           0.5.3\n",
      "nbconvert                          6.0.7\n",
      "nbformat                           5.1.3\n",
      "nest-asyncio                       1.5.1\n",
      "networkx                           2.5\n",
      "nltk                               3.6.1\n",
      "nose                               1.3.7\n",
      "notebook                           6.3.0\n",
      "numba                              0.53.1\n",
      "numexpr                            2.7.3\n",
      "numpy                              1.20.1\n",
      "numpydoc                           1.1.0\n",
      "olefile                            0.46\n",
      "openpyxl                           3.0.7\n",
      "packaging                          20.9\n",
      "pandas                             1.2.4\n",
      "pandocfilters                      1.4.3\n",
      "paramiko                           2.7.2\n",
      "parso                              0.7.0\n",
      "partd                              1.2.0\n",
      "path                               15.1.2\n",
      "pathlib2                           2.3.5\n",
      "pathspec                           0.7.0\n",
      "patsy                              0.5.1\n",
      "pdfminer.six                       20201018\n",
      "pep8                               1.7.1\n",
      "pexpect                            4.8.0\n",
      "pickleshare                        0.7.5\n",
      "Pillow                             8.2.0\n",
      "pip                                21.0.1\n",
      "pkginfo                            1.7.0\n",
      "pluggy                             0.13.1\n",
      "ply                                3.11\n",
      "prometheus-client                  0.10.1\n",
      "prompt-toolkit                     3.0.17\n",
      "psutil                             5.8.0\n",
      "ptyprocess                         0.7.0\n",
      "py                                 1.10.0\n",
      "PyAutoGUI                          0.9.53\n",
      "pycodestyle                        2.6.0\n",
      "pycosat                            0.6.3\n",
      "pycparser                          2.20\n",
      "pycurl                             7.43.0.6\n",
      "pydocstyle                         6.0.0\n",
      "pyerfa                             1.7.3\n",
      "pyflakes                           2.2.0\n",
      "PyGetWindow                        0.0.9\n",
      "Pygments                           2.8.1\n",
      "pylint                             2.7.4\n",
      "pyls-black                         0.4.6\n",
      "pyls-spyder                        0.3.2\n",
      "PyMsgBox                           1.0.9\n",
      "PyNaCl                             1.4.0\n",
      "pyocr                              0.8\n",
      "pyodbc                             4.0.0-unsupported\n",
      "pyOpenSSL                          20.0.1\n",
      "pyparsing                          2.4.7\n",
      "PyPDF2                             1.26.0\n",
      "pyperclip                          1.8.2\n",
      "pyreadline                         2.1\n",
      "PyRect                             0.1.4\n",
      "pyrsistent                         0.17.3\n",
      "PyScreeze                          0.1.28\n",
      "PySocks                            1.7.1\n",
      "pytest                             6.2.3\n",
      "python-dateutil                    2.8.1\n",
      "python-docx                        0.8.11\n",
      "python-jsonrpc-server              0.4.0\n",
      "python-language-server             0.36.2\n",
      "pytweening                         1.0.4\n",
      "pytz                               2021.1\n",
      "PyWavelets                         1.1.1\n",
      "pywin32                            227\n",
      "pywin32-ctypes                     0.2.0\n",
      "pywinpty                           0.5.7\n",
      "PyYAML                             5.4.1\n",
      "pyzmq                              20.0.0\n",
      "QDarkStyle                         2.8.1\n",
      "QtAwesome                          1.0.2\n",
      "qtconsole                          5.0.3\n",
      "QtPy                               1.9.0\n",
      "regex                              2021.4.4\n",
      "requests                           2.25.1\n"
     ]
    },
    {
     "name": "stdout",
     "output_type": "stream",
     "text": [
      "rope                               0.18.0\n",
      "Rtree                              0.9.7\n",
      "ruamel-yaml-conda                  0.15.100\n",
      "scikit-image                       0.18.1\n",
      "scikit-learn                       0.24.1\n",
      "scipy                              1.6.2\n",
      "seaborn                            0.11.1\n",
      "selenium                           3.141.0\n",
      "Send2Trash                         1.5.0\n",
      "setuptools                         52.0.0.post20210125\n",
      "simplegeneric                      0.8.1\n",
      "singledispatch                     0.0.0\n",
      "sip                                4.19.13\n",
      "six                                1.15.0\n",
      "sniffio                            1.2.0\n",
      "snowballstemmer                    2.1.0\n",
      "sortedcollections                  2.1.0\n",
      "sortedcontainers                   2.3.0\n",
      "soupsieve                          2.2.1\n",
      "Sphinx                             4.0.1\n",
      "sphinxcontrib-applehelp            1.0.2\n",
      "sphinxcontrib-devhelp              1.0.2\n",
      "sphinxcontrib-htmlhelp             1.0.3\n",
      "sphinxcontrib-jsmath               1.0.1\n",
      "sphinxcontrib-qthelp               1.0.3\n",
      "sphinxcontrib-serializinghtml      1.1.4\n",
      "sphinxcontrib-websupport           1.2.4\n",
      "spyder                             4.2.5\n",
      "spyder-kernels                     1.10.2\n",
      "SQLAlchemy                         1.4.7\n",
      "statsmodels                        0.12.2\n",
      "sympy                              1.8\n",
      "tables                             3.6.1\n",
      "tblib                              1.7.0\n",
      "terminado                          0.9.4\n",
      "testpath                           0.4.4\n",
      "textdistance                       4.2.1\n",
      "threadpoolctl                      2.1.0\n",
      "three-merge                        0.1.1\n",
      "tifffile                           2021.4.8\n",
      "toml                               0.10.2\n",
      "toolz                              0.11.1\n",
      "tornado                            6.1\n",
      "tqdm                               4.59.0\n",
      "traitlets                          5.0.5\n",
      "typed-ast                          1.4.2\n",
      "typing-extensions                  3.7.4.3\n",
      "ujson                              4.0.2\n",
      "unicodecsv                         0.14.1\n",
      "urllib3                            1.26.4\n",
      "watchdog                           1.0.2\n",
      "wcwidth                            0.2.5\n",
      "webdriver-manager                  3.4.2\n",
      "webencodings                       0.5.1\n",
      "Werkzeug                           1.0.1\n",
      "wheel                              0.36.2\n",
      "widgetsnbextension                 3.5.1\n",
      "win-inet-pton                      1.1.0\n",
      "win-unicode-console                0.5\n",
      "wincertstore                       0.2\n",
      "wrapt                              1.12.1\n",
      "xlrd                               2.0.1\n",
      "XlsxWriter                         1.3.8\n",
      "xlwings                            0.23.0\n",
      "xlwt                               1.3.0\n",
      "xmltodict                          0.12.0\n",
      "yapf                               0.31.0\n",
      "zict                               2.0.0\n",
      "zipp                               3.4.1\n",
      "zope.event                         4.5.0\n",
      "zope.interface                     5.3.0\n"
     ]
    }
   ],
   "source": [
    "#install 済みのパッケージ確認 windshellで\n",
    "#pip list conda もしくはnote上では　\n",
    "!pip list"
   ]
  },
  {
   "cell_type": "code",
   "execution_count": 3,
   "id": "0daf9508",
   "metadata": {},
   "outputs": [
    {
     "name": "stdout",
     "output_type": "stream",
     "text": [
      "私はhirohataです。大阪出身です\n"
     ]
    }
   ],
   "source": [
    "#3\n",
    "name='hirohata'\n",
    "place='大阪'\n",
    "print(f'私は{name}です。{place}出身です') #fストリング"
   ]
  },
  {
   "cell_type": "code",
   "execution_count": 4,
   "id": "359541b7",
   "metadata": {},
   "outputs": [
    {
     "name": "stdout",
     "output_type": "stream",
     "text": [
      "私はhirohataです。出身は大阪です。\n"
     ]
    }
   ],
   "source": [
    "print('私は{}です。出身は{}です。'.format(name,place)) #format"
   ]
  },
  {
   "cell_type": "code",
   "execution_count": 5,
   "id": "0f5d9b64",
   "metadata": {},
   "outputs": [
    {
     "name": "stdout",
     "output_type": "stream",
     "text": [
      "いつもと違う道で帰ろうか。\n",
      "迷子になりそうだけど。\n"
     ]
    }
   ],
   "source": [
    "print('いつもと違う道で帰ろうか。\\n迷子になりそうだけど。') #4"
   ]
  },
  {
   "cell_type": "code",
   "execution_count": 6,
   "id": "21ed16a7",
   "metadata": {},
   "outputs": [
    {
     "name": "stdout",
     "output_type": "stream",
     "text": [
      "１０進法=16, 16進数=10 , 10進浮動小数点=16.000000\n"
     ]
    }
   ],
   "source": [
    "print(\"１０進法=%d, 16進数=%x , 10進浮動小数点=%f\"%(16,16,16)) #5書式化"
   ]
  },
  {
   "cell_type": "code",
   "execution_count": 7,
   "id": "0105acca",
   "metadata": {},
   "outputs": [
    {
     "data": {
      "text/plain": [
       "'HELLO'"
      ]
     },
     "execution_count": 7,
     "metadata": {},
     "output_type": "execute_result"
    }
   ],
   "source": [
    "'hello'.upper() #6大文字化"
   ]
  },
  {
   "cell_type": "code",
   "execution_count": 8,
   "id": "9c7ef10d",
   "metadata": {},
   "outputs": [
    {
     "name": "stdout",
     "output_type": "stream",
     "text": [
      "こんにちは。\n",
      "私はAIのロボットです。\n"
     ]
    }
   ],
   "source": [
    "message='こんにちは。\\n私はAIのロボットです。' #7文字列の分割\n",
    "print(message)"
   ]
  },
  {
   "cell_type": "code",
   "execution_count": 9,
   "id": "d4b14945",
   "metadata": {},
   "outputs": [
    {
     "data": {
      "text/plain": [
       "['こんにちは。', '私はAIのロボットです。']"
      ]
     },
     "execution_count": 9,
     "metadata": {},
     "output_type": "execute_result"
    }
   ],
   "source": [
    "message.split('\\n') "
   ]
  },
  {
   "cell_type": "code",
   "execution_count": 10,
   "id": "0029b28f",
   "metadata": {},
   "outputs": [
    {
     "data": {
      "text/plain": [
       "['こんにちは。', '私はAIのロボットです。']"
      ]
     },
     "execution_count": 10,
     "metadata": {},
     "output_type": "execute_result"
    }
   ],
   "source": [
    "messages =message.split('\\n') \n",
    "messages"
   ]
  },
  {
   "cell_type": "code",
   "execution_count": 11,
   "id": "a66d49ea",
   "metadata": {},
   "outputs": [
    {
     "data": {
      "text/plain": [
       "'こんにちは。私はAIのロボットです。'"
      ]
     },
     "execution_count": 11,
     "metadata": {},
     "output_type": "execute_result"
    }
   ],
   "source": [
    "''.join(messages) #8文字列の結合"
   ]
  },
  {
   "cell_type": "code",
   "execution_count": 12,
   "id": "125d5edf",
   "metadata": {},
   "outputs": [
    {
     "name": "stdout",
     "output_type": "stream",
     "text": [
      "  いつも食べるこのケーキはおいしいね。　\n"
     ]
    }
   ],
   "source": [
    "comment='  いつも食べるこのケーキはおいしいね。　'#9空白除去\n",
    "print(comment)"
   ]
  },
  {
   "cell_type": "code",
   "execution_count": 13,
   "id": "b48e11bc",
   "metadata": {},
   "outputs": [
    {
     "name": "stdout",
     "output_type": "stream",
     "text": [
      "いつも食べるこのケーキはおいしいね。\n"
     ]
    }
   ],
   "source": [
    "print(comment.strip())"
   ]
  },
  {
   "cell_type": "code",
   "execution_count": 14,
   "id": "8392da03",
   "metadata": {},
   "outputs": [
    {
     "data": {
      "text/plain": [
       "'今日は雨ですね'"
      ]
     },
     "execution_count": 14,
     "metadata": {},
     "output_type": "execute_result"
    }
   ],
   "source": [
    "message='今日は晴れですね'\n",
    "message.replace('晴れ','雨') #10文字列の置換"
   ]
  },
  {
   "cell_type": "code",
   "execution_count": 15,
   "id": "fe476e0b",
   "metadata": {},
   "outputs": [
    {
     "name": "stdout",
     "output_type": "stream",
     "text": [
      "3\n",
      "-1\n"
     ]
    }
   ],
   "source": [
    "s = '今日は夜空がきれい' #11文字列の検索　場所\n",
    "\n",
    "print(s.find('夜空'))\n",
    "\n",
    "\n",
    "print(s.find('雨'))\n",
    "# -1　ないとき\n"
   ]
  },
  {
   "cell_type": "code",
   "execution_count": 16,
   "id": "ebd9008d",
   "metadata": {},
   "outputs": [
    {
     "data": {
      "text/plain": [
       "'1'"
      ]
     },
     "execution_count": 16,
     "metadata": {},
     "output_type": "execute_result"
    }
   ],
   "source": [
    "#12\n",
    "x=1\n",
    "str(x)"
   ]
  },
  {
   "cell_type": "code",
   "execution_count": 17,
   "id": "7a01cd08",
   "metadata": {},
   "outputs": [
    {
     "data": {
      "text/plain": [
       "'[1, 2, 3]'"
      ]
     },
     "execution_count": 17,
     "metadata": {},
     "output_type": "execute_result"
    }
   ],
   "source": [
    "x=[1,2,3]\n",
    "str(x)"
   ]
  },
  {
   "cell_type": "code",
   "execution_count": 18,
   "id": "4c194d45",
   "metadata": {},
   "outputs": [
    {
     "data": {
      "text/plain": [
       "True"
      ]
     },
     "execution_count": 18,
     "metadata": {},
     "output_type": "execute_result"
    }
   ],
   "source": [
    "a,b='sba','gasba' #13包含関係\n",
    "a in b"
   ]
  },
  {
   "cell_type": "code",
   "execution_count": 19,
   "id": "80728191",
   "metadata": {},
   "outputs": [
    {
     "data": {
      "text/plain": [
       "3"
      ]
     },
     "execution_count": 19,
     "metadata": {},
     "output_type": "execute_result"
    }
   ],
   "source": [
    "numbers=[0,3,8,-5,2,]#14\n",
    "numbers[1]"
   ]
  },
  {
   "cell_type": "code",
   "execution_count": 20,
   "id": "746a7859",
   "metadata": {},
   "outputs": [
    {
     "data": {
      "text/plain": [
       "[0, 3, 8, -5, 2, 2]"
      ]
     },
     "execution_count": 20,
     "metadata": {},
     "output_type": "execute_result"
    }
   ],
   "source": [
    "numbers.append(2)#末尾に値追加\n",
    "numbers"
   ]
  },
  {
   "cell_type": "code",
   "execution_count": 21,
   "id": "8f192c1d",
   "metadata": {},
   "outputs": [
    {
     "data": {
      "text/plain": [
       "[5, 0, 3, 8, -5, 2, 2]"
      ]
     },
     "execution_count": 21,
     "metadata": {},
     "output_type": "execute_result"
    }
   ],
   "source": [
    "numbers.insert(0,5)#15どこに何を挿入するか\n",
    "numbers"
   ]
  },
  {
   "cell_type": "code",
   "execution_count": 22,
   "id": "8c3f862e",
   "metadata": {},
   "outputs": [
    {
     "data": {
      "text/plain": [
       "[0, 3, 8, -5, 2, 2]"
      ]
     },
     "execution_count": 22,
     "metadata": {},
     "output_type": "execute_result"
    }
   ],
   "source": [
    "numbers.remove(5)#16特定の値削除\n",
    "numbers"
   ]
  },
  {
   "cell_type": "code",
   "execution_count": 23,
   "id": "2be856b0",
   "metadata": {},
   "outputs": [
    {
     "data": {
      "text/plain": [
       "[0, 3, 8, 2, 2]"
      ]
     },
     "execution_count": 23,
     "metadata": {},
     "output_type": "execute_result"
    }
   ],
   "source": [
    "numbers.pop(-3)#インデックス番号指定削除\n",
    "numbers"
   ]
  },
  {
   "cell_type": "code",
   "execution_count": 24,
   "id": "eeb68666",
   "metadata": {},
   "outputs": [],
   "source": [
    "def isEven(number):\n",
    "    if number % 2 ==0:\n",
    "        print(f'This number,{number} is even')\n",
    "        return True\n",
    "    else:\n",
    "        print(f'This number,{number}is odd')\n",
    "        return False"
   ]
  },
  {
   "cell_type": "code",
   "execution_count": 25,
   "id": "aea0b434",
   "metadata": {},
   "outputs": [
    {
     "name": "stdout",
     "output_type": "stream",
     "text": [
      "This number,3is odd\n"
     ]
    },
    {
     "data": {
      "text/plain": [
       "False"
      ]
     },
     "execution_count": 25,
     "metadata": {},
     "output_type": "execute_result"
    }
   ],
   "source": [
    "isEven(3)"
   ]
  },
  {
   "cell_type": "code",
   "execution_count": 26,
   "id": "59440eac",
   "metadata": {},
   "outputs": [
    {
     "data": {
      "text/plain": [
       "<filter at 0x15bb27118b0>"
      ]
     },
     "execution_count": 26,
     "metadata": {},
     "output_type": "execute_result"
    }
   ],
   "source": [
    "filter(isEven,numbers)"
   ]
  },
  {
   "cell_type": "code",
   "execution_count": 27,
   "id": "0badf9aa",
   "metadata": {},
   "outputs": [
    {
     "name": "stdout",
     "output_type": "stream",
     "text": [
      "This number,0 is even\n",
      "This number,3is odd\n",
      "This number,8 is even\n",
      "This number,2 is even\n",
      "This number,2 is even\n"
     ]
    },
    {
     "data": {
      "text/plain": [
       "[0, 8, 2, 2]"
      ]
     },
     "execution_count": 27,
     "metadata": {},
     "output_type": "execute_result"
    }
   ],
   "source": [
    "list(filter(isEven,numbers)) #17フィルター"
   ]
  },
  {
   "cell_type": "code",
   "execution_count": 28,
   "id": "c18cea65",
   "metadata": {},
   "outputs": [
    {
     "data": {
      "text/plain": [
       "2"
      ]
     },
     "execution_count": 28,
     "metadata": {},
     "output_type": "execute_result"
    }
   ],
   "source": [
    "numbers.index(8)#18"
   ]
  },
  {
   "cell_type": "code",
   "execution_count": 29,
   "id": "2dc7e849",
   "metadata": {},
   "outputs": [
    {
     "data": {
      "text/plain": [
       "[0, 2, 2, 3, 8]"
      ]
     },
     "execution_count": 29,
     "metadata": {},
     "output_type": "execute_result"
    }
   ],
   "source": [
    "numbers.sort()\n",
    "numbers #１９デフォルトは昇順"
   ]
  },
  {
   "cell_type": "code",
   "execution_count": 30,
   "id": "1c350f0d",
   "metadata": {},
   "outputs": [
    {
     "data": {
      "text/plain": [
       "[8, 3, 2, 2, 0]"
      ]
     },
     "execution_count": 30,
     "metadata": {},
     "output_type": "execute_result"
    }
   ],
   "source": [
    "numbers.sort(reverse=True)\n",
    "numbers"
   ]
  },
  {
   "cell_type": "code",
   "execution_count": 31,
   "id": "511f98d0",
   "metadata": {},
   "outputs": [
    {
     "data": {
      "text/plain": [
       "{'A': '今西', 'B': '公平', 'C': '男性', 'D': '東京都'}"
      ]
     },
     "execution_count": 31,
     "metadata": {},
     "output_type": "execute_result"
    }
   ],
   "source": [
    "#辞書\n",
    "#20\n",
    "dictionary={\n",
    "    'A':'今西',\n",
    "    'B':'公平',\n",
    "    'C':'男性',\n",
    "    'D':'東京都',\n",
    "}\n",
    "dictionary"
   ]
  },
  {
   "cell_type": "code",
   "execution_count": 32,
   "id": "b7a362bd",
   "metadata": {},
   "outputs": [
    {
     "data": {
      "text/plain": [
       "'今西'"
      ]
     },
     "execution_count": 32,
     "metadata": {},
     "output_type": "execute_result"
    }
   ],
   "source": [
    "dictionary.pop('A')#20要素の削除\n"
   ]
  },
  {
   "cell_type": "code",
   "execution_count": 33,
   "id": "ee23054a",
   "metadata": {},
   "outputs": [
    {
     "data": {
      "text/plain": [
       "{'B': '公平', 'C': '男性', 'D': '東京都'}"
      ]
     },
     "execution_count": 33,
     "metadata": {},
     "output_type": "execute_result"
    }
   ],
   "source": [
    "dictionary"
   ]
  },
  {
   "cell_type": "code",
   "execution_count": 34,
   "id": "d1153e4a",
   "metadata": {},
   "outputs": [
    {
     "data": {
      "text/plain": [
       "{}"
      ]
     },
     "execution_count": 34,
     "metadata": {},
     "output_type": "execute_result"
    }
   ],
   "source": [
    "dictionary.clear()#すべて削除\n",
    "dictionary"
   ]
  },
  {
   "cell_type": "code",
   "execution_count": 35,
   "id": "3d0a54b5",
   "metadata": {},
   "outputs": [
    {
     "data": {
      "text/plain": [
       "dict_keys(['A', 'B', 'C', 'D'])"
      ]
     },
     "execution_count": 35,
     "metadata": {},
     "output_type": "execute_result"
    }
   ],
   "source": [
    "#21情報の取得\n",
    "dictionary={\n",
    "    'A':'今西',\n",
    "    'B':'公平',\n",
    "    'C':'男性',\n",
    "    'D':'東京都',\n",
    "}\n",
    "dictionary.keys()"
   ]
  },
  {
   "cell_type": "code",
   "execution_count": 36,
   "id": "b57585df",
   "metadata": {},
   "outputs": [
    {
     "data": {
      "text/plain": [
       "dict_values(['今西', '公平', '男性', '東京都'])"
      ]
     },
     "execution_count": 36,
     "metadata": {},
     "output_type": "execute_result"
    }
   ],
   "source": [
    "dictionary.values()"
   ]
  },
  {
   "cell_type": "code",
   "execution_count": 37,
   "id": "cf9e96ad",
   "metadata": {},
   "outputs": [
    {
     "data": {
      "text/plain": [
       "True"
      ]
     },
     "execution_count": 37,
     "metadata": {},
     "output_type": "execute_result"
    }
   ],
   "source": [
    "'男性'in dictionary.values() #辞書の値の中に’男性’があるか？"
   ]
  },
  {
   "cell_type": "code",
   "execution_count": 38,
   "id": "01fc59d3",
   "metadata": {},
   "outputs": [
    {
     "name": "stdout",
     "output_type": "stream",
     "text": [
      "キーはA,バリューは今西\n",
      "キーはB,バリューは公平\n",
      "キーはC,バリューは男性\n",
      "キーはD,バリューは東京都\n"
     ]
    }
   ],
   "source": [
    "for key, value in dictionary.items():\n",
    "    print(f'キーは{key},バリューは{value}')"
   ]
  },
  {
   "cell_type": "code",
   "execution_count": 39,
   "id": "b0377f52",
   "metadata": {},
   "outputs": [
    {
     "data": {
      "text/plain": [
       "'今西'"
      ]
     },
     "execution_count": 39,
     "metadata": {},
     "output_type": "execute_result"
    }
   ],
   "source": [
    "#22\n",
    "dictionary['A']"
   ]
  },
  {
   "cell_type": "code",
   "execution_count": 40,
   "id": "d8f61681",
   "metadata": {},
   "outputs": [
    {
     "data": {
      "text/plain": [
       "'男性'"
      ]
     },
     "execution_count": 40,
     "metadata": {},
     "output_type": "execute_result"
    }
   ],
   "source": [
    "#22\n",
    "dictionary.get('C') #上と同じだが、エラーが起きない"
   ]
  },
  {
   "cell_type": "code",
   "execution_count": 41,
   "id": "a511914b",
   "metadata": {},
   "outputs": [
    {
     "name": "stdout",
     "output_type": "stream",
     "text": [
      "負です\n"
     ]
    }
   ],
   "source": [
    "#２３\n",
    "num=-1\n",
    "if num>0:\n",
    "    print('正の値です')\n",
    "elif  num==0:\n",
    "    print('0です')\n",
    "else:\n",
    "    print('負です')"
   ]
  },
  {
   "cell_type": "code",
   "execution_count": 42,
   "id": "40be9547",
   "metadata": {},
   "outputs": [
    {
     "name": "stdout",
     "output_type": "stream",
     "text": [
      "負の奇数です\n"
     ]
    }
   ],
   "source": [
    "\n",
    "#24\n",
    "a=-5\n",
    "if a <= 0 and a%2==0:\n",
    "    print('一桁の整数です')\n",
    "elif a < 0 and a % 2== 1:\n",
    "    print('負の奇数です')\n",
    "else:\n",
    "    print('整数です')"
   ]
  },
  {
   "cell_type": "code",
   "execution_count": 43,
   "id": "89b84f74",
   "metadata": {},
   "outputs": [],
   "source": [
    "names=['john', 'kevin', 'louis']"
   ]
  },
  {
   "cell_type": "code",
   "execution_count": 44,
   "id": "2cbfc0d3",
   "metadata": {},
   "outputs": [
    {
     "name": "stdout",
     "output_type": "stream",
     "text": [
      "john\n",
      "kevin\n",
      "louis\n"
     ]
    }
   ],
   "source": [
    "for name in names:\n",
    "    print(name)"
   ]
  },
  {
   "cell_type": "code",
   "execution_count": 45,
   "id": "fdfcc1f8",
   "metadata": {},
   "outputs": [
    {
     "name": "stdout",
     "output_type": "stream",
     "text": [
      "0\n",
      "1\n",
      "2\n",
      "3\n",
      "4\n",
      "5\n",
      "6\n",
      "7\n",
      "8\n",
      "9\n"
     ]
    }
   ],
   "source": [
    "#26 range関数 何回繰り返すか指定\n",
    "for i in range(10):\n",
    "    print(i)"
   ]
  },
  {
   "cell_type": "code",
   "execution_count": 46,
   "id": "7cf3e67c",
   "metadata": {},
   "outputs": [
    {
     "name": "stdout",
     "output_type": "stream",
     "text": [
      "10\n",
      "11\n",
      "12\n",
      "13\n",
      "14\n",
      "15\n",
      "16\n",
      "17\n",
      "18\n",
      "19\n"
     ]
    }
   ],
   "source": [
    "for i in range(10, 20): #10スタートで２０個とる\n",
    "    print(i)"
   ]
  },
  {
   "cell_type": "code",
   "execution_count": 47,
   "id": "1933d785",
   "metadata": {},
   "outputs": [
    {
     "name": "stdout",
     "output_type": "stream",
     "text": [
      "0\n",
      "1\n",
      "2\n",
      "3\n",
      "4\n",
      "5\n",
      "終了\n"
     ]
    }
   ],
   "source": [
    "#27\n",
    "for i in range(10):\n",
    "    if i == 6:\n",
    "        print('終了')\n",
    "        break\n",
    "    print(i)"
   ]
  },
  {
   "cell_type": "code",
   "execution_count": 48,
   "id": "1724e1e0",
   "metadata": {},
   "outputs": [
    {
     "name": "stdout",
     "output_type": "stream",
     "text": [
      "0\n",
      "1\n",
      "2\n",
      "4\n",
      "5\n",
      "6\n",
      "7\n",
      "8\n",
      "9\n"
     ]
    }
   ],
   "source": [
    "#28\n",
    "for i in range(10):\n",
    "    if i == 3:\n",
    "        continue \n",
    "    print(i)"
   ]
  },
  {
   "cell_type": "code",
   "execution_count": 49,
   "id": "9ea4a4bd",
   "metadata": {},
   "outputs": [
    {
     "name": "stdout",
     "output_type": "stream",
     "text": [
      "itoumiki\n",
      "mikinana\n",
      "sakidarika\n"
     ]
    }
   ],
   "source": [
    "#29 2つのリストからそれぞれ取り出す\n",
    "lasts=['itou', 'miki','sakida']\n",
    "firsts=['miki','nana','rika']\n",
    "\n",
    "for last, first in zip(lasts,firsts):\n",
    "    print(last+first)\n"
   ]
  },
  {
   "cell_type": "code",
   "execution_count": 50,
   "id": "9076732b",
   "metadata": {},
   "outputs": [
    {
     "name": "stdout",
     "output_type": "stream",
     "text": [
      "0番目のitouさん\n",
      "1番目のmikiさん\n",
      "2番目のsakidaさん\n"
     ]
    }
   ],
   "source": [
    "for i , last in enumerate(lasts):\n",
    "    print(f'{i}番目の{last}さん')"
   ]
  },
  {
   "cell_type": "code",
   "execution_count": 51,
   "id": "e155ef4f",
   "metadata": {},
   "outputs": [],
   "source": [
    "#31\n",
    "nums=[]\n",
    "for i in range(5):\n",
    "    nums.append(2*i)"
   ]
  },
  {
   "cell_type": "code",
   "execution_count": 52,
   "id": "e8f2b30a",
   "metadata": {},
   "outputs": [
    {
     "data": {
      "text/plain": [
       "[0, 2, 4, 6, 8]"
      ]
     },
     "execution_count": 52,
     "metadata": {},
     "output_type": "execute_result"
    }
   ],
   "source": [
    "nums"
   ]
  },
  {
   "cell_type": "code",
   "execution_count": 53,
   "id": "dd25a67d",
   "metadata": {},
   "outputs": [
    {
     "data": {
      "text/plain": [
       "[0, 2, 4, 6, 8]"
      ]
     },
     "execution_count": 53,
     "metadata": {},
     "output_type": "execute_result"
    }
   ],
   "source": [
    "numbers=[2*i for i in range(5) ] #31内包表記\n",
    "numbers"
   ]
  },
  {
   "cell_type": "code",
   "execution_count": 54,
   "id": "19aa17d9",
   "metadata": {},
   "outputs": [
    {
     "name": "stdout",
     "output_type": "stream",
     "text": [
      "エラー\n"
     ]
    }
   ],
   "source": [
    "try:\n",
    "    num=0\n",
    "    print(f'計算結果{10/num}')\n",
    "except:\n",
    "    print('エラー')"
   ]
  },
  {
   "cell_type": "code",
   "execution_count": 55,
   "id": "b62cf0f1",
   "metadata": {},
   "outputs": [
    {
     "name": "stdout",
     "output_type": "stream",
     "text": [
      "division by zero\n"
     ]
    }
   ],
   "source": [
    "try:\n",
    "    num=0\n",
    "    print(f'計算結果{10/num}')\n",
    "except ZeroDivisionError as e:\n",
    "    print(e)\n",
    "#33"
   ]
  },
  {
   "cell_type": "code",
   "execution_count": 69,
   "id": "2caff517",
   "metadata": {},
   "outputs": [],
   "source": [
    "#34から\n",
    "def divide(a,b):\n",
    "    try:\n",
    "        print(f'計算結果{a/b}')\n",
    "    except ZeroDivisionError as e:\n",
    "        print(e) \n",
    "    except TypeError as e:\n",
    "        print(e)"
   ]
  },
  {
   "cell_type": "code",
   "execution_count": 71,
   "id": "d863a3a9",
   "metadata": {},
   "outputs": [
    {
     "name": "stdout",
     "output_type": "stream",
     "text": [
      "division by zero\n"
     ]
    }
   ],
   "source": [
    "divide(10,0)"
   ]
  },
  {
   "cell_type": "code",
   "execution_count": 73,
   "id": "f79d27bd",
   "metadata": {},
   "outputs": [],
   "source": [
    "#35\n",
    "def divide(a,b):\n",
    "    try:\n",
    "        print(f'計算結果{a/b}')\n",
    "    except ZeroDivisionError as e:\n",
    "        print(e) \n",
    "    except TypeError as e:\n",
    "        print(e)\n",
    "    else: \n",
    "        print('正常に終了しました')    "
   ]
  },
  {
   "cell_type": "code",
   "execution_count": 75,
   "id": "e8674421",
   "metadata": {},
   "outputs": [
    {
     "name": "stdout",
     "output_type": "stream",
     "text": [
      "計算結果2.0\n",
      "正常に終了しました\n"
     ]
    }
   ],
   "source": [
    "divide(10,5)"
   ]
  },
  {
   "cell_type": "code",
   "execution_count": 76,
   "id": "5d2e4d40",
   "metadata": {},
   "outputs": [],
   "source": [
    "#36\n",
    "def divide(a,b):\n",
    "    try:\n",
    "        print(f'計算結果{a/b}')\n",
    "    except ZeroDivisionError as e:\n",
    "        print(e) \n",
    "    except TypeError as e:\n",
    "        print(e)\n",
    "    finally: \n",
    "        print('すべて終了しました')    "
   ]
  },
  {
   "cell_type": "code",
   "execution_count": 77,
   "id": "8e143ffa",
   "metadata": {},
   "outputs": [
    {
     "name": "stdout",
     "output_type": "stream",
     "text": [
      "division by zero\n",
      "すべて終了しました\n"
     ]
    }
   ],
   "source": [
    "divide(10,0)"
   ]
  },
  {
   "cell_type": "code",
   "execution_count": 78,
   "id": "d89a59cd",
   "metadata": {},
   "outputs": [],
   "source": [
    "#37\n",
    "def divide(a,b):\n",
    "    try:\n",
    "        print(f'計算結果{a/b}')\n",
    "    except ZeroDivisionError as e:\n",
    "        print(e) \n",
    "    except TypeError as e:\n",
    "        pass\n",
    "    finally: \n",
    "        print('すべて終了しました')    "
   ]
  },
  {
   "cell_type": "code",
   "execution_count": 79,
   "id": "70352576",
   "metadata": {},
   "outputs": [
    {
     "name": "stdout",
     "output_type": "stream",
     "text": [
      "すべて終了しました\n"
     ]
    }
   ],
   "source": [
    "divide(a,'f')"
   ]
  },
  {
   "cell_type": "code",
   "execution_count": 83,
   "id": "ff83b3dd",
   "metadata": {},
   "outputs": [],
   "source": [
    "#38クラス\n",
    "\n",
    "class Person:\n",
    "    nationality = 'japan'\n",
    "    \n",
    "    def say_hello(self):\n",
    "        print(f'こんにちは。私の国籍は{self.nationality}')"
   ]
  },
  {
   "cell_type": "code",
   "execution_count": 84,
   "id": "5fa8d4d6",
   "metadata": {},
   "outputs": [],
   "source": [
    "person=Person()"
   ]
  },
  {
   "cell_type": "code",
   "execution_count": 85,
   "id": "dcdb8594",
   "metadata": {},
   "outputs": [
    {
     "data": {
      "text/plain": [
       "'japan'"
      ]
     },
     "execution_count": 85,
     "metadata": {},
     "output_type": "execute_result"
    }
   ],
   "source": [
    "person.nationality"
   ]
  },
  {
   "cell_type": "code",
   "execution_count": 86,
   "id": "2898d476",
   "metadata": {},
   "outputs": [
    {
     "name": "stdout",
     "output_type": "stream",
     "text": [
      "こんにちは。私の国籍はjapan\n"
     ]
    }
   ],
   "source": [
    "person.say_hello()"
   ]
  },
  {
   "cell_type": "code",
   "execution_count": 101,
   "id": "6606317e",
   "metadata": {},
   "outputs": [],
   "source": [
    "class Person:\n",
    "    nationality = 'japan'\n",
    "    \n",
    "    def __init__(self,name):\n",
    "        self.name=name\n",
    "    def say_hello(self):\n",
    "        print(f'こんにちは。私の国籍は{self.nationality}')\n",
    "        \n",
    "    def say_my_name(self):    \n",
    "        print(f'私の名前は{self.name}です')"
   ]
  },
  {
   "cell_type": "code",
   "execution_count": 102,
   "id": "f34564e8",
   "metadata": {},
   "outputs": [],
   "source": [
    "imanishi=Person('今西')"
   ]
  },
  {
   "cell_type": "code",
   "execution_count": 103,
   "id": "6a376b41",
   "metadata": {},
   "outputs": [
    {
     "data": {
      "text/plain": [
       "'japan'"
      ]
     },
     "execution_count": 103,
     "metadata": {},
     "output_type": "execute_result"
    }
   ],
   "source": [
    "imanishi.nationality"
   ]
  },
  {
   "cell_type": "code",
   "execution_count": 104,
   "id": "b077990e",
   "metadata": {},
   "outputs": [
    {
     "data": {
      "text/plain": [
       "'今西'"
      ]
     },
     "execution_count": 104,
     "metadata": {},
     "output_type": "execute_result"
    }
   ],
   "source": [
    "imanishi.name"
   ]
  },
  {
   "cell_type": "code",
   "execution_count": 105,
   "id": "40a04b62",
   "metadata": {},
   "outputs": [
    {
     "name": "stdout",
     "output_type": "stream",
     "text": [
      "私の名前は今西です\n"
     ]
    }
   ],
   "source": [
    "imanishi.say_my_name()"
   ]
  },
  {
   "cell_type": "code",
   "execution_count": 108,
   "id": "1350f844",
   "metadata": {},
   "outputs": [
    {
     "data": {
      "text/plain": [
       "<function TextIOWrapper.close()>"
      ]
     },
     "execution_count": 108,
     "metadata": {},
     "output_type": "execute_result"
    }
   ],
   "source": [
    "#クラスは後回し　42から\n",
    "file=open('sample.txt', \"r\", encoding=\"utf-8\")\n",
    "text= file.read()\n",
    "file.close"
   ]
  },
  {
   "cell_type": "code",
   "execution_count": 109,
   "id": "b1612961",
   "metadata": {},
   "outputs": [
    {
     "name": "stdout",
     "output_type": "stream",
     "text": [
      "りんご\n",
      "みかん\n",
      "ばなな\n",
      "なし\n",
      "\n",
      "２５０円\n",
      "2540\n",
      "\n",
      "\n"
     ]
    }
   ],
   "source": [
    "print(text)"
   ]
  },
  {
   "cell_type": "code",
   "execution_count": 111,
   "id": "abb6044f",
   "metadata": {},
   "outputs": [],
   "source": [
    "with open('sample.txt','r', encoding=\"utf-8\") as f:\n",
    "    text = f.read()"
   ]
  },
  {
   "cell_type": "code",
   "execution_count": 112,
   "id": "bfc68ed0",
   "metadata": {},
   "outputs": [
    {
     "data": {
      "text/plain": [
       "'りんご\\nみかん\\nばなな\\nなし\\n\\n２５０円\\n2540\\n\\n'"
      ]
     },
     "execution_count": 112,
     "metadata": {},
     "output_type": "execute_result"
    }
   ],
   "source": [
    "text"
   ]
  },
  {
   "cell_type": "code",
   "execution_count": 113,
   "id": "1bf1d3a7",
   "metadata": {},
   "outputs": [],
   "source": [
    "#44　ここから中断\n",
    "import json\n"
   ]
  },
  {
   "cell_type": "code",
   "execution_count": 117,
   "id": "6fcb6132",
   "metadata": {},
   "outputs": [
    {
     "ename": "FileNotFoundError",
     "evalue": "[Errno 2] No such file or directory: 'sample.json'",
     "output_type": "error",
     "traceback": [
      "\u001b[1;31m---------------------------------------------------------------------------\u001b[0m",
      "\u001b[1;31mFileNotFoundError\u001b[0m                         Traceback (most recent call last)",
      "\u001b[1;32m<ipython-input-117-55c1d866d597>\u001b[0m in \u001b[0;36m<module>\u001b[1;34m\u001b[0m\n\u001b[1;32m----> 1\u001b[1;33m \u001b[1;32mwith\u001b[0m \u001b[0mopen\u001b[0m\u001b[1;33m(\u001b[0m\u001b[1;34m'sample.json'\u001b[0m\u001b[1;33m,\u001b[0m\u001b[1;34m'r'\u001b[0m\u001b[1;33m)\u001b[0m \u001b[1;32mas\u001b[0m \u001b[0mf\u001b[0m\u001b[1;33m:\u001b[0m\u001b[1;33m\u001b[0m\u001b[1;33m\u001b[0m\u001b[0m\n\u001b[0m\u001b[0;32m      2\u001b[0m     \u001b[0mdata\u001b[0m\u001b[1;33m=\u001b[0m\u001b[0mjson\u001b[0m\u001b[1;33m.\u001b[0m\u001b[0mload\u001b[0m\u001b[1;33m(\u001b[0m\u001b[0mf\u001b[0m\u001b[1;33m)\u001b[0m\u001b[1;33m\u001b[0m\u001b[1;33m\u001b[0m\u001b[0m\n\u001b[0;32m      3\u001b[0m     \u001b[0mdata\u001b[0m\u001b[1;33m\u001b[0m\u001b[1;33m\u001b[0m\u001b[0m\n",
      "\u001b[1;31mFileNotFoundError\u001b[0m: [Errno 2] No such file or directory: 'sample.json'"
     ]
    }
   ],
   "source": [
    "with open('sample.json','r') as f:\n",
    "    data=json.load(f)\n",
    "    data"
   ]
  },
  {
   "cell_type": "code",
   "execution_count": 127,
   "id": "d91ec753",
   "metadata": {},
   "outputs": [
    {
     "name": "stdout",
     "output_type": "stream",
     "text": [
      "もっとりんご\n",
      "ほしいもっとみかん\n",
      "ほしいもっとばなな\n",
      "ほしいもっとなし\n",
      "ほしいもっと\n",
      "ほしいもっと２５０円\n",
      "ほしいもっと2540\n",
      "ほしいもっと\n",
      "ほしい"
     ]
    }
   ],
   "source": [
    "#オラクル追加3562\n",
    "import sys\n",
    "f=open('sample.txt','r', encoding=\"utf-8\")\n",
    "\n",
    "for line in f:\n",
    "    #print('もっと' + line + 'ほしい')\n",
    "    sys.stdout.writelines('もっと' + line + 'ほしい')#改行せずにかきこみ　ただしline以下は改行されてる\n",
    "f.close()    "
   ]
  },
  {
   "cell_type": "code",
   "execution_count": 128,
   "id": "d3f8a56a",
   "metadata": {},
   "outputs": [
    {
     "name": "stdout",
     "output_type": "stream",
     "text": [
      "りんご\n",
      "みかん\n",
      "ばなな\n",
      "なし\n",
      "\n",
      "２５０円\n",
      "2540\n",
      "\n",
      "\n"
     ]
    }
   ],
   "source": [
    "#オラクル　まるごと読み込み\n",
    "import sys\n",
    "f=open('sample.txt','r', encoding=\"utf-8\")\n",
    "text=f.read()  \n",
    "print(text)"
   ]
  },
  {
   "cell_type": "code",
   "execution_count": null,
   "id": "36a6f749",
   "metadata": {},
   "outputs": [],
   "source": []
  }
 ],
 "metadata": {
  "kernelspec": {
   "display_name": "Python 3",
   "language": "python",
   "name": "python3"
  },
  "language_info": {
   "codemirror_mode": {
    "name": "ipython",
    "version": 3
   },
   "file_extension": ".py",
   "mimetype": "text/x-python",
   "name": "python",
   "nbconvert_exporter": "python",
   "pygments_lexer": "ipython3",
   "version": "3.8.8"
  }
 },
 "nbformat": 4,
 "nbformat_minor": 5
}
