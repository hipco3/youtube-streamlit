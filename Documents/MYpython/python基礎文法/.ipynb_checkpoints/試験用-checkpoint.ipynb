{
 "cells": [
  {
   "cell_type": "code",
   "execution_count": 1,
   "id": "8fd02b71",
   "metadata": {},
   "outputs": [
    {
     "ename": "TypeError",
     "evalue": "unsupported operand type(s) for +: 'int' and 'str'",
     "output_type": "error",
     "traceback": [
      "\u001b[1;31m---------------------------------------------------------------------------\u001b[0m",
      "\u001b[1;31mTypeError\u001b[0m                                 Traceback (most recent call last)",
      "\u001b[1;32m<ipython-input-1-f5f672e79a84>\u001b[0m in \u001b[0;36m<module>\u001b[1;34m\u001b[0m\n\u001b[0;32m      2\u001b[0m \u001b[0mkakaku\u001b[0m\u001b[1;33m=\u001b[0m\u001b[1;36m1200\u001b[0m\u001b[1;33m\u001b[0m\u001b[1;33m\u001b[0m\u001b[0m\n\u001b[0;32m      3\u001b[0m \u001b[0mkakaku\u001b[0m\u001b[1;33m*\u001b[0m\u001b[0mzei\u001b[0m\u001b[1;33m\u001b[0m\u001b[1;33m\u001b[0m\u001b[0m\n\u001b[1;32m----> 4\u001b[1;33m \u001b[0mkakaku\u001b[0m \u001b[1;33m+\u001b[0m\u001b[0m_\u001b[0m\u001b[1;33m\u001b[0m\u001b[1;33m\u001b[0m\u001b[0m\n\u001b[0m\u001b[0;32m      5\u001b[0m \u001b[1;31m#アンダーバーは直前の式を入れることができるQ10\u001b[0m\u001b[1;33m\u001b[0m\u001b[1;33m\u001b[0m\u001b[1;33m\u001b[0m\u001b[0m\n",
      "\u001b[1;31mTypeError\u001b[0m: unsupported operand type(s) for +: 'int' and 'str'"
     ]
    }
   ],
   "source": [
    "zei=8/100\n",
    "kakaku=1200\n",
    "kakaku*zei\n",
    "kakaku +_\n",
    "#アンダーバーは直前の式を入れることができるQ10"
   ]
  },
  {
   "cell_type": "code",
   "execution_count": 2,
   "id": "8b8840c6",
   "metadata": {},
   "outputs": [
    {
     "ename": "TypeError",
     "evalue": "type str doesn't define __round__ method",
     "output_type": "error",
     "traceback": [
      "\u001b[1;31m---------------------------------------------------------------------------\u001b[0m",
      "\u001b[1;31mTypeError\u001b[0m                                 Traceback (most recent call last)",
      "\u001b[1;32m<ipython-input-2-f54dcd2a6251>\u001b[0m in \u001b[0;36m<module>\u001b[1;34m\u001b[0m\n\u001b[0;32m      2\u001b[0m \u001b[0mprice\u001b[0m\u001b[1;33m=\u001b[0m\u001b[1;36m98.3\u001b[0m\u001b[1;33m\u001b[0m\u001b[1;33m\u001b[0m\u001b[0m\n\u001b[0;32m      3\u001b[0m \u001b[0mprice\u001b[0m\u001b[1;33m*\u001b[0m\u001b[0mtax\u001b[0m\u001b[1;33m\u001b[0m\u001b[1;33m\u001b[0m\u001b[0m\n\u001b[1;32m----> 4\u001b[1;33m \u001b[0mround\u001b[0m\u001b[1;33m(\u001b[0m\u001b[0m_\u001b[0m\u001b[1;33m,\u001b[0m\u001b[1;36m3\u001b[0m\u001b[1;33m)\u001b[0m\u001b[1;33m\u001b[0m\u001b[1;33m\u001b[0m\u001b[0m\n\u001b[0m",
      "\u001b[1;31mTypeError\u001b[0m: type str doesn't define __round__ method"
     ]
    }
   ],
   "source": [
    "tax=8.5/100\n",
    "price=98.3\n",
    "price*tax\n",
    "round(_,3)"
   ]
  },
  {
   "cell_type": "code",
   "execution_count": 3,
   "id": "2f4393a0",
   "metadata": {},
   "outputs": [
    {
     "data": {
      "text/plain": [
       "['tiger', 'horse']"
      ]
     },
     "execution_count": 3,
     "metadata": {},
     "output_type": "execute_result"
    }
   ],
   "source": [
    "list_a=['dog','cat','tiger','horse','monkey']\n",
    "list_a[2:4]#12"
   ]
  },
  {
   "cell_type": "code",
   "execution_count": 4,
   "id": "3a7448c2",
   "metadata": {},
   "outputs": [
    {
     "data": {
      "text/plain": [
       "['dog', 'cat', 'tiger', 'elephant', 'monkey']"
      ]
     },
     "execution_count": 4,
     "metadata": {},
     "output_type": "execute_result"
    }
   ],
   "source": [
    "list_a=['dog','cat','tiger','horse','monkey']\n",
    "list_a[3]='elephant'#13\n",
    "list_a"
   ]
  },
  {
   "cell_type": "code",
   "execution_count": 5,
   "id": "6cf49e10",
   "metadata": {},
   "outputs": [
    {
     "data": {
      "text/plain": [
       "'tiger'"
      ]
     },
     "execution_count": 5,
     "metadata": {},
     "output_type": "execute_result"
    }
   ],
   "source": [
    "#17\n",
    "list_a=[[2,4,6],['dog','cat','tiger']]\n",
    "list_a[1][2]"
   ]
  },
  {
   "cell_type": "code",
   "execution_count": 6,
   "id": "bc697695",
   "metadata": {},
   "outputs": [
    {
     "data": {
      "text/plain": [
       "300"
      ]
     },
     "execution_count": 6,
     "metadata": {},
     "output_type": "execute_result"
    }
   ],
   "source": [
    "list_a=[[2,4,6],['dog','cat','tiger',[100,200,300]]]\n",
    "list_a[1][3][2]#18 2つの要素の２番目　そのうちの４番目の３番目"
   ]
  },
  {
   "cell_type": "code",
   "execution_count": 7,
   "id": "e41b1fb4",
   "metadata": {},
   "outputs": [
    {
     "name": "stdout",
     "output_type": "stream",
     "text": [
      "2,2,4,6,10,16,"
     ]
    }
   ],
   "source": [
    "#19\n",
    "a,b=0,2\n",
    "while b<20:\n",
    "    print(b,end=',')\n",
    "    a,b=b,a+b"
   ]
  },
  {
   "cell_type": "code",
   "execution_count": 8,
   "id": "c0e42836",
   "metadata": {},
   "outputs": [
    {
     "data": {
      "text/plain": [
       "[3, 4, 5]"
      ]
     },
     "execution_count": 8,
     "metadata": {},
     "output_type": "execute_result"
    }
   ],
   "source": [
    "list(range(3,6))"
   ]
  },
  {
   "cell_type": "code",
   "execution_count": 9,
   "id": "5c0f13e2",
   "metadata": {},
   "outputs": [
    {
     "data": {
      "text/plain": [
       "[3, 4, 5]"
      ]
     },
     "execution_count": 9,
     "metadata": {},
     "output_type": "execute_result"
    }
   ],
   "source": [
    "args=[3,6]\n",
    "list(range(*args))"
   ]
  },
  {
   "cell_type": "code",
   "execution_count": 10,
   "id": "0d0761df",
   "metadata": {},
   "outputs": [
    {
     "data": {
      "text/plain": [
       "['dog', 'cat', 'tiger', 'horse', 'monkey', 'tiger', 'horse']"
      ]
     },
     "execution_count": 10,
     "metadata": {},
     "output_type": "execute_result"
    }
   ],
   "source": [
    "list_a=['dog','cat','tiger','horse','monkey']\n",
    "for s in list_a[:]:\n",
    "    if len(s)==5:\n",
    "        list_a.append(s)\n",
    "list_a        "
   ]
  },
  {
   "cell_type": "code",
   "execution_count": 11,
   "id": "2c76c39a",
   "metadata": {},
   "outputs": [
    {
     "ename": "SyntaxError",
     "evalue": "invalid character in identifier (<ipython-input-11-50e0654ea1ec>, line 3)",
     "output_type": "error",
     "traceback": [
      "\u001b[1;36m  File \u001b[1;32m\"<ipython-input-11-50e0654ea1ec>\"\u001b[1;36m, line \u001b[1;32m3\u001b[0m\n\u001b[1;33m    for i in range(9):　#range(0～8）のなかからひとつづつ\u001b[0m\n\u001b[1;37m                      ^\u001b[0m\n\u001b[1;31mSyntaxError\u001b[0m\u001b[1;31m:\u001b[0m invalid character in identifier\n"
     ]
    }
   ],
   "source": [
    "#5\n",
    "a=[5,17,2,11,25,28,29,7,23]\n",
    "for i in range(9):　#range(0～8）のなかからひとつづつ\n",
    "    b=5+a[i]\n",
    "    if b>=30:\n",
    "        print('answer',b,i,a[i])\n",
    "        break　#いったん条件を満たすをそれ以降は中止\n",
    "else:\n",
    "    print(\"30になる要素はありませんでした\")"
   ]
  },
  {
   "cell_type": "code",
   "execution_count": 12,
   "id": "63053a81",
   "metadata": {},
   "outputs": [
    {
     "name": "stdout",
     "output_type": "stream",
     "text": [
      "0\n",
      "1\n"
     ]
    }
   ],
   "source": [
    "a=[5,17,2]\n",
    "for i in range(2):\n",
    "    print(i)   #rangeの中からひとつづつの意味"
   ]
  },
  {
   "cell_type": "code",
   "execution_count": 13,
   "id": "6165ffb5",
   "metadata": {},
   "outputs": [
    {
     "name": "stdout",
     "output_type": "stream",
     "text": [
      "5\n",
      "17\n",
      "2\n"
     ]
    }
   ],
   "source": [
    "a=[5,17,2]\n",
    "for i in a:\n",
    "    print(i) #リストの要素からひとつづつ"
   ]
  },
  {
   "cell_type": "code",
   "execution_count": 1,
   "id": "5f157b9a",
   "metadata": {},
   "outputs": [
    {
     "name": "stdout",
     "output_type": "stream",
     "text": [
      "太郎,par,3\n"
     ]
    }
   ],
   "source": [
    "#7\n",
    "def jyanken(name,content='tyoki', kaisu=3):\n",
    "    print(name,end=',')\n",
    "    print(content, end=',')\n",
    "    print(kaisu)\n",
    "jyanken(name='太郎',content='par')\n",
    "#関数のデフォルト引数が更新されれば、更新分をなければデフォルト値"
   ]
  },
  {
   "cell_type": "code",
   "execution_count": 2,
   "id": "6c15a16f",
   "metadata": {},
   "outputs": [
    {
     "name": "stdout",
     "output_type": "stream",
     "text": [
      "odaiba none 50\n"
     ]
    }
   ],
   "source": [
    "#8\n",
    "def jyanken(place,content='jyankentaikai',kaisu=5):\n",
    "    content='none'\n",
    "    print(place,end=' ')\n",
    "    print(content,end=' ')\n",
    "    print(kaisu)\n",
    "jyanken(place='odaiba', content='mezamashi', kaisu=50)  \n",
    "#関数中にcontent=noneとあるのでそれば実行される"
   ]
  },
  {
   "cell_type": "code",
   "execution_count": 3,
   "id": "7db7bfdb",
   "metadata": {},
   "outputs": [
    {
     "name": "stdout",
     "output_type": "stream",
     "text": [
      "[25, 30]\n",
      "[25, 30, 38]\n",
      "[25, 30, 38, 42]\n"
     ]
    }
   ],
   "source": [
    "def hawoold(age,list_w=[25]):\n",
    "    list_w.append(age)\n",
    "    return list_w\n",
    "\n",
    "print(hawoold(30))\n",
    "print(hawoold(38))\n",
    "print(hawoold(42))"
   ]
  },
  {
   "cell_type": "code",
   "execution_count": 5,
   "id": "e592e98a",
   "metadata": {},
   "outputs": [],
   "source": [
    "参加者名:('a','b','c')\n",
    "参加者名:('a','b','c','d')    "
   ]
  },
  {
   "cell_type": "code",
   "execution_count": 9,
   "id": "e5c6080f",
   "metadata": {},
   "outputs": [
    {
     "name": "stdout",
     "output_type": "stream",
     "text": [
      "参加者名： ('a', 'b', 'c')\n",
      "参加者名： ('a', 'b', 'c', 'd')\n"
     ]
    }
   ],
   "source": [
    "def name(*args):\n",
    "    print('参加者名：', args)\n",
    "name('a','b','c') #関数の引数は１つだが、*がついているので３こでもOK\n",
    "name('a','b','c','d')\n",
    "\n",
    "#再度確認　引数のかすとコールするときの引数の数が同じでなければならないが、＊をつけるとこの制限を回避できる"
   ]
  },
  {
   "cell_type": "markdown",
   "id": "c3a69965",
   "metadata": {},
   "source": []
  },
  {
   "cell_type": "markdown",
   "id": "c0d50bf3",
   "metadata": {},
   "source": []
  },
  {
   "cell_type": "code",
   "execution_count": null,
   "id": "82f302c5",
   "metadata": {},
   "outputs": [],
   "source": [
    "#関数を呼び出す側で指定する引数(実引数)の数と関数側の引数(仮引数)の数は同じです。(デフォルト値を設定している場合は省略することもできます)。\n",
    "\n",
    "#def 関数名(仮引数1, 仮引数2):\n",
    "#    ....\n",
    "#    return\n",
    "\n",
    "#関数名(実引数1, 実引数2)\n",
    "#関数側の仮引数の名前の前にアスタリスク(*)を付けると、その仮引数は 0 個から任意の数の値を受け取ることが出来るようにになります。\n"
   ]
  },
  {
   "cell_type": "code",
   "execution_count": 1,
   "id": "cadfe144",
   "metadata": {},
   "outputs": [
    {
     "name": "stdout",
     "output_type": "stream",
     "text": [
      "[(40, 'fuku'), (41, 'saga'), (42, 'naga'), (43, 'kuma')]\n"
     ]
    }
   ],
   "source": [
    "#11\n",
    "toshi_code=[(42,'naga'),(41,'saga'),(40,'fuku'),(43,'kuma')]\n",
    "pref=toshi_code\n",
    "\n",
    "pref.sort(key=lambda pref: pref[0])\n",
    "print(pref)\n"
   ]
  },
  {
   "cell_type": "code",
   "execution_count": 15,
   "id": "8d3e240a",
   "metadata": {},
   "outputs": [
    {
     "ename": "AttributeError",
     "evalue": "'dict' object has no attribute 'sort'",
     "output_type": "error",
     "traceback": [
      "\u001b[1;31m---------------------------------------------------------------------------\u001b[0m",
      "\u001b[1;31mAttributeError\u001b[0m                            Traceback (most recent call last)",
      "\u001b[1;32m<ipython-input-15-3bc1ee0c0bed>\u001b[0m in \u001b[0;36m<module>\u001b[1;34m\u001b[0m\n\u001b[0;32m      2\u001b[0m \u001b[1;31m#注意　要素をソートした新しいリストを作るのではなく、元のリストの要素を並び替えます。\u001b[0m\u001b[1;33m\u001b[0m\u001b[1;33m\u001b[0m\u001b[1;33m\u001b[0m\u001b[0m\n\u001b[0;32m      3\u001b[0m \u001b[0ma\u001b[0m\u001b[1;33m=\u001b[0m\u001b[1;33m{\u001b[0m\u001b[1;36m1\u001b[0m\u001b[1;33m:\u001b[0m \u001b[1;34m'D'\u001b[0m\u001b[1;33m,\u001b[0m \u001b[1;36m2\u001b[0m\u001b[1;33m:\u001b[0m \u001b[1;34m'B'\u001b[0m\u001b[1;33m,\u001b[0m \u001b[1;36m3\u001b[0m\u001b[1;33m:\u001b[0m \u001b[1;34m'B'\u001b[0m\u001b[1;33m,\u001b[0m \u001b[1;36m4\u001b[0m\u001b[1;33m:\u001b[0m \u001b[1;34m'E'\u001b[0m\u001b[1;33m,\u001b[0m \u001b[1;36m5\u001b[0m\u001b[1;33m:\u001b[0m \u001b[1;34m'A'\u001b[0m\u001b[1;33m}\u001b[0m\u001b[1;33m\u001b[0m\u001b[1;33m\u001b[0m\u001b[0m\n\u001b[1;32m----> 4\u001b[1;33m \u001b[0ma\u001b[0m\u001b[1;33m.\u001b[0m\u001b[0msort\u001b[0m\u001b[1;33m(\u001b[0m\u001b[1;33m)\u001b[0m\u001b[1;33m\u001b[0m\u001b[1;33m\u001b[0m\u001b[0m\n\u001b[0m",
      "\u001b[1;31mAttributeError\u001b[0m: 'dict' object has no attribute 'sort'"
     ]
    }
   ],
   "source": [
    "#sort リストのみ　他はエラーになります。\n",
    "#注意　要素をソートした新しいリストを作るのではなく、元のリストの要素を並び替えます。\n",
    "#一つのリストに複数種類の文字が混在する場合は、「大文字アルファベット→小文字アルファベット→ひらがな→カタカナ」の順でソートします。\n",
    "#数値と文字列が混在しているリストにsort()メソッドを使うとエラ\n",
    "#降順でソートするには、メソッドの引数に「reverse=True」\n",
    "a={1: 'D', 2: 'B', 3: 'B', 4: 'E', 5: 'A'}\n",
    "a.sort()\n"
   ]
  },
  {
   "cell_type": "code",
   "execution_count": 17,
   "id": "b237fa21",
   "metadata": {},
   "outputs": [
    {
     "name": "stdout",
     "output_type": "stream",
     "text": [
      "[1, 2, 3, 4, 5]\n",
      "None\n"
     ]
    }
   ],
   "source": [
    "nums = [3, 5, 2, 4, 1]\n",
    "nums.sort()\n",
    "print(nums)\n",
    "#あくまでも元のリストをソートするので、メソッド自体の返り値はNone\n",
    "print(nums.sort())"
   ]
  },
  {
   "cell_type": "code",
   "execution_count": null,
   "id": "269d87df",
   "metadata": {},
   "outputs": [],
   "source": [
    "sorted({1: 'D', 2: 'B', 3: 'B', 4: 'E', 5: 'A'})\n",
    "#sorted はOK"
   ]
  },
  {
   "cell_type": "code",
   "execution_count": 18,
   "id": "7344e6e7",
   "metadata": {},
   "outputs": [
    {
     "name": "stdout",
     "output_type": "stream",
     "text": [
      "[[0, 2], [1, 1], [2, 0]]\n"
     ]
    }
   ],
   "source": [
    "#sort()メソッドは多重リストをソートする場合、内側のリストの最初（インデックス番号0番）の要素を基準に並び替えます。\n",
    "list = [[0, 2], [1, 1], [2, 0]]\n",
    "list.sort()\n",
    "print(list)"
   ]
  },
  {
   "cell_type": "code",
   "execution_count": 1,
   "id": "900ddfd7",
   "metadata": {},
   "outputs": [
    {
     "data": {
      "text/plain": [
       "[(3, 'apple'), (5, 'grape'), (2, 'orange')]"
      ]
     },
     "execution_count": 1,
     "metadata": {},
     "output_type": "execute_result"
    }
   ],
   "source": [
    "pairs=[(2,\"orange\"),(5,\"grape\"),(3,\"apple\")]\n",
    "pairs.sort(key=lambda pairs:pairs[1]) #リストpairsのindex番号の順に並べるアルファベット順\n",
    "pairs"
   ]
  },
  {
   "cell_type": "code",
   "execution_count": null,
   "id": "d8b71c9c",
   "metadata": {},
   "outputs": [],
   "source": [
    "#内側のリストの2つ目（インデックス番号1番）を基準にソートしたい場合は、\n",
    "#次のようにlambda式やdef文で、インデックス番号1番の要素を参照する関数を作り、それをsort()メソッドの「key=」の右辺に渡します。\n",
    "sortsecond = lambda val: val[1]\n",
    "\n",
    "list = [[0, 2], [1, 1], [2, 0]]\n",
    "list.sort(key=sortsecond)\n",
    "print(list)\n",
    "#lambdaは、sorted()関数やmap()関数、filter()関数など、引数に関数を受け取る関数を使うときに、簡潔なコードを書くために使います\n",
    "#関数の引数に関数を渡したい時"
   ]
  },
  {
   "cell_type": "code",
   "execution_count": 16,
   "id": "3af4e7fa",
   "metadata": {},
   "outputs": [
    {
     "name": "stdout",
     "output_type": "stream",
     "text": [
      "(58.5, 170, '女性', 'OL')\n",
      "\n",
      "    体重、身長、性、職業\n",
      "    を表示します\n",
      "    \n"
     ]
    }
   ],
   "source": [
    "#12\n",
    "def asai_keisan(weight,height,sex,work):\n",
    "    '''\n",
    "    体重、身長、性、職業\n",
    "    を表示します\n",
    "    '''\n",
    "    \n",
    "    \n",
    "    asai=weight,height,sex,work\n",
    "    print(asai)\n",
    "    print(asai_keisan.__doc__)#定義宣言の直下に複数行コメントがあるとそれを読み込んで，ここに格納する．\n",
    "    \n",
    "aa={'weight':58.5,'height':170,'sex':'女性', 'work':'OL'} \n",
    "asai_keisan(**aa)#**kwargsのように**をつけた引数を定義すると、任意の数のキーワード引数を指定できる。\n",
    "#関数の中では引数名がキーkey、値がvalueとなる辞書として受け取られる。"
   ]
  },
  {
   "cell_type": "code",
   "execution_count": 20,
   "id": "4b3b3fb0",
   "metadata": {},
   "outputs": [
    {
     "name": "stdout",
     "output_type": "stream",
     "text": [
      "taro,7,3\n",
      "taro,tyoki,7\n"
     ]
    }
   ],
   "source": [
    "#13\n",
    "def jyanken(name,content='tyoki',kaisu=3):\n",
    "    print(name,end=',')\n",
    "    print(content,end=',')\n",
    "    print(kaisu)\n",
    "    \n",
    "jyanken('taro',7)   #このようにすると７は２番目に入ると理解されるので、正しくはkaisu=7 \n",
    "jyanken('taro',kaisu=7) "
   ]
  },
  {
   "cell_type": "code",
   "execution_count": 27,
   "id": "128626da",
   "metadata": {},
   "outputs": [
    {
     "name": "stdout",
     "output_type": "stream",
     "text": [
      "20.242214532871973\n",
      "20.242214532871973\n"
     ]
    }
   ],
   "source": [
    "#15\n",
    "def bmi_keisan(weight,height,sex,work):\n",
    "    bmi=float(weight)/(float(height/100)**2)\n",
    "    print(bmi)\n",
    "    \n",
    "aa={'weight':58.5,'height':170,'sex':'女性', 'work':'OL'}   \n",
    "bmi_keisan(**aa)\n",
    "bmi_keisan(aa['weight'],aa['height'],aa['sex'],aa['work']) #どちらでもOK"
   ]
  },
  {
   "cell_type": "code",
   "execution_count": 30,
   "id": "f16357b1",
   "metadata": {},
   "outputs": [
    {
     "name": "stdout",
     "output_type": "stream",
     "text": [
      "7\n"
     ]
    }
   ],
   "source": [
    "#16\n",
    "i=7\n",
    "def foo(arg=i):\n",
    "    print(arg)\n",
    "    \n",
    "i=2\n",
    "foo() #注意　６行目のiは認識されない。関数は最初から実行されるため"
   ]
  },
  {
   "cell_type": "code",
   "execution_count": 2,
   "id": "127b0971",
   "metadata": {},
   "outputs": [
    {
     "name": "stdout",
     "output_type": "stream",
     "text": [
      "gawym\n"
     ]
    }
   ],
   "source": [
    "#3\n",
    "list_a='nagasakiwakyoumoamedatta'\n",
    "print(list_a[2:15:3])#リストスライシング　インデックス２からインデックス15まで3つおきに"
   ]
  },
  {
   "cell_type": "code",
   "execution_count": 1,
   "id": "923f9d2d",
   "metadata": {},
   "outputs": [
    {
     "name": "stdout",
     "output_type": "stream",
     "text": [
      "[2, 4, 3]\n"
     ]
    }
   ],
   "source": [
    "a_list=[2,4,4,3]\n",
    "a_list.remove(4)\n",
    "print(a_list) #removeは最初の値のみ削除"
   ]
  },
  {
   "cell_type": "code",
   "execution_count": 2,
   "id": "c896fbe0",
   "metadata": {},
   "outputs": [
    {
     "data": {
      "text/plain": [
       "[1, 2, 3, 10, 20, 30]"
      ]
     },
     "execution_count": 2,
     "metadata": {},
     "output_type": "execute_result"
    }
   ],
   "source": [
    "#3\n",
    "list_a=[1,2,3]\n",
    "list_b=[10,20,30]\n",
    "list_a=list_a+list_b\n",
    "list_a"
   ]
  },
  {
   "cell_type": "code",
   "execution_count": 3,
   "id": "1ff42aac",
   "metadata": {},
   "outputs": [
    {
     "data": {
      "text/plain": [
       "[1, 2, 3, 10, 20, 30]"
      ]
     },
     "execution_count": 3,
     "metadata": {},
     "output_type": "execute_result"
    }
   ],
   "source": [
    "#3 上と同じ結果\n",
    "list_a=[1,2,3]\n",
    "list_b=[10,20,30]\n",
    "list_a.extend(list_b)\n",
    "list_a"
   ]
  },
  {
   "cell_type": "code",
   "execution_count": 7,
   "id": "d0445733",
   "metadata": {},
   "outputs": [
    {
     "data": {
      "text/plain": [
       "[30, 20, 10, 3, 2, 1]"
      ]
     },
     "execution_count": 7,
     "metadata": {},
     "output_type": "execute_result"
    }
   ],
   "source": [
    "#4\n",
    "list_a=[1,2,3,10,20,30]\n",
    "list_a.sort(reverse=True)\n",
    "list_a"
   ]
  },
  {
   "cell_type": "code",
   "execution_count": 8,
   "id": "0b7bf3ee",
   "metadata": {},
   "outputs": [
    {
     "data": {
      "text/plain": [
       "['dog', 'lion', 'tiger']"
      ]
     },
     "execution_count": 8,
     "metadata": {},
     "output_type": "execute_result"
    }
   ],
   "source": [
    "list_a=['dog','cat','tiger']\n",
    "list_a[1]='lion'\n",
    "list_a\n",
    "#間違い　増やすにはinsert リスト.insert(位置, 要素)\n",
    "\n"
   ]
  },
  {
   "cell_type": "code",
   "execution_count": 10,
   "id": "387b075b",
   "metadata": {},
   "outputs": [
    {
     "data": {
      "text/plain": [
       "['dog', 'lion', 'cat', 'tiger']"
      ]
     },
     "execution_count": 10,
     "metadata": {},
     "output_type": "execute_result"
    }
   ],
   "source": [
    "list_a=['dog','cat','tiger']\n",
    "list_a.insert(1,'lion')\n",
    "list_a"
   ]
  },
  {
   "cell_type": "code",
   "execution_count": 12,
   "id": "74c3f265",
   "metadata": {},
   "outputs": [
    {
     "data": {
      "text/plain": [
       "'dog'"
      ]
     },
     "execution_count": 12,
     "metadata": {},
     "output_type": "execute_result"
    }
   ],
   "source": [
    "from collections import deque\n",
    "list_a=['dog', 'lion', 'cat', 'tiger']\n",
    "list_a=deque(list_a)\n",
    "list_a.popleft()"
   ]
  },
  {
   "cell_type": "code",
   "execution_count": 13,
   "id": "3e791b75",
   "metadata": {},
   "outputs": [
    {
     "name": "stdout",
     "output_type": "stream",
     "text": [
      "deque([1, 2, 3])\n",
      "deque([1, 2, 3, 4])\n",
      "deque([5, 1, 2, 3, 4])\n",
      "4\n",
      "deque([5, 1, 2, 3])\n",
      "5\n",
      "deque([1, 2, 3])\n"
     ]
    }
   ],
   "source": [
    "#queueとは queue(キュー)とは、先入れ先出し(First In First Out, FIFO)のデータ構造です。\n",
    "#左から入れたものが右から出てくるような、一方通行の管のイメージです。\n",
    "#dequeとは\n",
    "#deque(デキュー)とは、double ended queueの略で、queueの両端からappend/popを行えるようにしたものです。P\n",
    "import collections\n",
    "\n",
    "dq = collections.deque([1,2,3])\n",
    "\n",
    "print(dq) # [1,2,3]\n",
    "\n",
    "dq.append(4)\n",
    "print(dq) # [1,2,3,4]\n",
    "\n",
    "dq.appendleft(5)\n",
    "print(dq) # [5,1,2,3,4]\n",
    "\n",
    "print(dq.pop()) # 4\n",
    "print(dq) # [5,1,2,3]\n",
    "\n",
    "print(dq.popleft()) # 5\n",
    "print(dq) # [1,2,3]"
   ]
  },
  {
   "cell_type": "code",
   "execution_count": 14,
   "id": "4d6eef06",
   "metadata": {},
   "outputs": [
    {
     "name": "stdout",
     "output_type": "stream",
     "text": [
      "['kkk', 'yyy', 'ooo', 'uuu', 'ttt', 'ooo']\n"
     ]
    }
   ],
   "source": [
    "list_a=[d*3 for d in 'kyouto']\n",
    "print(list_a)"
   ]
  },
  {
   "cell_type": "code",
   "execution_count": 16,
   "id": "b523f9fe",
   "metadata": {},
   "outputs": [
    {
     "name": "stdout",
     "output_type": "stream",
     "text": [
      "[['a', 'b', 'c'], ['aa', 'bb', 'cc']]\n"
     ]
    }
   ],
   "source": [
    "list_b=[[x*y for x in 'abc'] for y in range(1,3)] #range(start, stop[, step])\n",
    "print(list_b)"
   ]
  },
  {
   "cell_type": "code",
   "execution_count": 1,
   "id": "ba737035",
   "metadata": {},
   "outputs": [
    {
     "name": "stdout",
     "output_type": "stream",
     "text": [
      "[1, 'a,', 'い']\n"
     ]
    }
   ],
   "source": [
    "list_a=[[1,2,3],['a,','b','c'],['い','ろ','は']]\n",
    "list_b=[row[0] for row in list_a] #リスト内リストの０番目の要素\n",
    "print(list_b)"
   ]
  },
  {
   "cell_type": "code",
   "execution_count": 4,
   "id": "d3293b66",
   "metadata": {},
   "outputs": [
    {
     "name": "stdout",
     "output_type": "stream",
     "text": [
      "[[2, 'b', 'ろ'], [2, 'b', 'ろ'], [2, 'b', 'ろ']]\n"
     ]
    }
   ],
   "source": [
    "#11 再復習\n",
    "list_a=[[1,2,3],['a,','b','c'],['い','ろ','は']]\n",
    "list_b=[[row[1] for row in list_a] for i in range(3)]　#i が０のとき１個目のリスト、１のとき２個目のリスト　０に惑わされない\n",
    "print(list_b)"
   ]
  },
  {
   "cell_type": "code",
   "execution_count": 5,
   "id": "5cf31c62",
   "metadata": {},
   "outputs": [
    {
     "name": "stdout",
     "output_type": "stream",
     "text": [
      "0\n",
      "1\n",
      "2\n",
      "3\n",
      "4\n"
     ]
    }
   ],
   "source": [
    "#11の復習\n",
    "for i in range(5):\n",
    "    print(i)"
   ]
  },
  {
   "cell_type": "markdown",
   "id": "1d5982e9",
   "metadata": {},
   "source": [
    "FIFOキュー(先入れ先出し) プログラミング用語では単にキュー\n",
    "queueは「collections」というコンテナデータ型を使用します。「collections.deque」でキューを操作します\n",
    "LIFOキュー(後入れ先出し) ログラミング用語ではスタック\n",
    "from collections import deque\n",
    "\n",
    "# queueの右側に追加\n",
    "キュー変数.append(追加する値)\n",
    "\n",
    "# queueの左側に追加\n",
    "キュー変数.appendleft(追加する値)\n",
    "\n",
    "# queueの左を取り出す\n",
    "キュー変数.popleft()\n",
    "\n",
    "# queueの右を取り出す\n",
    "キュー変数.pop()\n",
    "\n",
    "import queue\n",
    "\n",
    "q = queue.Queue()\n",
    "# データの挿入\n",
    "q.put(データ)\n",
    "# データの取り出し\n",
    "q.get()\n",
    "\n",
    "\n",
    "dequeとはdouble-ended queueの省略形のことで両端キューともいわれます。名前の通り両サイドからデータを挿入することも取り出すこともできます。\n",
    "\n",
    "Pythonではcollectionsモジュールを用いることで使うことができます。基本的なdequeの書き方は以下の通りです。\n",
    "\n",
    "from collections import deque\n",
    "\n",
    "dq = deque()\n",
    "# 後ろへデータを挿入\n",
    "dq.append(データ)\n",
    "# 前へデータを挿入\n",
    "dq.appendleft(データ)\n",
    "\n",
    "# 後ろのデータの取り出し\n",
    "dq.pop()\n",
    "# 前のデータを取り出し\n",
    "dq.popleft()\n"
   ]
  },
  {
   "cell_type": "code",
   "execution_count": 3,
   "id": "5da6c3f4",
   "metadata": {},
   "outputs": [
    {
     "data": {
      "text/plain": [
       "deque(['can', 'tiger', 'python'])"
      ]
     },
     "execution_count": 3,
     "metadata": {},
     "output_type": "execute_result"
    }
   ],
   "source": [
    "#12\n",
    "from collections import deque #両端キュー\n",
    "list_a=deque(['dog','can','tiger'])\n",
    "list_a.append('python') #queueの右側に追加\n",
    "list_a.popleft()# queueの左を取り出す\n",
    "list_a"
   ]
  },
  {
   "cell_type": "code",
   "execution_count": 7,
   "id": "83c3ddc0",
   "metadata": {},
   "outputs": [
    {
     "data": {
      "text/plain": [
       "[0, 3, 6, 9, 12, 15, 18]"
      ]
     },
     "execution_count": 7,
     "metadata": {},
     "output_type": "execute_result"
    }
   ],
   "source": [
    "#13\n",
    "list_a=[]\n",
    "for i in range(20):\n",
    "    if i%3==0:\n",
    "        #あまり０\n",
    "        list_a.append(i)\n",
    "list_a    "
   ]
  },
  {
   "cell_type": "code",
   "execution_count": 2,
   "id": "2343eff2",
   "metadata": {},
   "outputs": [
    {
     "name": "stdout",
     "output_type": "stream",
     "text": [
      "[(3, 11), (3, 14), (4, 10), (4, 11), (4, 14)]\n"
     ]
    }
   ],
   "source": [
    "#14\n",
    "list_a=[]\n",
    "for i in range(1,5):\n",
    "    for j in range(10,15): #複数の繰り返しのときは　まずiが１のときにjが10から1４まで\n",
    "        if j%i > 1:\n",
    "            list_a.append((i,j))\n",
    "print(list_a)           "
   ]
  },
  {
   "cell_type": "code",
   "execution_count": 3,
   "id": "e7fec971",
   "metadata": {},
   "outputs": [
    {
     "name": "stdout",
     "output_type": "stream",
     "text": [
      "[(3, 11), (3, 14), (4, 10), (4, 11), (4, 14)]\n"
     ]
    }
   ],
   "source": [
    "#15 #14の内包表記\n",
    "list_a=[(i,j) for i in range(1,5) for j in range(10,15) if j%i >1]\n",
    "print(list_a)"
   ]
  },
  {
   "cell_type": "code",
   "execution_count": 1,
   "id": "f5491899",
   "metadata": {},
   "outputs": [
    {
     "name": "stdout",
     "output_type": "stream",
     "text": [
      "[(3, 8), (3, 9), (3, 10), (4, 9), (4, 10), (5, 10)]\n"
     ]
    }
   ],
   "source": [
    "list_a=[(x,y) for x in [3,4,5,6] for y in [7,8,9,10] if y -x >4]\n",
    "print(list_a)"
   ]
  },
  {
   "cell_type": "code",
   "execution_count": 2,
   "id": "1ed7b924",
   "metadata": {},
   "outputs": [
    {
     "ename": "TypeError",
     "evalue": "'tuple' object does not support item assignment",
     "output_type": "error",
     "traceback": [
      "\u001b[1;31m---------------------------------------------------------------------------\u001b[0m",
      "\u001b[1;31mTypeError\u001b[0m                                 Traceback (most recent call last)",
      "\u001b[1;32m<ipython-input-2-ce72bdd00ba3>\u001b[0m in \u001b[0;36m<module>\u001b[1;34m\u001b[0m\n\u001b[0;32m      1\u001b[0m \u001b[1;31m#17\u001b[0m\u001b[1;33m\u001b[0m\u001b[1;33m\u001b[0m\u001b[1;33m\u001b[0m\u001b[0m\n\u001b[0;32m      2\u001b[0m \u001b[0mtouple_a\u001b[0m\u001b[1;33m=\u001b[0m\u001b[1;33m(\u001b[0m\u001b[1;36m12\u001b[0m\u001b[1;33m,\u001b[0m\u001b[1;36m35\u001b[0m\u001b[1;33m,\u001b[0m\u001b[1;36m23\u001b[0m\u001b[1;33m,\u001b[0m\u001b[1;36m50\u001b[0m\u001b[1;33m)\u001b[0m\u001b[1;33m\u001b[0m\u001b[1;33m\u001b[0m\u001b[0m\n\u001b[1;32m----> 3\u001b[1;33m \u001b[0mtouple_a\u001b[0m\u001b[1;33m[\u001b[0m\u001b[1;36m1\u001b[0m\u001b[1;33m]\u001b[0m\u001b[1;33m=\u001b[0m\u001b[1;36m40\u001b[0m\u001b[1;33m\u001b[0m\u001b[1;33m\u001b[0m\u001b[0m\n\u001b[0m",
      "\u001b[1;31mTypeError\u001b[0m: 'tuple' object does not support item assignment"
     ]
    }
   ],
   "source": [
    "#17 タプルは内容変更できない　文字列も変更不可（下参照）　リストはOK\n",
    "touple_a=(12,35,23,50)\n",
    "touple_a[1]=40"
   ]
  },
  {
   "cell_type": "code",
   "execution_count": 3,
   "id": "a057c964",
   "metadata": {},
   "outputs": [
    {
     "ename": "TypeError",
     "evalue": "'str' object does not support item assignment",
     "output_type": "error",
     "traceback": [
      "\u001b[1;31m---------------------------------------------------------------------------\u001b[0m",
      "\u001b[1;31mTypeError\u001b[0m                                 Traceback (most recent call last)",
      "\u001b[1;32m<ipython-input-3-9f7755c8c21d>\u001b[0m in \u001b[0;36m<module>\u001b[1;34m\u001b[0m\n\u001b[0;32m      1\u001b[0m \u001b[0mstr\u001b[0m \u001b[1;33m=\u001b[0m \u001b[1;34m\"abcdefghi\"\u001b[0m\u001b[1;33m\u001b[0m\u001b[1;33m\u001b[0m\u001b[0m\n\u001b[1;32m----> 2\u001b[1;33m \u001b[0mstr\u001b[0m\u001b[1;33m[\u001b[0m\u001b[1;36m2\u001b[0m\u001b[1;33m]\u001b[0m \u001b[1;33m=\u001b[0m \u001b[1;34m'z'\u001b[0m\u001b[1;33m\u001b[0m\u001b[1;33m\u001b[0m\u001b[0m\n\u001b[0m",
      "\u001b[1;31mTypeError\u001b[0m: 'str' object does not support item assignment"
     ]
    }
   ],
   "source": [
    "str = \"abcdefghi\"\n",
    "str[2] = 'z'"
   ]
  },
  {
   "cell_type": "code",
   "execution_count": 4,
   "id": "7323860c",
   "metadata": {},
   "outputs": [
    {
     "name": "stdout",
     "output_type": "stream",
     "text": [
      "{'cat'}\n"
     ]
    }
   ],
   "source": [
    "x={'dog','cat','tiger','elephant'}\n",
    "y={'rabbit','cat','horse','fox'}\n",
    "print(x&y)"
   ]
  },
  {
   "cell_type": "markdown",
   "id": "f828dff8",
   "metadata": {},
   "source": [
    "Pythonにおける「集合」（set）は、数学の集合と似たものだ。つまり、何らかの値が寄り集まったものを表現する。\n",
    "その性質としては、1つの集合には同じ要素が含まれないことと、集合の要素には順番がない（整数値のインデックスを使って、\n",
    "特定の要素を指すことができない）ことが挙げられる。集合は辞書と同様に波かっこ「{}」を使って表現する。\n",
    "集合では要素は重複しない。つまり、ある集合を定義する際に同じ要素を複数記述しても、それらは1つにまとめられる。\n",
    "emptyset = {}  # 実は空の辞書の作成\n",
    "print(type(emptyset))\n",
    "emptyset = set()  # 空の集合の作成\n",
    "print(emptyset)\n",
    "print(type(emptyset))"
   ]
  },
  {
   "cell_type": "code",
   "execution_count": null,
   "id": "68ec1f48",
   "metadata": {},
   "outputs": [],
   "source": [
    "#集合 = 集合1 ^ 集合2 対称差集合とは 2 つの集合のどちらか片方だけに含まれる要素の集合のことです。\n",
    "\n"
   ]
  },
  {
   "cell_type": "code",
   "execution_count": 5,
   "id": "d345cf37",
   "metadata": {},
   "outputs": [
    {
     "data": {
      "text/plain": [
       "{'dog': 5, 'cat': 8, 'horse': 2}"
      ]
     },
     "execution_count": 5,
     "metadata": {},
     "output_type": "execute_result"
    }
   ],
   "source": [
    "dd={'dog':5,'cat':3,'horse':2}\n",
    "dd['cat']=8\n",
    "dd\n",
    "#キーは変更できないが値は変更できる"
   ]
  },
  {
   "cell_type": "code",
   "execution_count": 1,
   "id": "353a2509",
   "metadata": {},
   "outputs": [
    {
     "name": "stdout",
     "output_type": "stream",
     "text": [
      "01"
     ]
    }
   ],
   "source": [
    "#Q23\n",
    "num_list=[2,4,8,4,3,2,5]\n",
    "for i in range(num_list.count(4)):\n",
    "    print(i,end='')\n",
    "    #リストの数が４の個数　改行しないで出力する時は、オプション引数「end=”」のクオートの間には何も指定せず"
   ]
  },
  {
   "cell_type": "code",
   "execution_count": 4,
   "id": "7fb0f5a9",
   "metadata": {},
   "outputs": [
    {
     "data": {
      "text/plain": [
       "{'dog': 5, 'cat': 3, 'horse': 2}"
      ]
     },
     "execution_count": 4,
     "metadata": {},
     "output_type": "execute_result"
    }
   ],
   "source": [
    "dd=dict([(\"dog\",5),(\"cat\",3),(\"horse\",2)])\n",
    "dd\n",
    "#dict関数　辞書を作成"
   ]
  },
  {
   "cell_type": "code",
   "execution_count": 5,
   "id": "856ca38c",
   "metadata": {},
   "outputs": [
    {
     "data": {
      "text/plain": [
       "['cat', 'dog', 'horse']"
      ]
     },
     "execution_count": 5,
     "metadata": {},
     "output_type": "execute_result"
    }
   ],
   "source": [
    "dd={'dog': 5, 'cat': 3, 'horse': 2}\n",
    "sorted(dd.keys())"
   ]
  },
  {
   "cell_type": "code",
   "execution_count": 6,
   "id": "7051b8cb",
   "metadata": {},
   "outputs": [
    {
     "data": {
      "text/plain": [
       "['dog', 'cat', 'horse']"
      ]
     },
     "execution_count": 6,
     "metadata": {},
     "output_type": "execute_result"
    }
   ],
   "source": [
    "dd={'dog': 5, 'cat': 3, 'horse': 2}\n",
    "list(dd.keys())"
   ]
  },
  {
   "cell_type": "code",
   "execution_count": 9,
   "id": "c9b8e580",
   "metadata": {},
   "outputs": [
    {
     "name": "stdout",
     "output_type": "stream",
     "text": [
      "0 dog\n",
      "1 cat\n",
      "2 horse\n"
     ]
    }
   ],
   "source": [
    "dd=['dog', 'cat', 'horse']\n",
    "for x,y in enumerate(dd):\n",
    "    print(x,y)"
   ]
  },
  {
   "cell_type": "code",
   "execution_count": 10,
   "id": "8e56aea0",
   "metadata": {},
   "outputs": [
    {
     "name": "stdout",
     "output_type": "stream",
     "text": [
      "0 dog\n",
      "1 cat\n",
      "2 horse\n"
     ]
    }
   ],
   "source": [
    "#28\n",
    "dd={'dog': 5, 'cat': 3, 'horse': 2}#辞書の場合でもキー値を返す\n",
    "for x,y in enumerate(dd):\n",
    "    print(x,y)"
   ]
  },
  {
   "cell_type": "code",
   "execution_count": 11,
   "id": "36b83652",
   "metadata": {},
   "outputs": [
    {
     "name": "stdout",
     "output_type": "stream",
     "text": [
      "dog 5\n",
      "cat 3\n",
      "horse 2\n"
     ]
    }
   ],
   "source": [
    "dd={'dog': 5, 'cat': 3, 'horse': 2}\n",
    "for x,y in dd.items():\n",
    "    print(x,y)\n",
    "    #各要素のキーkeyと値valueの両方に対してforループ処理を行いたい場合は、items()メソッドを使う。"
   ]
  },
  {
   "cell_type": "code",
   "execution_count": 12,
   "id": "56004892",
   "metadata": {},
   "outputs": [
    {
     "name": "stdout",
     "output_type": "stream",
     "text": [
      "dog 犬\n",
      "cat 猫\n",
      "horse 馬\n"
     ]
    }
   ],
   "source": [
    "name_e=['dog','cat','horse']\n",
    "name_j=['犬','猫','馬']\n",
    "\n",
    "for x,y in zip(name_e,name_j):\n",
    "    print(x,y)"
   ]
  },
  {
   "cell_type": "code",
   "execution_count": null,
   "id": "646ba222",
   "metadata": {},
   "outputs": [],
   "source": []
  }
 ],
 "metadata": {
  "kernelspec": {
   "display_name": "Python 3",
   "language": "python",
   "name": "python3"
  },
  "language_info": {
   "codemirror_mode": {
    "name": "ipython",
    "version": 3
   },
   "file_extension": ".py",
   "mimetype": "text/x-python",
   "name": "python",
   "nbconvert_exporter": "python",
   "pygments_lexer": "ipython3",
   "version": "3.8.8"
  }
 },
 "nbformat": 4,
 "nbformat_minor": 5
}
