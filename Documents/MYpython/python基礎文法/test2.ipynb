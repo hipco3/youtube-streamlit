{
 "cells": [
  {
   "cell_type": "code",
   "execution_count": 1,
   "id": "88153a65",
   "metadata": {},
   "outputs": [
    {
     "data": {
      "text/plain": [
       "'tokyou'"
      ]
     },
     "execution_count": 1,
     "metadata": {},
     "output_type": "execute_result"
    }
   ],
   "source": [
    "#Q31 意味がわからないので後から\n",
    "string1,string2,string3='','tokyou','fukuoka'\n",
    "result=string1 or string2 or string3\n",
    "result"
   ]
  },
  {
   "cell_type": "code",
   "execution_count": 2,
   "id": "aa887c50",
   "metadata": {},
   "outputs": [
    {
     "name": "stdout",
     "output_type": "stream",
     "text": [
      "37.5\n"
     ]
    }
   ],
   "source": [
    "#module 1 インポートされた際にプログラムが動かないようにするために、以下のように if __name__ == \"__main__\": というif文を書きます\n",
    "def keisan(takasa,teihen):\n",
    "    menseki=teihen*takasa/2\n",
    "    print(menseki)\n",
    "if __name__=='__main__':\n",
    "    keisan(15,5)    "
   ]
  },
  {
   "cell_type": "code",
   "execution_count": null,
   "id": "d9574b86",
   "metadata": {},
   "outputs": [],
   "source": []
  }
 ],
 "metadata": {
  "kernelspec": {
   "display_name": "Python 3",
   "language": "python",
   "name": "python3"
  },
  "language_info": {
   "codemirror_mode": {
    "name": "ipython",
    "version": 3
   },
   "file_extension": ".py",
   "mimetype": "text/x-python",
   "name": "python",
   "nbconvert_exporter": "python",
   "pygments_lexer": "ipython3",
   "version": "3.8.8"
  }
 },
 "nbformat": 4,
 "nbformat_minor": 5
}
