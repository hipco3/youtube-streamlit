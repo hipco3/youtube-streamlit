{
 "cells": [
  {
   "cell_type": "code",
   "execution_count": 2,
   "id": "832c84e9",
   "metadata": {},
   "outputs": [
    {
     "name": "stdout",
     "output_type": "stream",
     "text": [
      "Requirement already satisfied: selenium in c:\\users\\polif\\anaconda3\\lib\\site-packages (3.141.0)\n",
      "Requirement already satisfied: urllib3 in c:\\users\\polif\\anaconda3\\lib\\site-packages (from selenium) (1.26.4)\n",
      "Requirement already satisfied: chromedriver-binary in c:\\users\\polif\\anaconda3\\lib\\site-packages (95.0.4638.10.0)\n",
      "Requirement already satisfied: webdriver_manager in c:\\users\\polif\\anaconda3\\lib\\site-packages (3.4.2)\n",
      "Requirement already satisfied: requests in c:\\users\\polif\\anaconda3\\lib\\site-packages (from webdriver_manager) (2.25.1)\n",
      "Requirement already satisfied: configparser in c:\\users\\polif\\anaconda3\\lib\\site-packages (from webdriver_manager) (5.0.2)\n",
      "Requirement already satisfied: crayons in c:\\users\\polif\\anaconda3\\lib\\site-packages (from webdriver_manager) (0.4.0)\n",
      "Requirement already satisfied: colorama in c:\\users\\polif\\anaconda3\\lib\\site-packages (from crayons->webdriver_manager) (0.4.4)\n",
      "Requirement already satisfied: idna<3,>=2.5 in c:\\users\\polif\\anaconda3\\lib\\site-packages (from requests->webdriver_manager) (2.10)\n",
      "Requirement already satisfied: certifi>=2017.4.17 in c:\\users\\polif\\anaconda3\\lib\\site-packages (from requests->webdriver_manager) (2020.12.5)\n",
      "Requirement already satisfied: urllib3<1.27,>=1.21.1 in c:\\users\\polif\\anaconda3\\lib\\site-packages (from requests->webdriver_manager) (1.26.4)\n",
      "Requirement already satisfied: chardet<5,>=3.0.2 in c:\\users\\polif\\anaconda3\\lib\\site-packages (from requests->webdriver_manager) (4.0.0)\n"
     ]
    }
   ],
   "source": [
    "!pip3 install selenium\n",
    "!pip3 install chromedriver-binary\n",
    "!pip3 install webdriver_manager"
   ]
  },
  {
   "cell_type": "code",
   "execution_count": 3,
   "id": "ca601ebc",
   "metadata": {},
   "outputs": [],
   "source": [
    "from selenium import webdriver\n",
    "from webdriver_manager.chrome import ChromeDriverManager\n",
    "\n",
    "from time import sleep"
   ]
  },
  {
   "cell_type": "code",
   "execution_count": 4,
   "id": "7c784342",
   "metadata": {},
   "outputs": [
    {
     "name": "stderr",
     "output_type": "stream",
     "text": [
      "\n",
      "\n",
      "====== WebDriver manager ======\n",
      "Current google-chrome version is 93.0.4577\n",
      "Get LATEST driver version for 93.0.4577\n",
      "Get LATEST driver version for 93.0.4577\n",
      "Trying to download new driver from https://chromedriver.storage.googleapis.com/93.0.4577.63/chromedriver_win32.zip\n",
      "Driver has been saved in cache [C:\\Users\\polif\\.wdm\\drivers\\chromedriver\\win32\\93.0.4577.63]\n"
     ]
    }
   ],
   "source": [
    "browser=webdriver.Chrome(ChromeDriverManager().install())\n",
    "browser.get('https://sute.jp/')"
   ]
  },
  {
   "cell_type": "code",
   "execution_count": 5,
   "id": "b51d2d91",
   "metadata": {},
   "outputs": [],
   "source": [
    "browser.find_element_by_xpath('/html/body/div/div/div/div[2]/div[1]/form/div[2]/div/input').click()"
   ]
  },
  {
   "cell_type": "code",
   "execution_count": 6,
   "id": "63fde936",
   "metadata": {},
   "outputs": [
    {
     "data": {
      "text/plain": [
       "'fp09gg4ij2@sute.jp'"
      ]
     },
     "execution_count": 6,
     "metadata": {},
     "output_type": "execute_result"
    }
   ],
   "source": [
    "browser.find_element_by_id('myaddress').get_attribute('value')"
   ]
  },
  {
   "cell_type": "markdown",
   "id": "8fc71ddc",
   "metadata": {},
   "source": [
    "このメールはテストです。\n",
    "来月の審査件数は130件です。\n",
    "検収案件は25件です。\n",
    "ご了承ください。"
   ]
  },
  {
   "cell_type": "code",
   "execution_count": 7,
   "id": "6ff550f2",
   "metadata": {},
   "outputs": [
    {
     "data": {
      "text/plain": [
       "[<selenium.webdriver.remote.webelement.WebElement (session=\"2c3d25f25d28a6075e661a3b4f6222d6\", element=\"c9bc4152-949e-4c6b-a519-cab9a7248686\")>]"
      ]
     },
     "execution_count": 7,
     "metadata": {},
     "output_type": "execute_result"
    }
   ],
   "source": [
    "mail_list=browser.find_element_by_id('messages').find_elements_by_tag_name('li')\n",
    "mail_list"
   ]
  },
  {
   "cell_type": "code",
   "execution_count": 8,
   "id": "6e773bf5",
   "metadata": {},
   "outputs": [
    {
     "data": {
      "text/plain": [
       "<selenium.webdriver.remote.webelement.WebElement (session=\"2c3d25f25d28a6075e661a3b4f6222d6\", element=\"c9bc4152-949e-4c6b-a519-cab9a7248686\")>"
      ]
     },
     "execution_count": 8,
     "metadata": {},
     "output_type": "execute_result"
    }
   ],
   "source": [
    "mail=mail_list[0]\n",
    "mail"
   ]
  },
  {
   "cell_type": "code",
   "execution_count": 9,
   "id": "2bbd4809",
   "metadata": {},
   "outputs": [
    {
     "data": {
      "text/plain": [
       "'https://sute.jp/inbox/XLxJw15e'"
      ]
     },
     "execution_count": 9,
     "metadata": {},
     "output_type": "execute_result"
    }
   ],
   "source": [
    "link=mail.find_element_by_tag_name('a').get_attribute('href')\n",
    "link"
   ]
  },
  {
   "cell_type": "code",
   "execution_count": 10,
   "id": "c64c1461",
   "metadata": {},
   "outputs": [],
   "source": [
    "links=[]\n",
    "for mail in mail_list:\n",
    "    link=mail.find_element_by_tag_name('a').get_attribute('href')\n",
    "    links.append(link)"
   ]
  },
  {
   "cell_type": "code",
   "execution_count": 11,
   "id": "894b66ba",
   "metadata": {},
   "outputs": [
    {
     "data": {
      "text/plain": [
       "['https://sute.jp/inbox/XLxJw15e']"
      ]
     },
     "execution_count": 11,
     "metadata": {},
     "output_type": "execute_result"
    }
   ],
   "source": [
    "links"
   ]
  },
  {
   "cell_type": "code",
   "execution_count": 12,
   "id": "b2de0dd7",
   "metadata": {},
   "outputs": [],
   "source": [
    "link=links[0]"
   ]
  },
  {
   "cell_type": "code",
   "execution_count": 13,
   "id": "60b2c322",
   "metadata": {},
   "outputs": [],
   "source": [
    "browser.get(link)"
   ]
  },
  {
   "cell_type": "code",
   "execution_count": 14,
   "id": "c86081b6",
   "metadata": {},
   "outputs": [],
   "source": [
    "##情報取得\n"
   ]
  },
  {
   "cell_type": "code",
   "execution_count": 15,
   "id": "fe6beb36",
   "metadata": {},
   "outputs": [
    {
     "data": {
      "text/plain": [
       "'fp09gg4ij2@sute.jp'"
      ]
     },
     "execution_count": 15,
     "metadata": {},
     "output_type": "execute_result"
    }
   ],
   "source": [
    "email=browser.find_element_by_class_name('meta').find_element_by_class_name('from').text\n",
    "email"
   ]
  },
  {
   "cell_type": "code",
   "execution_count": 16,
   "id": "d6841519",
   "metadata": {},
   "outputs": [
    {
     "data": {
      "text/plain": [
       "'09/24(金) 08:13'"
      ]
     },
     "execution_count": 16,
     "metadata": {},
     "output_type": "execute_result"
    }
   ],
   "source": [
    "date=browser.find_element_by_class_name('meta').find_element_by_class_name('date').text\n",
    "date"
   ]
  },
  {
   "cell_type": "code",
   "execution_count": 17,
   "id": "199c651e",
   "metadata": {},
   "outputs": [
    {
     "data": {
      "text/plain": [
       "'sute.jpへようこそ！'"
      ]
     },
     "execution_count": 17,
     "metadata": {},
     "output_type": "execute_result"
    }
   ],
   "source": [
    "subject=browser.find_element_by_class_name('body').find_element_by_tag_name('h2').text\n",
    "subject"
   ]
  },
  {
   "cell_type": "code",
   "execution_count": 18,
   "id": "5d5e5721",
   "metadata": {},
   "outputs": [],
   "source": [
    "p_tags=browser.find_element_by_class_name('body').find_elements_by_tag_name('p')\n",
    "body=''\n",
    "for p_tag in p_tags:\n",
    "    body +=p_tag.text\n",
    "    #print(p_tag.text)\n",
    "\n",
    "    "
   ]
  },
  {
   "cell_type": "code",
   "execution_count": 19,
   "id": "1d956f3c",
   "metadata": {},
   "outputs": [
    {
     "ename": "IndexError",
     "evalue": "list index out of range",
     "output_type": "error",
     "traceback": [
      "\u001b[1;31m---------------------------------------------------------------------------\u001b[0m",
      "\u001b[1;31mIndexError\u001b[0m                                Traceback (most recent call last)",
      "\u001b[1;32m<ipython-input-19-8cf29e01cdfe>\u001b[0m in \u001b[0;36m<module>\u001b[1;34m\u001b[0m\n\u001b[1;32m----> 1\u001b[1;33m \u001b[0mbody1\u001b[0m\u001b[1;33m=\u001b[0m\u001b[0mbody\u001b[0m\u001b[1;33m.\u001b[0m\u001b[0msplit\u001b[0m\u001b[1;33m(\u001b[0m\u001b[1;34m'検収案件は'\u001b[0m\u001b[1;33m)\u001b[0m\u001b[1;33m[\u001b[0m\u001b[1;36m1\u001b[0m\u001b[1;33m]\u001b[0m\u001b[1;33m.\u001b[0m\u001b[0msplit\u001b[0m\u001b[1;33m(\u001b[0m\u001b[1;34m'件'\u001b[0m\u001b[1;33m)\u001b[0m\u001b[1;33m[\u001b[0m\u001b[1;36m0\u001b[0m\u001b[1;33m]\u001b[0m\u001b[1;33m\u001b[0m\u001b[1;33m\u001b[0m\u001b[0m\n\u001b[0m\u001b[0;32m      2\u001b[0m \u001b[0mbody1\u001b[0m\u001b[1;33m\u001b[0m\u001b[1;33m\u001b[0m\u001b[0m\n",
      "\u001b[1;31mIndexError\u001b[0m: list index out of range"
     ]
    }
   ],
   "source": [
    "body1=body.split('検収案件は')[1].split('件')[0]\n",
    "body1"
   ]
  },
  {
   "cell_type": "code",
   "execution_count": null,
   "id": "c3564267",
   "metadata": {},
   "outputs": [],
   "source": [
    "int(body.split('検収案件は')[1].split('件')[0])"
   ]
  },
  {
   "cell_type": "code",
   "execution_count": null,
   "id": "843f7586",
   "metadata": {},
   "outputs": [],
   "source": [
    "#31;57"
   ]
  }
 ],
 "metadata": {
  "kernelspec": {
   "display_name": "Python 3",
   "language": "python",
   "name": "python3"
  },
  "language_info": {
   "codemirror_mode": {
    "name": "ipython",
    "version": 3
   },
   "file_extension": ".py",
   "mimetype": "text/x-python",
   "name": "python",
   "nbconvert_exporter": "python",
   "pygments_lexer": "ipython3",
   "version": "3.8.8"
  }
 },
 "nbformat": 4,
 "nbformat_minor": 5
}
