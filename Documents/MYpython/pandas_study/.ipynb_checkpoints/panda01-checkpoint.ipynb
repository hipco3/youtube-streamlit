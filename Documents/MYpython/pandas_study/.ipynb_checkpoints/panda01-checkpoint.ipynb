{
 "cells": [
  {
   "cell_type": "code",
   "execution_count": 1,
   "id": "f6118671",
   "metadata": {
    "scrolled": true
   },
   "outputs": [
    {
     "data": {
      "text/html": [
       "<div>\n",
       "<style scoped>\n",
       "    .dataframe tbody tr th:only-of-type {\n",
       "        vertical-align: middle;\n",
       "    }\n",
       "\n",
       "    .dataframe tbody tr th {\n",
       "        vertical-align: top;\n",
       "    }\n",
       "\n",
       "    .dataframe thead th {\n",
       "        text-align: right;\n",
       "    }\n",
       "</style>\n",
       "<table border=\"1\" class=\"dataframe\">\n",
       "  <thead>\n",
       "    <tr style=\"text-align: right;\">\n",
       "      <th></th>\n",
       "      <th>Unnamed: 0</th>\n",
       "      <th>企業名</th>\n",
       "      <th>パソコン</th>\n",
       "      <th>プリンタ</th>\n",
       "      <th>デジタルカメラ</th>\n",
       "    </tr>\n",
       "  </thead>\n",
       "  <tbody>\n",
       "    <tr>\n",
       "      <th>0</th>\n",
       "      <td>東京支店</td>\n",
       "      <td>N社</td>\n",
       "      <td>10830</td>\n",
       "      <td>2150</td>\n",
       "      <td>1540</td>\n",
       "    </tr>\n",
       "    <tr>\n",
       "      <th>1</th>\n",
       "      <td>名古屋支店</td>\n",
       "      <td>N社</td>\n",
       "      <td>7690</td>\n",
       "      <td>1650</td>\n",
       "      <td>2150</td>\n",
       "    </tr>\n",
       "    <tr>\n",
       "      <th>2</th>\n",
       "      <td>大阪支店</td>\n",
       "      <td>N社</td>\n",
       "      <td>9850</td>\n",
       "      <td>1840</td>\n",
       "      <td>1280</td>\n",
       "    </tr>\n",
       "    <tr>\n",
       "      <th>3</th>\n",
       "      <td>東京支店</td>\n",
       "      <td>P社</td>\n",
       "      <td>12580</td>\n",
       "      <td>3200</td>\n",
       "      <td>2850</td>\n",
       "    </tr>\n",
       "    <tr>\n",
       "      <th>4</th>\n",
       "      <td>名古屋支店</td>\n",
       "      <td>P社</td>\n",
       "      <td>10950</td>\n",
       "      <td>2100</td>\n",
       "      <td>2280</td>\n",
       "    </tr>\n",
       "  </tbody>\n",
       "</table>\n",
       "</div>"
      ],
      "text/plain": [
       "  Unnamed: 0 企業名   パソコン  プリンタ  デジタルカメラ\n",
       "0       東京支店  N社  10830  2150     1540\n",
       "1      名古屋支店  N社   7690  1650     2150\n",
       "2       大阪支店  N社   9850  1840     1280\n",
       "3       東京支店  P社  12580  3200     2850\n",
       "4      名古屋支店  P社  10950  2100     2280"
      ]
     },
     "execution_count": 1,
     "metadata": {},
     "output_type": "execute_result"
    }
   ],
   "source": [
    "import pandas as pd\n",
    "Nov_df=pd.read_excel('all_data.xlsx',sheet_name='ALL')\n",
    "Nov_df.head()"
   ]
  },
  {
   "cell_type": "code",
   "execution_count": 2,
   "id": "fbac0434",
   "metadata": {},
   "outputs": [
    {
     "data": {
      "text/plain": [
       "'東京支店'"
      ]
     },
     "execution_count": 2,
     "metadata": {},
     "output_type": "execute_result"
    }
   ],
   "source": [
    "Nov_df.iloc[0,0]\n"
   ]
  },
  {
   "cell_type": "code",
   "execution_count": 3,
   "id": "a74c851a",
   "metadata": {},
   "outputs": [
    {
     "data": {
      "text/plain": [
       "Unnamed: 0    object\n",
       "企業名           object\n",
       "パソコン           int64\n",
       "プリンタ           int64\n",
       "デジタルカメラ        int64\n",
       "dtype: object"
      ]
     },
     "execution_count": 3,
     "metadata": {},
     "output_type": "execute_result"
    }
   ],
   "source": [
    "Nov_df.dtypes#データ型を調べる"
   ]
  },
  {
   "cell_type": "code",
   "execution_count": 4,
   "id": "e1ec0089",
   "metadata": {
    "scrolled": true
   },
   "outputs": [
    {
     "data": {
      "text/plain": [
       "0    10830\n",
       "1     7690\n",
       "2     9850\n",
       "3    12580\n",
       "4    10950\n",
       "5    12450\n",
       "6    11250\n",
       "7     9500\n",
       "8    13450\n",
       "Name: パソコン, dtype: int64"
      ]
     },
     "execution_count": 4,
     "metadata": {},
     "output_type": "execute_result"
    }
   ],
   "source": [
    "sales=Nov_df['パソコン'[:5]] #金額の列の値抽出最初の5行を指定して抽出。データ型がDataFrameではなく、Seriesになってしまいます\n",
    "sales"
   ]
  },
  {
   "cell_type": "code",
   "execution_count": 5,
   "id": "15e39b6e",
   "metadata": {},
   "outputs": [
    {
     "data": {
      "text/html": [
       "<div>\n",
       "<style scoped>\n",
       "    .dataframe tbody tr th:only-of-type {\n",
       "        vertical-align: middle;\n",
       "    }\n",
       "\n",
       "    .dataframe tbody tr th {\n",
       "        vertical-align: top;\n",
       "    }\n",
       "\n",
       "    .dataframe thead th {\n",
       "        text-align: right;\n",
       "    }\n",
       "</style>\n",
       "<table border=\"1\" class=\"dataframe\">\n",
       "  <thead>\n",
       "    <tr style=\"text-align: right;\">\n",
       "      <th></th>\n",
       "      <th>企業名</th>\n",
       "      <th>プリンタ</th>\n",
       "    </tr>\n",
       "  </thead>\n",
       "  <tbody>\n",
       "    <tr>\n",
       "      <th>0</th>\n",
       "      <td>N社</td>\n",
       "      <td>2150</td>\n",
       "    </tr>\n",
       "    <tr>\n",
       "      <th>1</th>\n",
       "      <td>N社</td>\n",
       "      <td>1650</td>\n",
       "    </tr>\n",
       "    <tr>\n",
       "      <th>2</th>\n",
       "      <td>N社</td>\n",
       "      <td>1840</td>\n",
       "    </tr>\n",
       "    <tr>\n",
       "      <th>3</th>\n",
       "      <td>P社</td>\n",
       "      <td>3200</td>\n",
       "    </tr>\n",
       "    <tr>\n",
       "      <th>4</th>\n",
       "      <td>P社</td>\n",
       "      <td>2100</td>\n",
       "    </tr>\n",
       "    <tr>\n",
       "      <th>5</th>\n",
       "      <td>P社</td>\n",
       "      <td>2850</td>\n",
       "    </tr>\n",
       "    <tr>\n",
       "      <th>6</th>\n",
       "      <td>D社</td>\n",
       "      <td>2500</td>\n",
       "    </tr>\n",
       "    <tr>\n",
       "      <th>7</th>\n",
       "      <td>D社</td>\n",
       "      <td>1750</td>\n",
       "    </tr>\n",
       "    <tr>\n",
       "      <th>8</th>\n",
       "      <td>D社</td>\n",
       "      <td>3250</td>\n",
       "    </tr>\n",
       "  </tbody>\n",
       "</table>\n",
       "</div>"
      ],
      "text/plain": [
       "  企業名  プリンタ\n",
       "0  N社  2150\n",
       "1  N社  1650\n",
       "2  N社  1840\n",
       "3  P社  3200\n",
       "4  P社  2100\n",
       "5  P社  2850\n",
       "6  D社  2500\n",
       "7  D社  1750\n",
       "8  D社  3250"
      ]
     },
     "execution_count": 5,
     "metadata": {},
     "output_type": "execute_result"
    }
   ],
   "source": [
    "#Nov_df[['パソコン']][:5]#DataFrameを使用して最初の５行抽出\n",
    "Nov_df[['企業名','プリンタ']][:5]\n",
    "Nov_df[['企業名','プリンタ']][:]"
   ]
  },
  {
   "cell_type": "code",
   "execution_count": 6,
   "id": "90643811",
   "metadata": {
    "scrolled": false
   },
   "outputs": [
    {
     "data": {
      "text/plain": [
       "Unnamed: 0     東京支店\n",
       "企業名              N社\n",
       "パソコン          10830\n",
       "プリンタ           2150\n",
       "デジタルカメラ        1540\n",
       "Name: 0, dtype: object"
      ]
     },
     "execution_count": 6,
     "metadata": {},
     "output_type": "execute_result"
    }
   ],
   "source": [
    "columns=Nov_df.iloc[0,[0,1,2,3,4]]\n",
    "columns"
   ]
  },
  {
   "cell_type": "code",
   "execution_count": 7,
   "id": "2cd8cc2f",
   "metadata": {},
   "outputs": [
    {
     "data": {
      "text/plain": [
       "0     True\n",
       "1     True\n",
       "2     True\n",
       "3    False\n",
       "4    False\n",
       "5    False\n",
       "6    False\n",
       "7    False\n",
       "8    False\n",
       "Name: 企業名, dtype: bool"
      ]
     },
     "execution_count": 7,
     "metadata": {},
     "output_type": "execute_result"
    }
   ],
   "source": [
    "Nov_df['企業名'] == 'N社' #条件指定"
   ]
  },
  {
   "cell_type": "code",
   "execution_count": 8,
   "id": "85e3fd7a",
   "metadata": {},
   "outputs": [
    {
     "data": {
      "text/html": [
       "<div>\n",
       "<style scoped>\n",
       "    .dataframe tbody tr th:only-of-type {\n",
       "        vertical-align: middle;\n",
       "    }\n",
       "\n",
       "    .dataframe tbody tr th {\n",
       "        vertical-align: top;\n",
       "    }\n",
       "\n",
       "    .dataframe thead th {\n",
       "        text-align: right;\n",
       "    }\n",
       "</style>\n",
       "<table border=\"1\" class=\"dataframe\">\n",
       "  <thead>\n",
       "    <tr style=\"text-align: right;\">\n",
       "      <th></th>\n",
       "      <th>Unnamed: 0</th>\n",
       "      <th>企業名</th>\n",
       "      <th>パソコン</th>\n",
       "      <th>プリンタ</th>\n",
       "      <th>デジタルカメラ</th>\n",
       "    </tr>\n",
       "  </thead>\n",
       "  <tbody>\n",
       "    <tr>\n",
       "      <th>0</th>\n",
       "      <td>東京支店</td>\n",
       "      <td>N社</td>\n",
       "      <td>10830</td>\n",
       "      <td>2150</td>\n",
       "      <td>1540</td>\n",
       "    </tr>\n",
       "    <tr>\n",
       "      <th>1</th>\n",
       "      <td>名古屋支店</td>\n",
       "      <td>N社</td>\n",
       "      <td>7690</td>\n",
       "      <td>1650</td>\n",
       "      <td>2150</td>\n",
       "    </tr>\n",
       "    <tr>\n",
       "      <th>2</th>\n",
       "      <td>大阪支店</td>\n",
       "      <td>N社</td>\n",
       "      <td>9850</td>\n",
       "      <td>1840</td>\n",
       "      <td>1280</td>\n",
       "    </tr>\n",
       "  </tbody>\n",
       "</table>\n",
       "</div>"
      ],
      "text/plain": [
       "  Unnamed: 0 企業名   パソコン  プリンタ  デジタルカメラ\n",
       "0       東京支店  N社  10830  2150     1540\n",
       "1      名古屋支店  N社   7690  1650     2150\n",
       "2       大阪支店  N社   9850  1840     1280"
      ]
     },
     "execution_count": 8,
     "metadata": {},
     "output_type": "execute_result"
    }
   ],
   "source": [
    "Nov_df[Nov_df['企業名'] == 'N社']#条件抽出"
   ]
  },
  {
   "cell_type": "code",
   "execution_count": 9,
   "id": "09eee1dd",
   "metadata": {},
   "outputs": [],
   "source": [
    "#Nov_df['日付'] == 2015-4-5 #And Nov_df['お得意先'] == '長野文具販売'\n",
    "#Nov_df.query('お得意先 == \"長野文具販売\" & 日付==\"2015-04-05\"') #アポストロフィーの位置注意　複数条件"
   ]
  },
  {
   "cell_type": "code",
   "execution_count": 10,
   "id": "ea2a104a",
   "metadata": {
    "scrolled": true
   },
   "outputs": [
    {
     "data": {
      "text/html": [
       "<div>\n",
       "<style scoped>\n",
       "    .dataframe tbody tr th:only-of-type {\n",
       "        vertical-align: middle;\n",
       "    }\n",
       "\n",
       "    .dataframe tbody tr th {\n",
       "        vertical-align: top;\n",
       "    }\n",
       "\n",
       "    .dataframe thead th {\n",
       "        text-align: right;\n",
       "    }\n",
       "</style>\n",
       "<table border=\"1\" class=\"dataframe\">\n",
       "  <thead>\n",
       "    <tr style=\"text-align: right;\">\n",
       "      <th></th>\n",
       "      <th>パソコン</th>\n",
       "      <th>プリンタ</th>\n",
       "      <th>デジタルカメラ</th>\n",
       "    </tr>\n",
       "  </thead>\n",
       "  <tbody>\n",
       "    <tr>\n",
       "      <th>count</th>\n",
       "      <td>9.000000</td>\n",
       "      <td>9.000000</td>\n",
       "      <td>9.000000</td>\n",
       "    </tr>\n",
       "    <tr>\n",
       "      <th>mean</th>\n",
       "      <td>10950.000000</td>\n",
       "      <td>2365.555556</td>\n",
       "      <td>2131.111111</td>\n",
       "    </tr>\n",
       "    <tr>\n",
       "      <th>std</th>\n",
       "      <td>1774.873235</td>\n",
       "      <td>613.944442</td>\n",
       "      <td>492.961572</td>\n",
       "    </tr>\n",
       "    <tr>\n",
       "      <th>min</th>\n",
       "      <td>7690.000000</td>\n",
       "      <td>1650.000000</td>\n",
       "      <td>1280.000000</td>\n",
       "    </tr>\n",
       "    <tr>\n",
       "      <th>25%</th>\n",
       "      <td>9850.000000</td>\n",
       "      <td>1840.000000</td>\n",
       "      <td>1950.000000</td>\n",
       "    </tr>\n",
       "    <tr>\n",
       "      <th>50%</th>\n",
       "      <td>10950.000000</td>\n",
       "      <td>2150.000000</td>\n",
       "      <td>2150.000000</td>\n",
       "    </tr>\n",
       "    <tr>\n",
       "      <th>75%</th>\n",
       "      <td>12450.000000</td>\n",
       "      <td>2850.000000</td>\n",
       "      <td>2480.000000</td>\n",
       "    </tr>\n",
       "    <tr>\n",
       "      <th>max</th>\n",
       "      <td>13450.000000</td>\n",
       "      <td>3250.000000</td>\n",
       "      <td>2850.000000</td>\n",
       "    </tr>\n",
       "  </tbody>\n",
       "</table>\n",
       "</div>"
      ],
      "text/plain": [
       "               パソコン         プリンタ      デジタルカメラ\n",
       "count      9.000000     9.000000     9.000000\n",
       "mean   10950.000000  2365.555556  2131.111111\n",
       "std     1774.873235   613.944442   492.961572\n",
       "min     7690.000000  1650.000000  1280.000000\n",
       "25%     9850.000000  1840.000000  1950.000000\n",
       "50%    10950.000000  2150.000000  2150.000000\n",
       "75%    12450.000000  2850.000000  2480.000000\n",
       "max    13450.000000  3250.000000  2850.000000"
      ]
     },
     "execution_count": 10,
     "metadata": {},
     "output_type": "execute_result"
    }
   ],
   "source": [
    "Nov_df.describe()"
   ]
  },
  {
   "cell_type": "code",
   "execution_count": 11,
   "id": "7a254d8e",
   "metadata": {},
   "outputs": [
    {
     "data": {
      "text/plain": [
       "array(['N社', 'P社', 'D社'], dtype=object)"
      ]
     },
     "execution_count": 11,
     "metadata": {},
     "output_type": "execute_result"
    }
   ],
   "source": [
    "companies =Nov_df['企業名'].unique()\n",
    "companies"
   ]
  },
  {
   "cell_type": "code",
   "execution_count": 12,
   "id": "4c9ff098",
   "metadata": {},
   "outputs": [
    {
     "data": {
      "text/plain": [
       "'N社'"
      ]
     },
     "execution_count": 12,
     "metadata": {},
     "output_type": "execute_result"
    }
   ],
   "source": [
    "companies[0]"
   ]
  },
  {
   "cell_type": "code",
   "execution_count": 13,
   "id": "2b47375c",
   "metadata": {},
   "outputs": [
    {
     "data": {
      "text/plain": [
       "3"
      ]
     },
     "execution_count": 13,
     "metadata": {},
     "output_type": "execute_result"
    }
   ],
   "source": [
    "nu = Nov_df['企業名'].nunique()\n",
    "nu"
   ]
  },
  {
   "cell_type": "code",
   "execution_count": 14,
   "id": "62388fdb",
   "metadata": {},
   "outputs": [
    {
     "name": "stdout",
     "output_type": "stream",
     "text": [
      "N社\n",
      "  Unnamed: 0 企業名   パソコン  プリンタ  デジタルカメラ\n",
      "0       東京支店  N社  10830  2150     1540\n",
      "1      名古屋支店  N社   7690  1650     2150\n",
      "2       大阪支店  N社   9850  1840     1280\n",
      "P社\n",
      "  Unnamed: 0 企業名   パソコン  プリンタ  デジタルカメラ\n",
      "3       東京支店  P社  12580  3200     2850\n",
      "4      名古屋支店  P社  10950  2100     2280\n",
      "5       大阪支店  P社  12450  2850     2480\n",
      "D社\n",
      "  Unnamed: 0 企業名   パソコン  プリンタ  デジタルカメラ\n",
      "6       東京支店  D社  11250  2500     2100\n",
      "7      名古屋支店  D社   9500  1750     1950\n",
      "8       大阪支店  D社  13450  3250     2550\n",
      "N社\n"
     ]
    }
   ],
   "source": [
    "for company in companies:\n",
    "    print(company)\n",
    "    \n",
    "    div_sale=Nov_df.query('企業名 == @company')#query()メソッドの中では、そのまま変数を使うことができません。query()メソッドの中での条件文字列の中で変数を使用するには、変数名の前に＠をつける必要があります。\n",
    "    print(div_sale)\n",
    "print(companies[0])    "
   ]
  },
  {
   "cell_type": "code",
   "execution_count": 15,
   "id": "fdb46347",
   "metadata": {},
   "outputs": [
    {
     "data": {
      "text/plain": [
       "['alltest2.xlsx',\n",
       " 'all_data - コピー.xlsx',\n",
       " 'all_data.xlsx',\n",
       " 'sample.xlsx',\n",
       " 'test.xlsx',\n",
       " 'test2.xlsx']"
      ]
     },
     "execution_count": 15,
     "metadata": {},
     "output_type": "execute_result"
    }
   ],
   "source": [
    "import openpyxl\n",
    "import glob\n",
    "wb = openpyxl.Workbook()#新規ファイル作成\n",
    "\n",
    "sheet = wb.active\n",
    "wbnew=wb.create_sheet(title = company, index=1)\n",
    "wb.save('test2.xlsx')\n",
    "glob.glob(\"*.xlsx\")"
   ]
  },
  {
   "cell_type": "code",
   "execution_count": 28,
   "id": "de61acc6",
   "metadata": {},
   "outputs": [
    {
     "name": "stdout",
     "output_type": "stream",
     "text": [
      "  Unnamed: 0 企業名   パソコン  プリンタ  デジタルカメラ\n",
      "0       東京支店  N社  10830  2150     1540\n",
      "1      名古屋支店  N社   7690  1650     2150\n",
      "2       大阪支店  N社   9850  1840     1280\n",
      "['Sheet', 'N社']\n"
     ]
    }
   ],
   "source": [
    "#import openpyxl　#OK　企業別のシート追加、値転機まだ。\n",
    "from openpyxl.utils.dataframe import dataframe_to_rows\n",
    "#rows = dataframe_to_rows(p)\n",
    "wb = openpyxl.Workbook()#新規ファイル作成\n",
    "\n",
    "wb.save('alltest2.xlsx')\n",
    "\n",
    "\n",
    "wb.create_sheet(title = 'N社', index=1)#企業別シート追加OK\n",
    "data=Nov_df[Nov_df['企業名'] == 'N社']\n",
    "df=pd.DataFrame(data)\n",
    "print(df)\n",
    "data.to_excel('alltest2.xlsx',sheet_name='N社')\n",
    "\n",
    "print(wb.sheetnames)\n",
    "\n",
    "#print(companies[0])\n",
    "    \n",
    "\n",
    "#wb.save('alltest2.xlsx')"
   ]
  },
  {
   "cell_type": "code",
   "execution_count": 36,
   "id": "c9c2ffa2",
   "metadata": {},
   "outputs": [
    {
     "name": "stdout",
     "output_type": "stream",
     "text": [
      "['Sheet', 'D社', 'P社', 'N社']\n"
     ]
    }
   ],
   "source": [
    "#import openpyxl　#OK　企業別のシート追加、値OK!!!\n",
    "from openpyxl.utils.dataframe import dataframe_to_rows\n",
    "#rows = dataframe_to_rows(p)\n",
    "wb = openpyxl.Workbook()#新規ファイル作成\n",
    "\n",
    "wb.save('alltest3.xlsx')\n",
    "for company in companies:\n",
    "    #print(company)\n",
    "    wb.create_sheet(title = company, index=1)#企業別シート追加OK\n",
    "    data=Nov_df[Nov_df['企業名'] == company]\n",
    "    df=pd.DataFrame(data)\n",
    "    #print(df)\n",
    "    \n",
    "    with pd.ExcelWriter('alltest3.xlsx', engine=\"openpyxl\", mode=\"a\") as writer: #こちらのファイルに書き出し、追加書き出し\n",
    "        \n",
    "        data.to_excel(writer, sheet_name=company, index=False)    #シート名を指定\n",
    "     \n",
    "    #data.to_excel('alltest3.xlsx',sheet_name=company)\n",
    "print(wb.sheetnames)\n",
    "\n",
    "\n",
    "#print(companies[0])\n",
    "    \n",
    "\n",
    "#wb.save('alltest3.xlsx')"
   ]
  },
  {
   "cell_type": "code",
   "execution_count": null,
   "id": "aae93d51",
   "metadata": {},
   "outputs": [],
   "source": []
  },
  {
   "cell_type": "code",
   "execution_count": null,
   "id": "54e3d8d5",
   "metadata": {},
   "outputs": [],
   "source": []
  }
 ],
 "metadata": {
  "kernelspec": {
   "display_name": "Python 3",
   "language": "python",
   "name": "python3"
  },
  "language_info": {
   "codemirror_mode": {
    "name": "ipython",
    "version": 3
   },
   "file_extension": ".py",
   "mimetype": "text/x-python",
   "name": "python",
   "nbconvert_exporter": "python",
   "pygments_lexer": "ipython3",
   "version": "3.8.8"
  }
 },
 "nbformat": 4,
 "nbformat_minor": 5
}
