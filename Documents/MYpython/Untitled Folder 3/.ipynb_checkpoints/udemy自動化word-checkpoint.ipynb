{
 "cells": [
  {
   "cell_type": "code",
   "execution_count": 1,
   "id": "8f072544",
   "metadata": {},
   "outputs": [
    {
     "name": "stdout",
     "output_type": "stream",
     "text": [
      "Requirement already satisfied: python-docx in c:\\users\\polif\\anaconda3\\lib\\site-packages (0.8.11)\n",
      "Requirement already satisfied: lxml>=2.3.2 in c:\\users\\polif\\anaconda3\\lib\\site-packages (from python-docx) (4.6.3)\n",
      "Note: you may need to restart the kernel to use updated packages.\n"
     ]
    }
   ],
   "source": [
    "pip install python-docx"
   ]
  },
  {
   "cell_type": "code",
   "execution_count": 2,
   "id": "d1a92bd2",
   "metadata": {},
   "outputs": [],
   "source": [
    "import docx"
   ]
  },
  {
   "cell_type": "code",
   "execution_count": 6,
   "id": "df3c7f47",
   "metadata": {},
   "outputs": [
    {
     "name": "stdout",
     "output_type": "stream",
     "text": [
      "['1', 'お金を貯めたいなら稼いだお金よりも使うお金を少なくすればいいよ ', '難しい話じゃないわ ', '君はかんたんに言うけど 君は普通の人の倍稼いでいるよ。', 'それはそうかもしれないけど 私は1文無しno大学生の時にもお金を貯めて居た', '', '', '2', 'ねえ誰にも言わない ', 'もちろんだよ\\u3000どうしたの ', 'ロブと結婚するのやめようかなって考えてるの ', 'わそうくるとは思わなかったよ ', '', '3 ', 'ねえこの彼1口食べてみて ', 'やめておくよ\\u3000辛い食べ物は胃が受け付けないんだ ', 'ひと口だけ食べてみてよ\\u3000何が起こるっていうの ', '知らぬがホトケだよ ', '', '4 ', '彼は世界のトップレベルのギタリストにだって引けを取らないよ。圧巻なんだ ', '大物みたいね ', 'そうなんだ\\u3000覚えておいてよ\\u3000いつか有名になるから ', '', '5', 'このご時世技術について行ってない会社は生き残れないわ ', 'じゃあうちの会社はもう長くないな 経営陣は時代に完全に取り残されているから ', 'それなら船が沈む前に逃げ出したほうがいいかもしれないね ', '', '6', 'いくらかな ', 'いいよ\\u3000ここは私が払うから ', 'そんなわけにはいかないよ\\u3000今日は僕が誘ったんだし ', 'いいえ本当に今日は是非それに先月手伝ってもらったお礼をまだしてないし ', '', '7', '第1と私は週末にスカイダイビングに行くんだけど一緒に行こうよ ', 'ごめんこうむるよ。飛行機から外へ飛び出すなんて僕の趣味じゃない ', 'ねえやっても見ないで決めつけないでよ ', '高所恐怖症なんだよ ', 'もしかしたら恐怖と正面から向き合う時かもよ  ', '', '8', 'じゃあこれが家の鍵ね。場所がわからなかったら電話をくれればいいから ', 'それだけ暗証番号か何かいらないの？そこってゲイティットコミュニティだと思ってたんだけど ', 'いらないよ。準備は万端。守衛さんには君が行くと電話してあるから ', 'ありがとう着いたらメッセージを送るわ ', '', '9', 'あなたと話す時っていつも何かすごい海外旅行から帰ってきたところみたいじゃないそのお金どこから出てるの ', '大きな声じゃ言えないけど学生ローンだよ ', '学生ローンで旅行してるっていうの？あなた頭おかしいじゃないの？ ', '大したことじゃないだろう ', '', '10', '', 'ちょっと相談に乗ってくれる ', 'いいわよ。何？ ', 'レベッカの誕生日にウイスキーを1本あげようかと思ってるんだ\\u3000どう思う？ ', 'いくら払うつもりかによるわね。レベッカはそこらのウイスキーは飲まないから。 本当に良い物だけ ', '', '11', 'さしあたり僕たちは上のマンスリーマンションに滞在するんだ ', 'でその後は ', 'わからない まだほとんどの事は決まって居ないんだ 少なくとも3年は東京にいるつもりだよ ', '単なる思いつきだけど 新宿のうちの近くに良いマンションが貸し出されているよ', '', '12', 'ねえこれ君の こともあろうに僕の車の下にあったんだけど ', '私のノート きっとケイティがふざけておいたんだわ ', 'ケイティ でも彼女ってすごく真面目な人って感じだけどな ', '意外でしょう ', '', '13', '犬たちは引っ越し大丈夫だった ', '全然平気 すぐに落ち着いたよ ただゾーイがね ', 'あら彼女辛そうなの ', 'うんカリフォルニアにいた頃の友達が恋しい ', '', '14', '昨日店でラッセルにばったり会ったんだ。すっかりやつれててね ', 'またお酒に手を出したなんて思ってないわよね ', '疑わしきは罰せずと言いたいところだけど本当にそう見えたんだよな ', 'ラッセルったらまたなの ', '', '15', '私の父がんを克服したの お医者さんには余命6ヶ月って宣告されたんだけど それからもうすぐ10年よ ', 'どうやって克服したの ', '私たちもはっきりとわからないの ただどんなことがあっても父はいつも前向きデータからじゃないかしら 母の存在も大きかったはずっと父に寄り添っていたもの  ']\n"
     ]
    }
   ],
   "source": [
    "doc=docx.Document(\"リアルフレーズ日本語録音.docx\")\n",
    "txt=[]\n",
    "for par in doc.paragraphs:\n",
    "    txt.append(par.text)#appendで次々追加する\n",
    "print(txt)    \n",
    "#「paragraphs」は段落単位でリスト型で取得できます。「paragraphs」はリスト型なので、ここでは「for ～ in」を使って、順番に「paragraphs」の中身を取り出しています。"
   ]
  },
  {
   "cell_type": "code",
   "execution_count": 7,
   "id": "bf807b26",
   "metadata": {},
   "outputs": [],
   "source": [
    "import openpyxl"
   ]
  },
  {
   "cell_type": "code",
   "execution_count": 9,
   "id": "977a79d6",
   "metadata": {},
   "outputs": [],
   "source": [
    "wb=openpyxl.load_workbook(\"20211109.xlsx\")#上のデータをExcelに\n",
    "ws = wb.active\n",
    "ws.append(txt)\n",
    "wb.save(\"202111109-1.xlsx\")"
   ]
  },
  {
   "cell_type": "code",
   "execution_count": null,
   "id": "ab747514",
   "metadata": {},
   "outputs": [],
   "source": []
  }
 ],
 "metadata": {
  "kernelspec": {
   "display_name": "Python 3",
   "language": "python",
   "name": "python3"
  },
  "language_info": {
   "codemirror_mode": {
    "name": "ipython",
    "version": 3
   },
   "file_extension": ".py",
   "mimetype": "text/x-python",
   "name": "python",
   "nbconvert_exporter": "python",
   "pygments_lexer": "ipython3",
   "version": "3.8.8"
  }
 },
 "nbformat": 4,
 "nbformat_minor": 5
}
