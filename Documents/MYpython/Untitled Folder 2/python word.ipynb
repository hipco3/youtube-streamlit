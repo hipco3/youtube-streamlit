{
 "cells": [
  {
   "cell_type": "code",
   "execution_count": 3,
   "id": "b93e3743",
   "metadata": {},
   "outputs": [
    {
     "name": "stdout",
     "output_type": "stream",
     "text": [
      "C:\\Users\\polif\\anaconda3\\python.exe\n"
     ]
    }
   ],
   "source": [
    ">>> import sys\n",
    ">>> print(sys.executable)"
   ]
  },
  {
   "cell_type": "code",
   "execution_count": 4,
   "id": "42de9fd4",
   "metadata": {},
   "outputs": [],
   "source": [
    "# -*- coding: utf-8 -*-\n",
    "from docx import Document\n",
    "import glob\n",
    "import sys"
   ]
  },
  {
   "cell_type": "code",
   "execution_count": 7,
   "id": "719b81b0",
   "metadata": {},
   "outputs": [],
   "source": [
    "import win32com.client\n"
   ]
  },
  {
   "cell_type": "code",
   "execution_count": 8,
   "id": "aa97351e",
   "metadata": {},
   "outputs": [],
   "source": [
    "wd=win32com.client.GetObject(Class=\"Word.Application\")"
   ]
  },
  {
   "cell_type": "code",
   "execution_count": 9,
   "id": "07771faa",
   "metadata": {},
   "outputs": [],
   "source": [
    "doc = wd.Documents(1)"
   ]
  },
  {
   "cell_type": "code",
   "execution_count": 10,
   "id": "eccd3180",
   "metadata": {},
   "outputs": [],
   "source": [
    "doc.Range(0,0).Text =\"hello, world\""
   ]
  },
  {
   "cell_type": "code",
   "execution_count": 11,
   "id": "8af6a99d",
   "metadata": {},
   "outputs": [],
   "source": [
    "win=wd.windows(1)"
   ]
  },
  {
   "cell_type": "code",
   "execution_count": 12,
   "id": "99140d4e",
   "metadata": {},
   "outputs": [],
   "source": [
    "win.Left=0"
   ]
  },
  {
   "cell_type": "code",
   "execution_count": 13,
   "id": "d5009415",
   "metadata": {},
   "outputs": [],
   "source": [
    "win.Top=0"
   ]
  },
  {
   "cell_type": "code",
   "execution_count": null,
   "id": "b56ba346",
   "metadata": {},
   "outputs": [],
   "source": [
    "doc."
   ]
  }
 ],
 "metadata": {
  "kernelspec": {
   "display_name": "Python 3",
   "language": "python",
   "name": "python3"
  },
  "language_info": {
   "codemirror_mode": {
    "name": "ipython",
    "version": 3
   },
   "file_extension": ".py",
   "mimetype": "text/x-python",
   "name": "python",
   "nbconvert_exporter": "python",
   "pygments_lexer": "ipython3",
   "version": "3.8.8"
  }
 },
 "nbformat": 4,
 "nbformat_minor": 5
}
