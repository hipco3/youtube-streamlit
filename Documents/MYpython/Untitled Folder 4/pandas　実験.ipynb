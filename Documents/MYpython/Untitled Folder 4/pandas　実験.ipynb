{
 "cells": [
  {
   "cell_type": "code",
   "execution_count": 4,
   "id": "c84c8231",
   "metadata": {},
   "outputs": [],
   "source": [
    "import pandas as pd\n",
    "import openpyxl as excel"
   ]
  },
  {
   "cell_type": "code",
   "execution_count": 64,
   "id": "6cfbd5ae",
   "metadata": {},
   "outputs": [
    {
     "name": "stdout",
     "output_type": "stream",
     "text": [
      "Do not meddle in others' affairs! お節介をやくな\n",
      "I'm so relieved that I don't have to make a speech - it's such a weight off my mind! 肩の荷がおりる\n",
      "have had it up to here もう我慢できない！\n",
      "I know he can get under your skin, but please bear with him until I get back. 彼はあなたをイラつかせるだろうけど、私が戻るまでどうか我慢してください。\n",
      "Mira rather put the boss on the spot by asking him when he was going to give us a pay rise. ミラはボスに賃上げする気があるのかきいて彼を困らせた。\n",
      "It stands to reason that you will get sick　if you don't eat enough. ちゃんと食べなければ、病気になるのは当然だ。\n",
      "shoot oneself in the foot 墓穴を掘る\n",
      "She got a kick out of him getting in trouble. 彼女は彼が怒られたのを見て楽しんでいた「人の不幸を楽しむ」のような捻くれた感じで使うことが１番多いですね。\n",
      "He was telling jokes at the dinner table that had us all in stitches. 彼は夕飯のときにジョークをとばし渡した詩を大笑いさせた\n",
      "Their appeals to release the hostages fell on deaf ears. 捕虜を解放しろという彼らの訴えは聞き入れられなかった。\n"
     ]
    }
   ],
   "source": [
    "\n",
    "df = pd.read_excel('英語テストVBA.xlsx')\n",
    "\n",
    "\n",
    "name_e=df.iloc[0:10,0]\n",
    "name_j=df.iloc[0:10,1]\n",
    "\n",
    "mix=dict(zip(name_e,name_j))\n",
    "for x,y in mix.items():\n",
    "    print(x,y)\n",
    "\n",
    "#for val in mix:\n",
    "#    print(val)\n",
    "    "
   ]
  },
  {
   "cell_type": "code",
   "execution_count": 59,
   "id": "f09eba7b",
   "metadata": {},
   "outputs": [
    {
     "name": "stdout",
     "output_type": "stream",
     "text": [
      "{\"Do not\\xa0meddle in\\xa0others'\\xa0affairs!\": 'お節介をやくな', \"I'm so\\xa0relieved\\xa0that I don't have to make a\\xa0speech\\xa0- it's such a\\xa0weight\\xa0off my mind!\": '肩の荷がおりる', 'have had it up to here': 'もう我慢できない！', 'I know he can get under your skin, but please bear with him until I get back.': '彼はあなたをイラつかせるだろうけど、私が戻るまでどうか我慢してください。', 'Mira\\xa0rather\\xa0put the\\xa0boss\\xa0on the spot by\\xa0asking\\xa0him when he was going to give us a\\xa0pay\\xa0rise.': 'ミラはボスに賃上げする気があるのかきいて彼を困らせた。', \"It stands to reason that you will get sick\\u3000if you don't eat enough.\": 'ちゃんと食べなければ、病気になるのは当然だ。', 'shoot oneself in the foot': '墓穴を掘る', 'She got a kick out of him getting in trouble.': '彼女は彼が怒られたのを見て楽しんでいた「人の不幸を楽しむ」のような捻くれた感じで使うことが１番多いですね。', 'He was\\xa0telling\\xa0jokes\\xa0at the\\xa0dinner\\xa0table\\xa0that had us all in stitches.': '彼は夕飯のときにジョークをとばし渡した詩を大笑いさせた', 'Their\\xa0appeals\\xa0to\\xa0release\\xa0the\\xa0hostages\\xa0fell\\xa0on\\xa0deaf\\xa0ears.': '捕虜を解放しろという彼らの訴えは聞き入れられなかった。'}\n"
     ]
    }
   ],
   "source": [
    "print(mix)"
   ]
  },
  {
   "cell_type": "code",
   "execution_count": null,
   "id": "32375997",
   "metadata": {},
   "outputs": [],
   "source": []
  }
 ],
 "metadata": {
  "kernelspec": {
   "display_name": "Python 3",
   "language": "python",
   "name": "python3"
  },
  "language_info": {
   "codemirror_mode": {
    "name": "ipython",
    "version": 3
   },
   "file_extension": ".py",
   "mimetype": "text/x-python",
   "name": "python",
   "nbconvert_exporter": "python",
   "pygments_lexer": "ipython3",
   "version": "3.8.8"
  }
 },
 "nbformat": 4,
 "nbformat_minor": 5
}
