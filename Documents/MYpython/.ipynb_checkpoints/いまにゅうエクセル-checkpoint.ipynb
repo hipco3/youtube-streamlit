{
 "cells": [
  {
   "cell_type": "code",
   "execution_count": 19,
   "id": "1fdee80d",
   "metadata": {},
   "outputs": [],
   "source": [
    "import pandas as pd\n",
    "from glob import glob"
   ]
  },
  {
   "cell_type": "code",
   "execution_count": 20,
   "id": "6e0e6ed6",
   "metadata": {},
   "outputs": [
    {
     "data": {
      "text/plain": [
       "['C:/Users\\\\polif/Documents/MYpython\\\\2017年7月売上実績.xlsx',\n",
       " 'C:/Users\\\\polif/Documents/MYpython\\\\2017年8月売上実績.xlsx',\n",
       " 'C:/Users\\\\polif/Documents/MYpython\\\\2017年9月売上実績.xlsx']"
      ]
     },
     "execution_count": 20,
     "metadata": {},
     "output_type": "execute_result"
    }
   ],
   "source": [
    "filepaths=glob('C:/Users\\polif/Documents/MYpython/*.xlsx')\n",
    "filepaths"
   ]
  },
  {
   "cell_type": "code",
   "execution_count": 21,
   "id": "9bcb7175",
   "metadata": {},
   "outputs": [
    {
     "data": {
      "text/plain": [
       "'C:/Users\\\\polif/Documents/MYpython\\\\2017年7月売上実績.xlsx'"
      ]
     },
     "execution_count": 21,
     "metadata": {},
     "output_type": "execute_result"
    }
   ],
   "source": [
    "filepath=filepaths[0]\n",
    "filepath"
   ]
  },
  {
   "cell_type": "code",
   "execution_count": 22,
   "id": "2d3772be",
   "metadata": {},
   "outputs": [
    {
     "data": {
      "text/html": [
       "<div>\n",
       "<style scoped>\n",
       "    .dataframe tbody tr th:only-of-type {\n",
       "        vertical-align: middle;\n",
       "    }\n",
       "\n",
       "    .dataframe tbody tr th {\n",
       "        vertical-align: top;\n",
       "    }\n",
       "\n",
       "    .dataframe thead th {\n",
       "        text-align: right;\n",
       "    }\n",
       "</style>\n",
       "<table border=\"1\" class=\"dataframe\">\n",
       "  <thead>\n",
       "    <tr style=\"text-align: right;\">\n",
       "      <th></th>\n",
       "      <th>2017年7月売上実績</th>\n",
       "      <th>Unnamed: 1</th>\n",
       "      <th>Unnamed: 2</th>\n",
       "      <th>道長</th>\n",
       "    </tr>\n",
       "  </thead>\n",
       "  <tbody>\n",
       "    <tr>\n",
       "      <th>0</th>\n",
       "      <td>NaN</td>\n",
       "      <td>NaN</td>\n",
       "      <td>NaN</td>\n",
       "      <td>N社</td>\n",
       "    </tr>\n",
       "    <tr>\n",
       "      <th>1</th>\n",
       "      <td>NaN</td>\n",
       "      <td>NaN</td>\n",
       "      <td>NaN</td>\n",
       "      <td>NaN</td>\n",
       "    </tr>\n",
       "    <tr>\n",
       "      <th>2</th>\n",
       "      <td>NaN</td>\n",
       "      <td>パソコン</td>\n",
       "      <td>プリンタ</td>\n",
       "      <td>デジタルカメラ</td>\n",
       "    </tr>\n",
       "    <tr>\n",
       "      <th>3</th>\n",
       "      <td>東京支店</td>\n",
       "      <td>10830</td>\n",
       "      <td>2150</td>\n",
       "      <td>1540</td>\n",
       "    </tr>\n",
       "    <tr>\n",
       "      <th>4</th>\n",
       "      <td>名古屋支店</td>\n",
       "      <td>7690</td>\n",
       "      <td>1650</td>\n",
       "      <td>2150</td>\n",
       "    </tr>\n",
       "    <tr>\n",
       "      <th>5</th>\n",
       "      <td>大阪支店</td>\n",
       "      <td>9850</td>\n",
       "      <td>1840</td>\n",
       "      <td>1280</td>\n",
       "    </tr>\n",
       "  </tbody>\n",
       "</table>\n",
       "</div>"
      ],
      "text/plain": [
       "  2017年7月売上実績 Unnamed: 1 Unnamed: 2       道長\n",
       "0         NaN        NaN        NaN       N社\n",
       "1         NaN        NaN        NaN      NaN\n",
       "2         NaN       パソコン       プリンタ  デジタルカメラ\n",
       "3        東京支店      10830       2150     1540\n",
       "4       名古屋支店       7690       1650     2150\n",
       "5        大阪支店       9850       1840     1280"
      ]
     },
     "execution_count": 22,
     "metadata": {},
     "output_type": "execute_result"
    }
   ],
   "source": [
    "_df=pd.read_excel(filepath)\n",
    "_df"
   ]
  },
  {
   "cell_type": "code",
   "execution_count": 23,
   "id": "b3fba253",
   "metadata": {},
   "outputs": [
    {
     "data": {
      "text/plain": [
       "2017年7月売上実績        NaN\n",
       "Unnamed: 1        パソコン\n",
       "Unnamed: 2        プリンタ\n",
       "道長             デジタルカメラ\n",
       "Name: 2, dtype: object"
      ]
     },
     "execution_count": 23,
     "metadata": {},
     "output_type": "execute_result"
    }
   ],
   "source": [
    "columns=_df.iloc[2,[0,1,2,3]]\n",
    "columns"
   ]
  },
  {
   "cell_type": "code",
   "execution_count": 24,
   "id": "b7f15a01",
   "metadata": {},
   "outputs": [],
   "source": [
    "df=_df.iloc[3:7,[0,1,2,3]]\n"
   ]
  },
  {
   "cell_type": "code",
   "execution_count": 25,
   "id": "a12b793a",
   "metadata": {},
   "outputs": [
    {
     "data": {
      "text/html": [
       "<div>\n",
       "<style scoped>\n",
       "    .dataframe tbody tr th:only-of-type {\n",
       "        vertical-align: middle;\n",
       "    }\n",
       "\n",
       "    .dataframe tbody tr th {\n",
       "        vertical-align: top;\n",
       "    }\n",
       "\n",
       "    .dataframe thead th {\n",
       "        text-align: right;\n",
       "    }\n",
       "</style>\n",
       "<table border=\"1\" class=\"dataframe\">\n",
       "  <thead>\n",
       "    <tr style=\"text-align: right;\">\n",
       "      <th></th>\n",
       "      <th>2017年7月売上実績</th>\n",
       "      <th>Unnamed: 1</th>\n",
       "      <th>Unnamed: 2</th>\n",
       "      <th>道長</th>\n",
       "    </tr>\n",
       "  </thead>\n",
       "  <tbody>\n",
       "    <tr>\n",
       "      <th>3</th>\n",
       "      <td>東京支店</td>\n",
       "      <td>10830</td>\n",
       "      <td>2150</td>\n",
       "      <td>1540</td>\n",
       "    </tr>\n",
       "    <tr>\n",
       "      <th>4</th>\n",
       "      <td>名古屋支店</td>\n",
       "      <td>7690</td>\n",
       "      <td>1650</td>\n",
       "      <td>2150</td>\n",
       "    </tr>\n",
       "    <tr>\n",
       "      <th>5</th>\n",
       "      <td>大阪支店</td>\n",
       "      <td>9850</td>\n",
       "      <td>1840</td>\n",
       "      <td>1280</td>\n",
       "    </tr>\n",
       "  </tbody>\n",
       "</table>\n",
       "</div>"
      ],
      "text/plain": [
       "  2017年7月売上実績 Unnamed: 1 Unnamed: 2    道長\n",
       "3        東京支店      10830       2150  1540\n",
       "4       名古屋支店       7690       1650  2150\n",
       "5        大阪支店       9850       1840  1280"
      ]
     },
     "execution_count": 25,
     "metadata": {},
     "output_type": "execute_result"
    }
   ],
   "source": [
    "df"
   ]
  },
  {
   "cell_type": "code",
   "execution_count": 26,
   "id": "d3581cdd",
   "metadata": {},
   "outputs": [],
   "source": [
    "df.columns=columns"
   ]
  },
  {
   "cell_type": "code",
   "execution_count": 27,
   "id": "31476912",
   "metadata": {},
   "outputs": [
    {
     "data": {
      "text/html": [
       "<div>\n",
       "<style scoped>\n",
       "    .dataframe tbody tr th:only-of-type {\n",
       "        vertical-align: middle;\n",
       "    }\n",
       "\n",
       "    .dataframe tbody tr th {\n",
       "        vertical-align: top;\n",
       "    }\n",
       "\n",
       "    .dataframe thead th {\n",
       "        text-align: right;\n",
       "    }\n",
       "</style>\n",
       "<table border=\"1\" class=\"dataframe\">\n",
       "  <thead>\n",
       "    <tr style=\"text-align: right;\">\n",
       "      <th>2</th>\n",
       "      <th>NaN</th>\n",
       "      <th>パソコン</th>\n",
       "      <th>プリンタ</th>\n",
       "      <th>デジタルカメラ</th>\n",
       "    </tr>\n",
       "  </thead>\n",
       "  <tbody>\n",
       "    <tr>\n",
       "      <th>3</th>\n",
       "      <td>東京支店</td>\n",
       "      <td>10830</td>\n",
       "      <td>2150</td>\n",
       "      <td>1540</td>\n",
       "    </tr>\n",
       "    <tr>\n",
       "      <th>4</th>\n",
       "      <td>名古屋支店</td>\n",
       "      <td>7690</td>\n",
       "      <td>1650</td>\n",
       "      <td>2150</td>\n",
       "    </tr>\n",
       "    <tr>\n",
       "      <th>5</th>\n",
       "      <td>大阪支店</td>\n",
       "      <td>9850</td>\n",
       "      <td>1840</td>\n",
       "      <td>1280</td>\n",
       "    </tr>\n",
       "  </tbody>\n",
       "</table>\n",
       "</div>"
      ],
      "text/plain": [
       "2    NaN   パソコン  プリンタ デジタルカメラ\n",
       "3   東京支店  10830  2150    1540\n",
       "4  名古屋支店   7690  1650    2150\n",
       "5   大阪支店   9850  1840    1280"
      ]
     },
     "execution_count": 27,
     "metadata": {},
     "output_type": "execute_result"
    }
   ],
   "source": [
    "df"
   ]
  },
  {
   "cell_type": "code",
   "execution_count": 28,
   "id": "0741156a",
   "metadata": {},
   "outputs": [],
   "source": [
    "df['企業名']=_df.iloc[0,3]\n"
   ]
  },
  {
   "cell_type": "code",
   "execution_count": 29,
   "id": "112453ea",
   "metadata": {},
   "outputs": [
    {
     "data": {
      "text/html": [
       "<div>\n",
       "<style scoped>\n",
       "    .dataframe tbody tr th:only-of-type {\n",
       "        vertical-align: middle;\n",
       "    }\n",
       "\n",
       "    .dataframe tbody tr th {\n",
       "        vertical-align: top;\n",
       "    }\n",
       "\n",
       "    .dataframe thead th {\n",
       "        text-align: right;\n",
       "    }\n",
       "</style>\n",
       "<table border=\"1\" class=\"dataframe\">\n",
       "  <thead>\n",
       "    <tr style=\"text-align: right;\">\n",
       "      <th>2</th>\n",
       "      <th>NaN</th>\n",
       "      <th>パソコン</th>\n",
       "      <th>プリンタ</th>\n",
       "      <th>デジタルカメラ</th>\n",
       "      <th>企業名</th>\n",
       "    </tr>\n",
       "  </thead>\n",
       "  <tbody>\n",
       "    <tr>\n",
       "      <th>3</th>\n",
       "      <td>東京支店</td>\n",
       "      <td>10830</td>\n",
       "      <td>2150</td>\n",
       "      <td>1540</td>\n",
       "      <td>N社</td>\n",
       "    </tr>\n",
       "    <tr>\n",
       "      <th>4</th>\n",
       "      <td>名古屋支店</td>\n",
       "      <td>7690</td>\n",
       "      <td>1650</td>\n",
       "      <td>2150</td>\n",
       "      <td>N社</td>\n",
       "    </tr>\n",
       "    <tr>\n",
       "      <th>5</th>\n",
       "      <td>大阪支店</td>\n",
       "      <td>9850</td>\n",
       "      <td>1840</td>\n",
       "      <td>1280</td>\n",
       "      <td>N社</td>\n",
       "    </tr>\n",
       "  </tbody>\n",
       "</table>\n",
       "</div>"
      ],
      "text/plain": [
       "2    NaN   パソコン  プリンタ デジタルカメラ 企業名\n",
       "3   東京支店  10830  2150    1540  N社\n",
       "4  名古屋支店   7690  1650    2150  N社\n",
       "5   大阪支店   9850  1840    1280  N社"
      ]
     },
     "execution_count": 29,
     "metadata": {},
     "output_type": "execute_result"
    }
   ],
   "source": [
    "df"
   ]
  },
  {
   "cell_type": "code",
   "execution_count": 30,
   "id": "d7e3e970",
   "metadata": {},
   "outputs": [],
   "source": [
    "def extract(filepath):\n",
    "    _df=pd.read_excel(filepath)\n",
    "    columns=_df.iloc[2,[0,1,2,3]]\n",
    "    df=_df.iloc[3:6,[0,1,2,3]]\n",
    "    df.columns=columns\n",
    "    df['企業名']=_df.iloc[0,3]\n",
    "    return df"
   ]
  },
  {
   "cell_type": "code",
   "execution_count": 31,
   "id": "da4981d6",
   "metadata": {},
   "outputs": [
    {
     "data": {
      "text/html": [
       "<div>\n",
       "<style scoped>\n",
       "    .dataframe tbody tr th:only-of-type {\n",
       "        vertical-align: middle;\n",
       "    }\n",
       "\n",
       "    .dataframe tbody tr th {\n",
       "        vertical-align: top;\n",
       "    }\n",
       "\n",
       "    .dataframe thead th {\n",
       "        text-align: right;\n",
       "    }\n",
       "</style>\n",
       "<table border=\"1\" class=\"dataframe\">\n",
       "  <thead>\n",
       "    <tr style=\"text-align: right;\">\n",
       "      <th>2</th>\n",
       "      <th>NaN</th>\n",
       "      <th>パソコン</th>\n",
       "      <th>プリンタ</th>\n",
       "      <th>デジタルカメラ</th>\n",
       "      <th>企業名</th>\n",
       "    </tr>\n",
       "  </thead>\n",
       "  <tbody>\n",
       "    <tr>\n",
       "      <th>3</th>\n",
       "      <td>東京支店</td>\n",
       "      <td>10830</td>\n",
       "      <td>2150</td>\n",
       "      <td>1540</td>\n",
       "      <td>N社</td>\n",
       "    </tr>\n",
       "    <tr>\n",
       "      <th>4</th>\n",
       "      <td>名古屋支店</td>\n",
       "      <td>7690</td>\n",
       "      <td>1650</td>\n",
       "      <td>2150</td>\n",
       "      <td>N社</td>\n",
       "    </tr>\n",
       "    <tr>\n",
       "      <th>5</th>\n",
       "      <td>大阪支店</td>\n",
       "      <td>9850</td>\n",
       "      <td>1840</td>\n",
       "      <td>1280</td>\n",
       "      <td>N社</td>\n",
       "    </tr>\n",
       "  </tbody>\n",
       "</table>\n",
       "</div>"
      ],
      "text/plain": [
       "2    NaN   パソコン  プリンタ デジタルカメラ 企業名\n",
       "3   東京支店  10830  2150    1540  N社\n",
       "4  名古屋支店   7690  1650    2150  N社\n",
       "5   大阪支店   9850  1840    1280  N社"
      ]
     },
     "execution_count": 31,
     "metadata": {},
     "output_type": "execute_result"
    }
   ],
   "source": [
    "df=extract(filepath)\n",
    "df"
   ]
  },
  {
   "cell_type": "code",
   "execution_count": 32,
   "id": "f041d7b6",
   "metadata": {},
   "outputs": [
    {
     "data": {
      "text/html": [
       "<div>\n",
       "<style scoped>\n",
       "    .dataframe tbody tr th:only-of-type {\n",
       "        vertical-align: middle;\n",
       "    }\n",
       "\n",
       "    .dataframe tbody tr th {\n",
       "        vertical-align: top;\n",
       "    }\n",
       "\n",
       "    .dataframe thead th {\n",
       "        text-align: right;\n",
       "    }\n",
       "</style>\n",
       "<table border=\"1\" class=\"dataframe\">\n",
       "  <thead>\n",
       "    <tr style=\"text-align: right;\">\n",
       "      <th></th>\n",
       "      <th>0</th>\n",
       "      <th>1</th>\n",
       "      <th>2</th>\n",
       "    </tr>\n",
       "  </thead>\n",
       "  <tbody>\n",
       "    <tr>\n",
       "      <th>0</th>\n",
       "      <td>1</td>\n",
       "      <td>2</td>\n",
       "      <td>3</td>\n",
       "    </tr>\n",
       "    <tr>\n",
       "      <th>1</th>\n",
       "      <td>4</td>\n",
       "      <td>5</td>\n",
       "      <td>6</td>\n",
       "    </tr>\n",
       "  </tbody>\n",
       "</table>\n",
       "</div>"
      ],
      "text/plain": [
       "   0  1  2\n",
       "0  1  2  3\n",
       "1  4  5  6"
      ]
     },
     "execution_count": 32,
     "metadata": {},
     "output_type": "execute_result"
    }
   ],
   "source": [
    "sample_1=pd.DataFrame([[1,2,3],[4,5,6]])\n",
    "sample_2=pd.DataFrame([[-1,-5,-7],['d','j','m']])\n",
    "sample_1"
   ]
  },
  {
   "cell_type": "code",
   "execution_count": 33,
   "id": "f9d11faf",
   "metadata": {},
   "outputs": [
    {
     "data": {
      "text/html": [
       "<div>\n",
       "<style scoped>\n",
       "    .dataframe tbody tr th:only-of-type {\n",
       "        vertical-align: middle;\n",
       "    }\n",
       "\n",
       "    .dataframe tbody tr th {\n",
       "        vertical-align: top;\n",
       "    }\n",
       "\n",
       "    .dataframe thead th {\n",
       "        text-align: right;\n",
       "    }\n",
       "</style>\n",
       "<table border=\"1\" class=\"dataframe\">\n",
       "  <thead>\n",
       "    <tr style=\"text-align: right;\">\n",
       "      <th></th>\n",
       "      <th>0</th>\n",
       "      <th>1</th>\n",
       "      <th>2</th>\n",
       "      <th>0</th>\n",
       "      <th>1</th>\n",
       "      <th>2</th>\n",
       "    </tr>\n",
       "  </thead>\n",
       "  <tbody>\n",
       "    <tr>\n",
       "      <th>0</th>\n",
       "      <td>1</td>\n",
       "      <td>2</td>\n",
       "      <td>3</td>\n",
       "      <td>-1</td>\n",
       "      <td>-5</td>\n",
       "      <td>-7</td>\n",
       "    </tr>\n",
       "    <tr>\n",
       "      <th>1</th>\n",
       "      <td>4</td>\n",
       "      <td>5</td>\n",
       "      <td>6</td>\n",
       "      <td>d</td>\n",
       "      <td>j</td>\n",
       "      <td>m</td>\n",
       "    </tr>\n",
       "  </tbody>\n",
       "</table>\n",
       "</div>"
      ],
      "text/plain": [
       "   0  1  2   0   1   2\n",
       "0  1  2  3  -1  -5  -7\n",
       "1  4  5  6   d   j   m"
      ]
     },
     "execution_count": 33,
     "metadata": {},
     "output_type": "execute_result"
    }
   ],
   "source": [
    "pd.concat([sample_1,sample_2],axis=1)"
   ]
  },
  {
   "cell_type": "code",
   "execution_count": 34,
   "id": "483d388f",
   "metadata": {},
   "outputs": [],
   "source": [
    "df=pd.DataFrame()\n",
    "for filepath in filepaths:\n",
    "    _df=extract(filepath)\n",
    "    df=pd.concat([df,_df])"
   ]
  },
  {
   "cell_type": "code",
   "execution_count": 35,
   "id": "abaf40f9",
   "metadata": {},
   "outputs": [
    {
     "data": {
      "text/html": [
       "<div>\n",
       "<style scoped>\n",
       "    .dataframe tbody tr th:only-of-type {\n",
       "        vertical-align: middle;\n",
       "    }\n",
       "\n",
       "    .dataframe tbody tr th {\n",
       "        vertical-align: top;\n",
       "    }\n",
       "\n",
       "    .dataframe thead th {\n",
       "        text-align: right;\n",
       "    }\n",
       "</style>\n",
       "<table border=\"1\" class=\"dataframe\">\n",
       "  <thead>\n",
       "    <tr style=\"text-align: right;\">\n",
       "      <th>2</th>\n",
       "      <th>NaN</th>\n",
       "      <th>パソコン</th>\n",
       "      <th>プリンタ</th>\n",
       "      <th>デジタルカメラ</th>\n",
       "      <th>企業名</th>\n",
       "    </tr>\n",
       "  </thead>\n",
       "  <tbody>\n",
       "    <tr>\n",
       "      <th>3</th>\n",
       "      <td>東京支店</td>\n",
       "      <td>10830</td>\n",
       "      <td>2150</td>\n",
       "      <td>1540</td>\n",
       "      <td>N社</td>\n",
       "    </tr>\n",
       "    <tr>\n",
       "      <th>4</th>\n",
       "      <td>名古屋支店</td>\n",
       "      <td>7690</td>\n",
       "      <td>1650</td>\n",
       "      <td>2150</td>\n",
       "      <td>N社</td>\n",
       "    </tr>\n",
       "    <tr>\n",
       "      <th>5</th>\n",
       "      <td>大阪支店</td>\n",
       "      <td>9850</td>\n",
       "      <td>1840</td>\n",
       "      <td>1280</td>\n",
       "      <td>N社</td>\n",
       "    </tr>\n",
       "    <tr>\n",
       "      <th>3</th>\n",
       "      <td>東京支店</td>\n",
       "      <td>12580</td>\n",
       "      <td>3200</td>\n",
       "      <td>2850</td>\n",
       "      <td>P社</td>\n",
       "    </tr>\n",
       "    <tr>\n",
       "      <th>4</th>\n",
       "      <td>名古屋支店</td>\n",
       "      <td>10950</td>\n",
       "      <td>2100</td>\n",
       "      <td>2280</td>\n",
       "      <td>P社</td>\n",
       "    </tr>\n",
       "    <tr>\n",
       "      <th>5</th>\n",
       "      <td>大阪支店</td>\n",
       "      <td>12450</td>\n",
       "      <td>2850</td>\n",
       "      <td>2480</td>\n",
       "      <td>P社</td>\n",
       "    </tr>\n",
       "    <tr>\n",
       "      <th>3</th>\n",
       "      <td>東京支店</td>\n",
       "      <td>11250</td>\n",
       "      <td>2500</td>\n",
       "      <td>2100</td>\n",
       "      <td>D社</td>\n",
       "    </tr>\n",
       "    <tr>\n",
       "      <th>4</th>\n",
       "      <td>名古屋支店</td>\n",
       "      <td>9500</td>\n",
       "      <td>1750</td>\n",
       "      <td>1950</td>\n",
       "      <td>D社</td>\n",
       "    </tr>\n",
       "    <tr>\n",
       "      <th>5</th>\n",
       "      <td>大阪支店</td>\n",
       "      <td>13450</td>\n",
       "      <td>3250</td>\n",
       "      <td>2550</td>\n",
       "      <td>D社</td>\n",
       "    </tr>\n",
       "  </tbody>\n",
       "</table>\n",
       "</div>"
      ],
      "text/plain": [
       "2    NaN   パソコン  プリンタ デジタルカメラ 企業名\n",
       "3   東京支店  10830  2150    1540  N社\n",
       "4  名古屋支店   7690  1650    2150  N社\n",
       "5   大阪支店   9850  1840    1280  N社\n",
       "3   東京支店  12580  3200    2850  P社\n",
       "4  名古屋支店  10950  2100    2280  P社\n",
       "5   大阪支店  12450  2850    2480  P社\n",
       "3   東京支店  11250  2500    2100  D社\n",
       "4  名古屋支店   9500  1750    1950  D社\n",
       "5   大阪支店  13450  3250    2550  D社"
      ]
     },
     "execution_count": 35,
     "metadata": {},
     "output_type": "execute_result"
    }
   ],
   "source": [
    "df"
   ]
  },
  {
   "cell_type": "code",
   "execution_count": 36,
   "id": "d31ed49e",
   "metadata": {},
   "outputs": [
    {
     "data": {
      "text/html": [
       "<div>\n",
       "<style scoped>\n",
       "    .dataframe tbody tr th:only-of-type {\n",
       "        vertical-align: middle;\n",
       "    }\n",
       "\n",
       "    .dataframe tbody tr th {\n",
       "        vertical-align: top;\n",
       "    }\n",
       "\n",
       "    .dataframe thead th {\n",
       "        text-align: right;\n",
       "    }\n",
       "</style>\n",
       "<table border=\"1\" class=\"dataframe\">\n",
       "  <thead>\n",
       "    <tr style=\"text-align: right;\">\n",
       "      <th>2</th>\n",
       "      <th>NaN</th>\n",
       "      <th>企業名</th>\n",
       "      <th>パソコン</th>\n",
       "      <th>プリンタ</th>\n",
       "      <th>デジタルカメラ</th>\n",
       "    </tr>\n",
       "  </thead>\n",
       "  <tbody>\n",
       "    <tr>\n",
       "      <th>3</th>\n",
       "      <td>東京支店</td>\n",
       "      <td>N社</td>\n",
       "      <td>10830</td>\n",
       "      <td>2150</td>\n",
       "      <td>1540</td>\n",
       "    </tr>\n",
       "    <tr>\n",
       "      <th>4</th>\n",
       "      <td>名古屋支店</td>\n",
       "      <td>N社</td>\n",
       "      <td>7690</td>\n",
       "      <td>1650</td>\n",
       "      <td>2150</td>\n",
       "    </tr>\n",
       "    <tr>\n",
       "      <th>5</th>\n",
       "      <td>大阪支店</td>\n",
       "      <td>N社</td>\n",
       "      <td>9850</td>\n",
       "      <td>1840</td>\n",
       "      <td>1280</td>\n",
       "    </tr>\n",
       "    <tr>\n",
       "      <th>3</th>\n",
       "      <td>東京支店</td>\n",
       "      <td>P社</td>\n",
       "      <td>12580</td>\n",
       "      <td>3200</td>\n",
       "      <td>2850</td>\n",
       "    </tr>\n",
       "    <tr>\n",
       "      <th>4</th>\n",
       "      <td>名古屋支店</td>\n",
       "      <td>P社</td>\n",
       "      <td>10950</td>\n",
       "      <td>2100</td>\n",
       "      <td>2280</td>\n",
       "    </tr>\n",
       "    <tr>\n",
       "      <th>5</th>\n",
       "      <td>大阪支店</td>\n",
       "      <td>P社</td>\n",
       "      <td>12450</td>\n",
       "      <td>2850</td>\n",
       "      <td>2480</td>\n",
       "    </tr>\n",
       "    <tr>\n",
       "      <th>3</th>\n",
       "      <td>東京支店</td>\n",
       "      <td>D社</td>\n",
       "      <td>11250</td>\n",
       "      <td>2500</td>\n",
       "      <td>2100</td>\n",
       "    </tr>\n",
       "    <tr>\n",
       "      <th>4</th>\n",
       "      <td>名古屋支店</td>\n",
       "      <td>D社</td>\n",
       "      <td>9500</td>\n",
       "      <td>1750</td>\n",
       "      <td>1950</td>\n",
       "    </tr>\n",
       "    <tr>\n",
       "      <th>5</th>\n",
       "      <td>大阪支店</td>\n",
       "      <td>D社</td>\n",
       "      <td>13450</td>\n",
       "      <td>3250</td>\n",
       "      <td>2550</td>\n",
       "    </tr>\n",
       "  </tbody>\n",
       "</table>\n",
       "</div>"
      ],
      "text/plain": [
       "2    NaN 企業名   パソコン  プリンタ デジタルカメラ\n",
       "3   東京支店  N社  10830  2150    1540\n",
       "4  名古屋支店  N社   7690  1650    2150\n",
       "5   大阪支店  N社   9850  1840    1280\n",
       "3   東京支店  P社  12580  3200    2850\n",
       "4  名古屋支店  P社  10950  2100    2280\n",
       "5   大阪支店  P社  12450  2850    2480\n",
       "3   東京支店  D社  11250  2500    2100\n",
       "4  名古屋支店  D社   9500  1750    1950\n",
       "5   大阪支店  D社  13450  3250    2550"
      ]
     },
     "execution_count": 36,
     "metadata": {},
     "output_type": "execute_result"
    }
   ],
   "source": [
    "df=df.iloc[:,[0,4,1,2,3]]\n",
    "df"
   ]
  },
  {
   "cell_type": "code",
   "execution_count": 41,
   "id": "2d0edfe7",
   "metadata": {},
   "outputs": [],
   "source": [
    "df.to_excel('C:/Users\\polif/Documents/MYpython/all_data.xlsx',index=False)"
   ]
  },
  {
   "cell_type": "code",
   "execution_count": null,
   "id": "87b6a82e",
   "metadata": {},
   "outputs": [],
   "source": []
  }
 ],
 "metadata": {
  "kernelspec": {
   "display_name": "Python 3",
   "language": "python",
   "name": "python3"
  },
  "language_info": {
   "codemirror_mode": {
    "name": "ipython",
    "version": 3
   },
   "file_extension": ".py",
   "mimetype": "text/x-python",
   "name": "python",
   "nbconvert_exporter": "python",
   "pygments_lexer": "ipython3",
   "version": "3.8.8"
  }
 },
 "nbformat": 4,
 "nbformat_minor": 5
}
